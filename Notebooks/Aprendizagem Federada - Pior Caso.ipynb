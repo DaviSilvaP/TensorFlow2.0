{
 "cells": [
  {
   "cell_type": "code",
   "execution_count": 1,
   "metadata": {},
   "outputs": [
    {
     "name": "stdout",
     "output_type": "stream",
     "text": [
      "Requirement already satisfied: sklearn in /usr/local/lib/python3.6/dist-packages (0.0)\n",
      "Requirement already satisfied: scikit-learn in /usr/local/lib/python3.6/dist-packages (from sklearn) (0.24.0)\n",
      "Requirement already satisfied: threadpoolctl>=2.0.0 in /usr/local/lib/python3.6/dist-packages (from scikit-learn->sklearn) (2.1.0)\n",
      "Requirement already satisfied: joblib>=0.11 in /usr/local/lib/python3.6/dist-packages (from scikit-learn->sklearn) (1.0.0)\n",
      "Requirement already satisfied: numpy>=1.13.3 in /usr/local/lib/python3.6/dist-packages (from scikit-learn->sklearn) (1.19.4)\n",
      "Requirement already satisfied: scipy>=0.19.1 in /usr/local/lib/python3.6/dist-packages (from scikit-learn->sklearn) (1.5.4)\n",
      "\u001b[33mWARNING: You are using pip version 20.2.4; however, version 20.3.3 is available.\n",
      "You should consider upgrading via the '/usr/bin/python3 -m pip install --upgrade pip' command.\u001b[0m\n"
     ]
    }
   ],
   "source": [
    "!pip install sklearn"
   ]
  },
  {
   "cell_type": "code",
   "execution_count": 2,
   "metadata": {},
   "outputs": [],
   "source": [
    "import numpy as np\n",
    "import tensorflow as tf\n",
    "import matplotlib.pyplot as plt\n",
    "\n",
    "from tensorflow.keras.datasets import cifar10\n",
    "from sklearn.preprocessing import LabelBinarizer"
   ]
  },
  {
   "cell_type": "code",
   "execution_count": 3,
   "metadata": {},
   "outputs": [],
   "source": [
    "from tensorflow.compat.v1 import ConfigProto\n",
    "from tensorflow.compat.v1 import InteractiveSession\n",
    "\n",
    "config = ConfigProto()\n",
    "config.gpu_options.allow_growth = True\n",
    "session = InteractiveSession(config=config)"
   ]
  },
  {
   "cell_type": "code",
   "execution_count": 4,
   "metadata": {},
   "outputs": [],
   "source": [
    "class_names = ['airplane', 'automobile', 'bird', 'cat', 'deer', 'dog', 'frog', 'horse', 'ship', 'truck']"
   ]
  },
  {
   "cell_type": "code",
   "execution_count": 5,
   "metadata": {},
   "outputs": [],
   "source": [
    "(X_train, y_train), (X_test, y_test) = cifar10.load_data()"
   ]
  },
  {
   "cell_type": "code",
   "execution_count": 6,
   "metadata": {},
   "outputs": [],
   "source": [
    "X_train = X_train / 255.0\n",
    "X_test = X_test / 255.0"
   ]
  },
  {
   "cell_type": "code",
   "execution_count": 7,
   "metadata": {},
   "outputs": [
    {
     "data": {
      "text/plain": [
       "<matplotlib.image.AxesImage at 0x7f31980459b0>"
      ]
     },
     "execution_count": 7,
     "metadata": {},
     "output_type": "execute_result"
    },
    {
     "data": {
      "image/png": "[encoded data removed]",
      "text/plain": [
       "<Figure size 432x288 with 1 Axes>"
      ]
     },
     "metadata": {
      "needs_background": "light"
     },
     "output_type": "display_data"
    }
   ],
   "source": [
    "plt.imshow(X_test[1])"
   ]
  },
  {
   "cell_type": "code",
   "execution_count": 8,
   "metadata": {},
   "outputs": [
    {
     "data": {
      "text/plain": [
       "(array([0, 1, 2, 3, 4, 5, 6, 7, 8, 9], dtype=uint8),\n",
       " array([5000, 5000, 5000, 5000, 5000, 5000, 5000, 5000, 5000, 5000]))"
      ]
     },
     "execution_count": 8,
     "metadata": {},
     "output_type": "execute_result"
    }
   ],
   "source": [
    "np.unique(y_train, return_counts=True)"
   ]
  },
  {
   "cell_type": "code",
   "execution_count": 9,
   "metadata": {},
   "outputs": [],
   "source": [
    "lr = 0.01 \n",
    "comms_round = 100\n",
    "loss='categorical_crossentropy'\n",
    "metrics = ['accuracy']\n",
    "optimizer = tf.keras.optimizers.SGD(lr=lr, decay= lr/comms_round, momentum=0.9)    "
   ]
  },
  {
   "cell_type": "code",
   "execution_count": 10,
   "metadata": {},
   "outputs": [],
   "source": [
    "n_clients = np.unique(y_train).shape[0] // 2 # 5\n",
    "lb = LabelBinarizer()\n",
    "y_test = lb.fit_transform(y_test)"
   ]
  },
  {
   "cell_type": "code",
   "execution_count": 11,
   "metadata": {},
   "outputs": [],
   "source": [
    "def create_clients(X, y, n_clients):\n",
    "\n",
    "    indexes = [np.where((y_train == x) | (y_train == x+1))[0] for x in range(0,10,2)]\n",
    "    y = lb.fit_transform(y_train) \n",
    "    \n",
    "    X_slices = np.array([X[indexes[i]] for i in range(n_clients)], dtype='object').astype('float32')\n",
    "    y_slices = np.array([y[indexes[i]] for i in range(n_clients)], dtype='object').astype('float32')\n",
    "    return X_slices, y_slices"
   ]
  },
  {
   "cell_type": "code",
   "execution_count": 12,
   "metadata": {},
   "outputs": [],
   "source": [
    "class CNN:\n",
    "    def build(self):\n",
    "        model = tf.keras.models.Sequential()\n",
    "        model.add(tf.keras.layers.Conv2D(filters=32, kernel_size=3, padding='same', activation='relu', input_shape=[32,32,3]))\n",
    "        model.add(tf.keras.layers.Conv2D(filters=32, kernel_size=3, padding='same', activation='relu'))\n",
    "        model.add(tf.keras.layers.MaxPool2D(pool_size=2, strides=2, padding='valid'))\n",
    "        model.add(tf.keras.layers.Conv2D(filters=64, kernel_size=3, padding='same', activation='relu'))\n",
    "        model.add(tf.keras.layers.Conv2D(filters=64, kernel_size=3, padding='same', activation='relu'))\n",
    "        model.add(tf.keras.layers.MaxPool2D(pool_size=2, strides=2, padding='valid'))\n",
    "        model.add(tf.keras.layers.Flatten())\n",
    "        model.add(tf.keras.layers.Dense(units=128, activation='relu'))\n",
    "        model.add(tf.keras.layers.Dropout(0.2))\n",
    "        model.add(tf.keras.layers.Dense(units=64, activation='tanh'))\n",
    "        model.add(tf.keras.layers.Dropout(0.2))\n",
    "        model.add(tf.keras.layers.Dense(units=64, activation='relu'))\n",
    "        model.add(tf.keras.layers.Dropout(0.2))\n",
    "        model.add(tf.keras.layers.Dense(units=32, activation='tanh'))\n",
    "        model.add(tf.keras.layers.Dropout(0.2))\n",
    "        model.add(tf.keras.layers.Dense(units=10, activation='softmax'))\n",
    "        return model"
   ]
  },
  {
   "cell_type": "code",
   "execution_count": 13,
   "metadata": {},
   "outputs": [],
   "source": [
    "def NN_update(local_data, global_data, model):    \n",
    "    weights = (local_data / global_data) * np.array(model.get_weights(), dtype='object')\n",
    "    \n",
    "    return weights"
   ]
  },
  {
   "cell_type": "code",
   "execution_count": 14,
   "metadata": {},
   "outputs": [
    {
     "name": "stderr",
     "output_type": "stream",
     "text": [
      "/usr/local/lib/python3.6/dist-packages/ipykernel_launcher.py:25: VisibleDeprecationWarning: Creating an ndarray from ragged nested sequences (which is a list-or-tuple of lists-or-tuples-or ndarrays with different lengths or shapes) is deprecated. If you meant to do this, you must specify 'dtype=object' when creating the ndarray\n"
     ]
    },
    {
     "name": "stdout",
     "output_type": "stream",
     "text": [
      "313/313 [==============================] - 1s 2ms/step - loss: 2.7168 - accuracy: 0.1002\n",
      "Round 0, Loss: 2.703, Accuracy: 0.100\n",
      "313/313 [==============================] - 1s 2ms/step - loss: 3.4824 - accuracy: 0.1004\n",
      "Round 1, Loss: 3.482, Accuracy: 0.100\n",
      "313/313 [==============================] - 1s 2ms/step - loss: 2.8451 - accuracy: 0.0997\n",
      "Round 2, Loss: 2.845, Accuracy: 0.100\n",
      "313/313 [==============================] - 1s 2ms/step - loss: 2.5580 - accuracy: 0.1204\n",
      "Round 3, Loss: 2.558, Accuracy: 0.120\n",
      "313/313 [==============================] - 1s 2ms/step - loss: 2.5247 - accuracy: 0.1137\n",
      "Round 4, Loss: 2.525, Accuracy: 0.114\n",
      "313/313 [==============================] - 1s 2ms/step - loss: 3.0610 - accuracy: 0.1029\n",
      "Round 5, Loss: 3.061, Accuracy: 0.103\n",
      "313/313 [==============================] - 1s 2ms/step - loss: 2.6289 - accuracy: 0.1634\n",
      "Round 6, Loss: 2.629, Accuracy: 0.163\n",
      "313/313 [==============================] - 1s 2ms/step - loss: 2.5697 - accuracy: 0.1232\n",
      "Round 7, Loss: 2.570, Accuracy: 0.123\n",
      "313/313 [==============================] - 1s 2ms/step - loss: 2.3927 - accuracy: 0.1662\n",
      "Round 8, Loss: 2.393, Accuracy: 0.166\n",
      "313/313 [==============================] - 1s 2ms/step - loss: 2.3613 - accuracy: 0.1408\n",
      "Round 9, Loss: 2.361, Accuracy: 0.141\n",
      "313/313 [==============================] - 1s 2ms/step - loss: 2.3012 - accuracy: 0.2170\n",
      "Round 10, Loss: 2.301, Accuracy: 0.217\n",
      "313/313 [==============================] - 1s 2ms/step - loss: 2.4525 - accuracy: 0.2056\n",
      "Round 11, Loss: 2.452, Accuracy: 0.206\n",
      "313/313 [==============================] - 1s 2ms/step - loss: 2.4668 - accuracy: 0.2135\n",
      "Round 12, Loss: 2.467, Accuracy: 0.213\n",
      "313/313 [==============================] - 1s 2ms/step - loss: 2.2743 - accuracy: 0.2187\n",
      "Round 13, Loss: 2.274, Accuracy: 0.219\n",
      "313/313 [==============================] - 1s 2ms/step - loss: 2.6302 - accuracy: 0.1648\n",
      "Round 14, Loss: 2.630, Accuracy: 0.165\n",
      "313/313 [==============================] - 1s 2ms/step - loss: 2.2537 - accuracy: 0.2540\n",
      "Round 15, Loss: 2.254, Accuracy: 0.254\n",
      "313/313 [==============================] - 1s 2ms/step - loss: 2.6892 - accuracy: 0.1499\n",
      "Round 16, Loss: 2.689, Accuracy: 0.150\n",
      "313/313 [==============================] - 1s 2ms/step - loss: 2.2793 - accuracy: 0.2693\n",
      "Round 17, Loss: 2.279, Accuracy: 0.269\n",
      "313/313 [==============================] - 1s 2ms/step - loss: 2.1884 - accuracy: 0.2385\n",
      "Round 18, Loss: 2.188, Accuracy: 0.238\n",
      "313/313 [==============================] - 1s 2ms/step - loss: 2.1201 - accuracy: 0.2745\n",
      "Round 19, Loss: 2.120, Accuracy: 0.275\n",
      "313/313 [==============================] - 1s 2ms/step - loss: 2.2794 - accuracy: 0.2383\n",
      "Round 20, Loss: 2.279, Accuracy: 0.238\n",
      "313/313 [==============================] - 1s 2ms/step - loss: 2.1395 - accuracy: 0.2660\n",
      "Round 21, Loss: 2.139, Accuracy: 0.266\n",
      "313/313 [==============================] - 1s 2ms/step - loss: 2.3565 - accuracy: 0.2576\n",
      "Round 22, Loss: 2.357, Accuracy: 0.258\n",
      "313/313 [==============================] - 1s 2ms/step - loss: 2.1966 - accuracy: 0.2492\n",
      "Round 23, Loss: 2.197, Accuracy: 0.249\n",
      "313/313 [==============================] - 1s 2ms/step - loss: 2.1952 - accuracy: 0.2668\n",
      "Round 24, Loss: 2.195, Accuracy: 0.267\n",
      "313/313 [==============================] - 1s 2ms/step - loss: 1.9819 - accuracy: 0.3056\n",
      "Round 25, Loss: 1.982, Accuracy: 0.306\n",
      "313/313 [==============================] - 1s 2ms/step - loss: 2.3044 - accuracy: 0.2425\n",
      "Round 26, Loss: 2.304, Accuracy: 0.243\n",
      "313/313 [==============================] - 1s 2ms/step - loss: 2.1229 - accuracy: 0.3468\n",
      "Round 27, Loss: 2.123, Accuracy: 0.347\n",
      "313/313 [==============================] - 1s 2ms/step - loss: 2.1219 - accuracy: 0.2629\n",
      "Round 28, Loss: 2.122, Accuracy: 0.263\n",
      "313/313 [==============================] - 1s 2ms/step - loss: 2.0810 - accuracy: 0.3530\n",
      "Round 29, Loss: 2.081, Accuracy: 0.353\n",
      "313/313 [==============================] - 1s 2ms/step - loss: 1.8979 - accuracy: 0.3234\n",
      "Round 30, Loss: 1.898, Accuracy: 0.323\n",
      "313/313 [==============================] - 1s 2ms/step - loss: 1.9557 - accuracy: 0.3622\n",
      "Round 31, Loss: 1.956, Accuracy: 0.362\n",
      "313/313 [==============================] - 1s 2ms/step - loss: 2.1212 - accuracy: 0.3097\n",
      "Round 32, Loss: 2.121, Accuracy: 0.310\n",
      "313/313 [==============================] - 1s 2ms/step - loss: 2.0063 - accuracy: 0.3672\n",
      "Round 33, Loss: 2.006, Accuracy: 0.367\n",
      "313/313 [==============================] - 1s 2ms/step - loss: 1.9588 - accuracy: 0.3316\n",
      "Round 34, Loss: 1.959, Accuracy: 0.332\n",
      "313/313 [==============================] - 1s 2ms/step - loss: 1.8613 - accuracy: 0.3810\n",
      "Round 35, Loss: 1.861, Accuracy: 0.381\n",
      "313/313 [==============================] - 1s 2ms/step - loss: 1.8223 - accuracy: 0.3651\n",
      "Round 36, Loss: 1.822, Accuracy: 0.365\n",
      "313/313 [==============================] - 1s 2ms/step - loss: 1.8182 - accuracy: 0.3918\n",
      "Round 37, Loss: 1.818, Accuracy: 0.392\n",
      "313/313 [==============================] - 1s 2ms/step - loss: 1.7260 - accuracy: 0.3949\n",
      "Round 38, Loss: 1.726, Accuracy: 0.395\n",
      "313/313 [==============================] - 1s 2ms/step - loss: 1.7442 - accuracy: 0.4172\n",
      "Round 39, Loss: 1.744, Accuracy: 0.417\n",
      "313/313 [==============================] - 1s 2ms/step - loss: 1.6977 - accuracy: 0.4142\n",
      "Round 40, Loss: 1.698, Accuracy: 0.414\n",
      "313/313 [==============================] - 1s 2ms/step - loss: 1.6975 - accuracy: 0.4239\n",
      "Round 41, Loss: 1.697, Accuracy: 0.424\n",
      "313/313 [==============================] - 1s 2ms/step - loss: 1.6756 - accuracy: 0.4289\n",
      "Round 42, Loss: 1.676, Accuracy: 0.429\n",
      "313/313 [==============================] - 1s 2ms/step - loss: 1.6954 - accuracy: 0.4303\n",
      "Round 43, Loss: 1.695, Accuracy: 0.430\n",
      "313/313 [==============================] - 1s 2ms/step - loss: 1.6758 - accuracy: 0.4270\n",
      "Round 44, Loss: 1.676, Accuracy: 0.427\n",
      "313/313 [==============================] - 1s 2ms/step - loss: 1.6691 - accuracy: 0.4369\n",
      "Round 45, Loss: 1.669, Accuracy: 0.437\n",
      "313/313 [==============================] - 1s 2ms/step - loss: 1.6771 - accuracy: 0.4348\n",
      "Round 46, Loss: 1.677, Accuracy: 0.435\n",
      "313/313 [==============================] - 1s 2ms/step - loss: 1.6631 - accuracy: 0.4422\n",
      "Round 47, Loss: 1.663, Accuracy: 0.442\n",
      "313/313 [==============================] - 1s 2ms/step - loss: 1.6494 - accuracy: 0.4434\n",
      "Round 48, Loss: 1.649, Accuracy: 0.443\n",
      "313/313 [==============================] - 1s 2ms/step - loss: 1.6471 - accuracy: 0.4460\n",
      "Round 49, Loss: 1.647, Accuracy: 0.446\n",
      "313/313 [==============================] - 1s 2ms/step - loss: 1.6364 - accuracy: 0.4509\n",
      "Round 50, Loss: 1.636, Accuracy: 0.451\n",
      "313/313 [==============================] - 1s 2ms/step - loss: 1.6550 - accuracy: 0.4498\n",
      "Round 51, Loss: 1.655, Accuracy: 0.450\n",
      "313/313 [==============================] - 1s 2ms/step - loss: 1.6396 - accuracy: 0.4543\n",
      "Round 52, Loss: 1.640, Accuracy: 0.454\n",
      "313/313 [==============================] - 1s 2ms/step - loss: 1.6499 - accuracy: 0.4578\n",
      "Round 53, Loss: 1.650, Accuracy: 0.458\n",
      "313/313 [==============================] - 1s 2ms/step - loss: 1.6252 - accuracy: 0.4593\n",
      "Round 54, Loss: 1.625, Accuracy: 0.459\n",
      "313/313 [==============================] - 1s 2ms/step - loss: 1.6412 - accuracy: 0.4585\n",
      "Round 55, Loss: 1.641, Accuracy: 0.458\n",
      "313/313 [==============================] - 1s 2ms/step - loss: 1.6405 - accuracy: 0.4565\n",
      "Round 56, Loss: 1.641, Accuracy: 0.456\n",
      "313/313 [==============================] - 1s 2ms/step - loss: 1.6355 - accuracy: 0.4616\n",
      "Round 57, Loss: 1.636, Accuracy: 0.462\n",
      "313/313 [==============================] - 1s 2ms/step - loss: 1.6131 - accuracy: 0.4661\n",
      "Round 58, Loss: 1.613, Accuracy: 0.466\n",
      "313/313 [==============================] - 1s 2ms/step - loss: 1.6183 - accuracy: 0.4686\n",
      "Round 59, Loss: 1.618, Accuracy: 0.469\n",
      "313/313 [==============================] - 1s 2ms/step - loss: 1.6068 - accuracy: 0.4736\n",
      "Round 60, Loss: 1.607, Accuracy: 0.474\n",
      "313/313 [==============================] - 1s 2ms/step - loss: 1.6116 - accuracy: 0.4696\n",
      "Round 61, Loss: 1.612, Accuracy: 0.470\n",
      "313/313 [==============================] - 1s 2ms/step - loss: 1.6149 - accuracy: 0.4760\n",
      "Round 62, Loss: 1.615, Accuracy: 0.476\n",
      "313/313 [==============================] - 1s 2ms/step - loss: 1.6258 - accuracy: 0.4721\n",
      "Round 63, Loss: 1.626, Accuracy: 0.472\n",
      "313/313 [==============================] - 1s 2ms/step - loss: 1.6032 - accuracy: 0.4814\n",
      "Round 64, Loss: 1.603, Accuracy: 0.481\n",
      "313/313 [==============================] - 1s 2ms/step - loss: 1.6132 - accuracy: 0.4740\n",
      "Round 65, Loss: 1.613, Accuracy: 0.474\n",
      "313/313 [==============================] - 1s 2ms/step - loss: 1.6094 - accuracy: 0.4806\n",
      "Round 66, Loss: 1.609, Accuracy: 0.481\n",
      "313/313 [==============================] - 1s 2ms/step - loss: 1.6159 - accuracy: 0.4792\n",
      "Round 67, Loss: 1.616, Accuracy: 0.479\n",
      "313/313 [==============================] - 1s 2ms/step - loss: 1.6089 - accuracy: 0.4843\n",
      "Round 68, Loss: 1.609, Accuracy: 0.484\n",
      "313/313 [==============================] - 1s 2ms/step - loss: 1.6378 - accuracy: 0.4765\n",
      "Round 69, Loss: 1.638, Accuracy: 0.477\n",
      "313/313 [==============================] - 1s 2ms/step - loss: 1.6179 - accuracy: 0.4827\n",
      "Round 70, Loss: 1.618, Accuracy: 0.483\n",
      "313/313 [==============================] - 1s 2ms/step - loss: 1.6301 - accuracy: 0.4806\n",
      "Round 71, Loss: 1.630, Accuracy: 0.481\n",
      "313/313 [==============================] - 1s 2ms/step - loss: 1.6106 - accuracy: 0.4853\n",
      "Round 72, Loss: 1.611, Accuracy: 0.485\n",
      "313/313 [==============================] - 1s 2ms/step - loss: 1.6035 - accuracy: 0.4845\n",
      "Round 73, Loss: 1.604, Accuracy: 0.484\n",
      "313/313 [==============================] - 1s 2ms/step - loss: 1.6220 - accuracy: 0.4845\n",
      "Round 74, Loss: 1.622, Accuracy: 0.484\n",
      "313/313 [==============================] - 1s 2ms/step - loss: 1.6103 - accuracy: 0.4862\n",
      "Round 75, Loss: 1.610, Accuracy: 0.486\n",
      "313/313 [==============================] - 1s 2ms/step - loss: 1.6144 - accuracy: 0.4861\n",
      "Round 76, Loss: 1.614, Accuracy: 0.486\n",
      "313/313 [==============================] - 1s 2ms/step - loss: 1.6135 - accuracy: 0.4879\n",
      "Round 77, Loss: 1.614, Accuracy: 0.488\n",
      "313/313 [==============================] - 1s 2ms/step - loss: 1.6059 - accuracy: 0.4858\n",
      "Round 78, Loss: 1.606, Accuracy: 0.486\n",
      "313/313 [==============================] - 1s 2ms/step - loss: 1.6174 - accuracy: 0.4907\n",
      "Round 79, Loss: 1.617, Accuracy: 0.491\n",
      "313/313 [==============================] - 1s 2ms/step - loss: 1.6168 - accuracy: 0.4890\n",
      "Round 80, Loss: 1.617, Accuracy: 0.489\n",
      "313/313 [==============================] - 1s 2ms/step - loss: 1.6322 - accuracy: 0.4914\n",
      "Round 81, Loss: 1.632, Accuracy: 0.491\n",
      "313/313 [==============================] - 1s 2ms/step - loss: 1.6219 - accuracy: 0.4918\n",
      "Round 82, Loss: 1.622, Accuracy: 0.492\n",
      "313/313 [==============================] - 1s 2ms/step - loss: 1.6180 - accuracy: 0.4916\n",
      "Round 83, Loss: 1.618, Accuracy: 0.492\n",
      "313/313 [==============================] - 1s 2ms/step - loss: 1.6414 - accuracy: 0.4863\n",
      "Round 84, Loss: 1.641, Accuracy: 0.486\n",
      "313/313 [==============================] - 1s 2ms/step - loss: 1.6251 - accuracy: 0.4919\n",
      "Round 85, Loss: 1.625, Accuracy: 0.492\n",
      "313/313 [==============================] - 1s 2ms/step - loss: 1.6320 - accuracy: 0.4935\n",
      "Round 86, Loss: 1.632, Accuracy: 0.493\n",
      "313/313 [==============================] - 1s 2ms/step - loss: 1.6218 - accuracy: 0.4964\n",
      "Round 87, Loss: 1.622, Accuracy: 0.496\n",
      "313/313 [==============================] - 1s 2ms/step - loss: 1.6277 - accuracy: 0.4923\n",
      "Round 88, Loss: 1.628, Accuracy: 0.492\n",
      "313/313 [==============================] - 1s 2ms/step - loss: 1.6258 - accuracy: 0.4990\n",
      "Round 89, Loss: 1.626, Accuracy: 0.499\n",
      "313/313 [==============================] - 1s 2ms/step - loss: 1.6377 - accuracy: 0.4951\n",
      "Round 90, Loss: 1.638, Accuracy: 0.495\n",
      "313/313 [==============================] - 1s 2ms/step - loss: 1.6337 - accuracy: 0.4999\n",
      "Round 91, Loss: 1.634, Accuracy: 0.500\n",
      "313/313 [==============================] - 1s 2ms/step - loss: 1.6435 - accuracy: 0.4953\n",
      "Round 92, Loss: 1.643, Accuracy: 0.495\n",
      "313/313 [==============================] - 1s 2ms/step - loss: 1.6408 - accuracy: 0.5004\n",
      "Round 93, Loss: 1.641, Accuracy: 0.500\n",
      "313/313 [==============================] - 1s 2ms/step - loss: 1.6379 - accuracy: 0.4989\n",
      "Round 94, Loss: 1.638, Accuracy: 0.499\n",
      "313/313 [==============================] - 1s 2ms/step - loss: 1.6296 - accuracy: 0.5026\n",
      "Round 95, Loss: 1.630, Accuracy: 0.503\n",
      "313/313 [==============================] - 1s 2ms/step - loss: 1.6397 - accuracy: 0.5049\n",
      "Round 96, Loss: 1.640, Accuracy: 0.505\n",
      "313/313 [==============================] - 1s 2ms/step - loss: 1.6274 - accuracy: 0.5078\n",
      "Round 97, Loss: 1.627, Accuracy: 0.508\n",
      "313/313 [==============================] - 1s 2ms/step - loss: 1.6535 - accuracy: 0.5022\n",
      "Round 98, Loss: 1.653, Accuracy: 0.502\n",
      "313/313 [==============================] - 1s 2ms/step - loss: 1.6421 - accuracy: 0.5042\n",
      "Round 99, Loss: 1.642, Accuracy: 0.504\n"
     ]
    }
   ],
   "source": [
    "mlp = CNN()\n",
    "\n",
    "global_model = mlp.build()\n",
    "global_model.compile(loss=loss, optimizer=optimizer, metrics=metrics)\n",
    "X_slices, y_slices = create_clients(X_train, y_train, n_clients)\n",
    "\n",
    "for j in range(comms_round):\n",
    "\n",
    "    global_weights = global_model.get_weights()\n",
    "    new_global_weights = [np.zeros(weight.shape) for weight in global_weights]\n",
    "    \n",
    "    global_data = sum([size.shape[0] for size in X_slices])\n",
    "    \n",
    "    for i in range(n_clients):\n",
    "        client_model = mlp.build()\n",
    "        client_model.compile(loss=loss, \n",
    "                      optimizer=optimizer, \n",
    "                      metrics=metrics)\n",
    "        \n",
    "        client_model.set_weights(global_weights)\n",
    "        client_model.fit(X_slices[i], y_slices[i], epochs=2, verbose=0)\n",
    "        \n",
    "        weights = NN_update(X_slices[i].shape[0], global_data, client_model)\n",
    "        \n",
    "        new_global_weights += np.array(weights, dtype='object')\n",
    "    \n",
    "    global_model.set_weights(new_global_weights)\n",
    "    \n",
    "    test_loss, test_accuracy = global_model.evaluate(X_test, y_test)\n",
    "    print(\"Round {}, Loss: {:.3f}, Accuracy: {:.3f}\".format(j, test_loss, test_accuracy))"
   ]
  }
 ],
 "metadata": {
  "kernelspec": {
   "display_name": "Python 3",
   "language": "python",
   "name": "python3"
  },
  "language_info": {
   "codemirror_mode": {
    "name": "ipython",
    "version": 3
   },
   "file_extension": ".py",
   "mimetype": "text/x-python",
   "name": "python",
   "nbconvert_exporter": "python",
   "pygments_lexer": "ipython3",
   "version": "3.6.9"
  }
 },
 "nbformat": 4,
 "nbformat_minor": 2
}
