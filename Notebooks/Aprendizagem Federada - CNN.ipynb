{
 "cells": [
  {
   "cell_type": "code",
   "execution_count": 1,
   "metadata": {},
   "outputs": [
    {
     "name": "stdout",
     "output_type": "stream",
     "text": [
      "Requirement already satisfied: sklearn in /usr/local/lib/python3.6/dist-packages (0.0)\n",
      "Requirement already satisfied: scikit-learn in /usr/local/lib/python3.6/dist-packages (from sklearn) (0.24.0)\n",
      "Requirement already satisfied: joblib>=0.11 in /usr/local/lib/python3.6/dist-packages (from scikit-learn->sklearn) (1.0.0)\n",
      "Requirement already satisfied: threadpoolctl>=2.0.0 in /usr/local/lib/python3.6/dist-packages (from scikit-learn->sklearn) (2.1.0)\n",
      "Requirement already satisfied: numpy>=1.13.3 in /usr/local/lib/python3.6/dist-packages (from scikit-learn->sklearn) (1.19.4)\n",
      "Requirement already satisfied: scipy>=0.19.1 in /usr/local/lib/python3.6/dist-packages (from scikit-learn->sklearn) (1.5.4)\n",
      "\u001b[33mWARNING: You are using pip version 20.2.4; however, version 20.3.3 is available.\n",
      "You should consider upgrading via the '/usr/bin/python3 -m pip install --upgrade pip' command.\u001b[0m\n"
     ]
    }
   ],
   "source": [
    "!pip install sklearn"
   ]
  },
  {
   "cell_type": "code",
   "execution_count": 2,
   "metadata": {},
   "outputs": [],
   "source": [
    "import numpy as np\n",
    "import tensorflow as tf\n",
    "import matplotlib.pyplot as plt\n",
    "\n",
    "from tensorflow.keras.datasets import cifar10\n",
    "from sklearn.preprocessing import LabelBinarizer"
   ]
  },
  {
   "cell_type": "code",
   "execution_count": 3,
   "metadata": {},
   "outputs": [],
   "source": [
    "from tensorflow.compat.v1 import ConfigProto\n",
    "from tensorflow.compat.v1 import InteractiveSession\n",
    "\n",
    "config = ConfigProto()\n",
    "config.gpu_options.allow_growth = True\n",
    "session = InteractiveSession(config=config)"
   ]
  },
  {
   "cell_type": "code",
   "execution_count": 4,
   "metadata": {},
   "outputs": [],
   "source": [
    "class_names = ['airplane', 'automobile', 'bird', 'cat', 'deer', 'dog', 'frog', 'horse', 'ship', 'truck']"
   ]
  },
  {
   "cell_type": "markdown",
   "metadata": {},
   "source": [
    "# Coleta dos dados"
   ]
  },
  {
   "cell_type": "code",
   "execution_count": 5,
   "metadata": {},
   "outputs": [
    {
     "name": "stdout",
     "output_type": "stream",
     "text": [
      "Downloading data from https://www.cs.toronto.edu/~kriz/cifar-10-python.tar.gz\n",
      "170500096/170498071 [==============================] - 199s 1us/step\n"
     ]
    }
   ],
   "source": [
    "(X_train, y_train), (X_test, y_test) = cifar10.load_data()"
   ]
  },
  {
   "cell_type": "markdown",
   "metadata": {},
   "source": [
    "## Escalonamento / Normalização"
   ]
  },
  {
   "cell_type": "code",
   "execution_count": 6,
   "metadata": {},
   "outputs": [],
   "source": [
    "X_train = X_train / 255.0\n",
    "X_test = X_test / 255.0"
   ]
  },
  {
   "cell_type": "code",
   "execution_count": 7,
   "metadata": {},
   "outputs": [
    {
     "data": {
      "text/plain": [
       "<matplotlib.image.AxesImage at 0x7fbc000cedd8>"
      ]
     },
     "execution_count": 7,
     "metadata": {},
     "output_type": "execute_result"
    },
    {
     "data": {
      "image/png": "[encoded data removed]",
      "text/plain": [
       "<Figure size 432x288 with 1 Axes>"
      ]
     },
     "metadata": {
      "needs_background": "light"
     },
     "output_type": "display_data"
    }
   ],
   "source": [
    "plt.imshow(X_test[1])"
   ]
  },
  {
   "cell_type": "markdown",
   "metadata": {},
   "source": [
    "## Encodificação das labels para forma binária"
   ]
  },
  {
   "cell_type": "code",
   "execution_count": 8,
   "metadata": {},
   "outputs": [],
   "source": [
    "lb = LabelBinarizer()\n",
    "y_train = lb.fit_transform(y_train)\n",
    "y_test = lb.fit_transform(y_test)"
   ]
  },
  {
   "cell_type": "markdown",
   "metadata": {},
   "source": [
    "# Definição do Modelo / CNN"
   ]
  },
  {
   "cell_type": "markdown",
   "metadata": {},
   "source": [
    "## Parâmetros do compilador"
   ]
  },
  {
   "cell_type": "code",
   "execution_count": 9,
   "metadata": {},
   "outputs": [],
   "source": [
    "lr = 0.01 \n",
    "comms_round = 100\n",
    "loss='categorical_crossentropy'\n",
    "metrics = ['accuracy']\n",
    "optimizer = tf.keras.optimizers.SGD(lr=lr, decay= lr/comms_round, momentum=0.9)    "
   ]
  },
  {
   "cell_type": "markdown",
   "metadata": {},
   "source": [
    "Número de clientes simulados"
   ]
  },
  {
   "cell_type": "code",
   "execution_count": 10,
   "metadata": {},
   "outputs": [],
   "source": [
    "n_clients = 5"
   ]
  },
  {
   "cell_type": "markdown",
   "metadata": {},
   "source": [
    "## Geração dos índices dos pontos de dados de cada clientes\n",
    "1. Cria um vetor com os indices dos pontos de dados e embaralha seus indices\n",
    "2. Distribui os indices dos pontos de dados entre os clientes e então embaralha-os\n",
    "3. Gera valores a partir de uma distribuição uniforme (entre 0 e 1)\n",
    "4. Passa por metade dos indices de clientes, removendo uma pocentagem dos dados de cada um desses clientes e passando para a outra metade dos clientes "
   ]
  },
  {
   "cell_type": "code",
   "execution_count": 11,
   "metadata": {},
   "outputs": [],
   "source": [
    "def generate_indexes(X, n_clients):\n",
    "    indexes = np.arange(np.random.randint(int(X.shape[0] * 0.8), X.shape[0]))\n",
    "    \n",
    "    np.random.shuffle(indexes)\n",
    "    indexes = np.array_split(indexes, n_clients)\n",
    "    \n",
    "    clients_index = np.arange(n_clients)\n",
    "    np.random.shuffle(clients_index)\n",
    "    \n",
    "    half_clients = int(n_clients / 2)\n",
    "    samples = np.random.random_sample((half_clients,))\n",
    "    for i in range(half_clients):\n",
    "        client_A = indexes[clients_index[i]]\n",
    "        client_B = indexes[clients_index[i + half_clients]]\n",
    "        \n",
    "        client_A = np.concatenate((client_A, client_B[:int(client_B.shape[0] * samples[i])]))\n",
    "        client_B = client_B[int(client_B.shape[0] * samples[i]):]\n",
    "        \n",
    "        indexes[clients_index[i]] = client_A\n",
    "        indexes[clients_index[i + half_clients]] = client_B\n",
    "    \n",
    "    return indexes"
   ]
  },
  {
   "cell_type": "markdown",
   "metadata": {},
   "source": [
    "## Divisão dos pontos de dados entre os clientes"
   ]
  },
  {
   "cell_type": "code",
   "execution_count": 12,
   "metadata": {},
   "outputs": [],
   "source": [
    "def create_clients(X, y, n_clients):\n",
    "\n",
    "    indexes = generate_indexes(X, n_clients)\n",
    "    \n",
    "    X_slices = np.array([X[indexes[i]] for i in range(n_clients)], dtype='object')\n",
    "    y_slices = np.array([y[indexes[i]] for i in range(n_clients)], dtype='object')\n",
    "    return X_slices, y_slices"
   ]
  },
  {
   "cell_type": "markdown",
   "metadata": {},
   "source": [
    "## Arquitetura da Rede Convolucional"
   ]
  },
  {
   "cell_type": "code",
   "execution_count": 13,
   "metadata": {},
   "outputs": [],
   "source": [
    "class CNN:\n",
    "    def build(self):\n",
    "        model = tf.keras.models.Sequential()\n",
    "        model.add(tf.keras.layers.Conv2D(filters=32, kernel_size=3, padding='same', activation='relu', input_shape=[32,32,3]))\n",
    "        model.add(tf.keras.layers.Conv2D(filters=32, kernel_size=3, padding='same', activation='relu'))\n",
    "        model.add(tf.keras.layers.MaxPool2D(pool_size=2, strides=2, padding='valid'))\n",
    "        model.add(tf.keras.layers.Conv2D(filters=64, kernel_size=3, padding='same', activation='relu'))\n",
    "        model.add(tf.keras.layers.Conv2D(filters=64, kernel_size=3, padding='same', activation='relu'))\n",
    "        model.add(tf.keras.layers.MaxPool2D(pool_size=2, strides=2, padding='valid'))\n",
    "        model.add(tf.keras.layers.Flatten())\n",
    "        model.add(tf.keras.layers.Dense(units=128, activation='relu'))\n",
    "        model.add(tf.keras.layers.Dropout(0.2))\n",
    "        model.add(tf.keras.layers.Dense(units=64, activation='tanh'))\n",
    "        model.add(tf.keras.layers.Dropout(0.2))\n",
    "        model.add(tf.keras.layers.Dense(units=64, activation='relu'))\n",
    "        model.add(tf.keras.layers.Dropout(0.2))\n",
    "        model.add(tf.keras.layers.Dense(units=32, activation='tanh'))\n",
    "        model.add(tf.keras.layers.Dropout(0.2))\n",
    "        model.add(tf.keras.layers.Dense(units=10, activation='softmax'))\n",
    "        return model"
   ]
  },
  {
   "cell_type": "markdown",
   "metadata": {},
   "source": [
    "## Calculo dos pesos ponderados para um cliente\n",
    "A ponderação é baseada na razão entre a quantidade de pontos de dados do cliente em relação a de todos os clientes sendo utilizados para a atualização corrente.\n",
    "\n",
    "### A função $w_{t+1} \\leftarrow \\sum^{K}_{k=1} \\frac{n_k}{n} w^{k}_{t+1}$ é responsável por unificar os pesos de todas as redes neurais do clientes selecionados para a atualização corrente, ponderando pela quantidade de pontos de dados que cada um utilizou.\n",
    "\n",
    "\n",
    "### A função *NN_update* representa a parte $\\frac{n_k}{n} w^{k}_{t+1}$"
   ]
  },
  {
   "cell_type": "code",
   "execution_count": 14,
   "metadata": {},
   "outputs": [],
   "source": [
    "def NN_update(local_data, global_data, model):    \n",
    "    weights = (local_data / global_data) * np.array(model.get_weights(), dtype='object')\n",
    "    \n",
    "    return weights"
   ]
  },
  {
   "cell_type": "markdown",
   "metadata": {},
   "source": [
    "## Treino dos modelos de cada cliente\n",
    "\n",
    "Aqui o algoritmo Federated Averaging é utilizado (alterado para o nosso exemplo quanto a seleção dos clientes).\n",
    "\n",
    "* A rede neural global (central) é inicializada\n",
    "* Começam as rodadas de atualização da rede neural\n",
    "* Um conjunto de pesos que irão substituir os atuais da rede global é inicializado com valores **0**\n",
    "* Partes da base de dados de treinamento são selecionadas aleatóriamente\n",
    "* Um loop que cria, treina e unifica os resultados das redes neurais dos clientes é realizado\n",
    "* A rede neural global é atualizada\n",
    "* Uma avaliação é realizada\n",
    "* Uma nova rodada é inicializada"
   ]
  },
  {
   "cell_type": "code",
   "execution_count": 15,
   "metadata": {
    "scrolled": true
   },
   "outputs": [
    {
     "name": "stderr",
     "output_type": "stream",
     "text": [
      "/usr/local/lib/python3.6/dist-packages/ipykernel_launcher.py:25: VisibleDeprecationWarning: Creating an ndarray from ragged nested sequences (which is a list-or-tuple of lists-or-tuples-or ndarrays with different lengths or shapes) is deprecated. If you meant to do this, you must specify 'dtype=object' when creating the ndarray\n"
     ]
    },
    {
     "name": "stdout",
     "output_type": "stream",
     "text": [
      "313/313 [==============================] - 1s 2ms/step - loss: 2.0088 - accuracy: 0.3310\n",
      "Round 0, Loss: 2.007, Accuracy: 0.325\n",
      "313/313 [==============================] - 1s 2ms/step - loss: 1.3978 - accuracy: 0.4916\n",
      "Round 1, Loss: 1.398, Accuracy: 0.492\n",
      "313/313 [==============================] - 1s 2ms/step - loss: 1.2480 - accuracy: 0.5498\n",
      "Round 2, Loss: 1.248, Accuracy: 0.550\n",
      "313/313 [==============================] - 1s 2ms/step - loss: 1.1565 - accuracy: 0.5891\n",
      "Round 3, Loss: 1.157, Accuracy: 0.589\n",
      "313/313 [==============================] - 1s 2ms/step - loss: 1.0738 - accuracy: 0.6247\n",
      "Round 4, Loss: 1.074, Accuracy: 0.625\n",
      "313/313 [==============================] - 1s 2ms/step - loss: 1.0179 - accuracy: 0.6439\n",
      "Round 5, Loss: 1.018, Accuracy: 0.644\n",
      "313/313 [==============================] - 1s 2ms/step - loss: 0.9851 - accuracy: 0.6572\n",
      "Round 6, Loss: 0.985, Accuracy: 0.657\n",
      "313/313 [==============================] - 1s 2ms/step - loss: 0.9499 - accuracy: 0.6748\n",
      "Round 7, Loss: 0.950, Accuracy: 0.675\n",
      "313/313 [==============================] - 1s 2ms/step - loss: 0.9393 - accuracy: 0.6815\n",
      "Round 8, Loss: 0.939, Accuracy: 0.682\n",
      "313/313 [==============================] - 1s 2ms/step - loss: 0.9269 - accuracy: 0.6893\n",
      "Round 9, Loss: 0.927, Accuracy: 0.689\n",
      "313/313 [==============================] - 1s 2ms/step - loss: 0.9192 - accuracy: 0.6997\n",
      "Round 10, Loss: 0.919, Accuracy: 0.700\n",
      "313/313 [==============================] - 1s 2ms/step - loss: 0.9153 - accuracy: 0.7027\n",
      "Round 11, Loss: 0.915, Accuracy: 0.703\n",
      "313/313 [==============================] - 1s 2ms/step - loss: 0.9301 - accuracy: 0.7103\n",
      "Round 12, Loss: 0.930, Accuracy: 0.710\n",
      "313/313 [==============================] - 1s 2ms/step - loss: 0.9234 - accuracy: 0.7140\n",
      "Round 13, Loss: 0.923, Accuracy: 0.714\n",
      "313/313 [==============================] - 1s 2ms/step - loss: 0.9461 - accuracy: 0.7109\n",
      "Round 14, Loss: 0.946, Accuracy: 0.711\n",
      "313/313 [==============================] - 1s 2ms/step - loss: 0.9600 - accuracy: 0.7143\n",
      "Round 15, Loss: 0.960, Accuracy: 0.714\n",
      "313/313 [==============================] - 1s 2ms/step - loss: 0.9662 - accuracy: 0.7145\n",
      "Round 16, Loss: 0.966, Accuracy: 0.715\n",
      "313/313 [==============================] - 1s 2ms/step - loss: 0.9953 - accuracy: 0.7136\n",
      "Round 17, Loss: 0.995, Accuracy: 0.714\n",
      "313/313 [==============================] - 1s 2ms/step - loss: 0.9956 - accuracy: 0.7149\n",
      "Round 18, Loss: 0.996, Accuracy: 0.715\n",
      "313/313 [==============================] - 1s 2ms/step - loss: 1.0327 - accuracy: 0.7172\n",
      "Round 19, Loss: 1.033, Accuracy: 0.717\n",
      "313/313 [==============================] - 1s 2ms/step - loss: 1.0566 - accuracy: 0.7118\n",
      "Round 20, Loss: 1.057, Accuracy: 0.712\n",
      "313/313 [==============================] - 1s 2ms/step - loss: 1.0415 - accuracy: 0.7139\n",
      "Round 21, Loss: 1.041, Accuracy: 0.714\n",
      "313/313 [==============================] - 1s 2ms/step - loss: 1.0929 - accuracy: 0.7164\n",
      "Round 22, Loss: 1.093, Accuracy: 0.716\n",
      "313/313 [==============================] - 1s 2ms/step - loss: 1.1085 - accuracy: 0.7181\n",
      "Round 23, Loss: 1.109, Accuracy: 0.718\n",
      "313/313 [==============================] - 1s 2ms/step - loss: 1.1472 - accuracy: 0.7161\n",
      "Round 24, Loss: 1.147, Accuracy: 0.716\n",
      "313/313 [==============================] - 1s 2ms/step - loss: 1.1267 - accuracy: 0.7167\n",
      "Round 25, Loss: 1.127, Accuracy: 0.717\n",
      "313/313 [==============================] - 1s 2ms/step - loss: 1.1809 - accuracy: 0.7128\n",
      "Round 26, Loss: 1.181, Accuracy: 0.713\n",
      "313/313 [==============================] - 1s 2ms/step - loss: 1.2019 - accuracy: 0.7118\n",
      "Round 27, Loss: 1.202, Accuracy: 0.712\n",
      "313/313 [==============================] - 1s 2ms/step - loss: 1.2081 - accuracy: 0.7171\n",
      "Round 28, Loss: 1.208, Accuracy: 0.717\n",
      "313/313 [==============================] - 1s 2ms/step - loss: 1.2362 - accuracy: 0.7104\n",
      "Round 29, Loss: 1.236, Accuracy: 0.710\n",
      "313/313 [==============================] - 1s 2ms/step - loss: 1.2400 - accuracy: 0.7162\n",
      "Round 30, Loss: 1.240, Accuracy: 0.716\n",
      "313/313 [==============================] - 1s 2ms/step - loss: 1.2510 - accuracy: 0.7135\n",
      "Round 31, Loss: 1.251, Accuracy: 0.714\n",
      "313/313 [==============================] - 1s 2ms/step - loss: 1.2812 - accuracy: 0.7149\n",
      "Round 32, Loss: 1.281, Accuracy: 0.715\n",
      "313/313 [==============================] - 1s 2ms/step - loss: 1.2612 - accuracy: 0.7129\n",
      "Round 33, Loss: 1.261, Accuracy: 0.713\n",
      "313/313 [==============================] - 1s 2ms/step - loss: 1.2936 - accuracy: 0.7128\n",
      "Round 34, Loss: 1.294, Accuracy: 0.713\n",
      "313/313 [==============================] - 1s 2ms/step - loss: 1.2573 - accuracy: 0.7155\n",
      "Round 35, Loss: 1.257, Accuracy: 0.715\n",
      "313/313 [==============================] - 1s 2ms/step - loss: 1.3005 - accuracy: 0.7122\n",
      "Round 36, Loss: 1.300, Accuracy: 0.712\n",
      "313/313 [==============================] - 1s 2ms/step - loss: 1.3157 - accuracy: 0.7144\n",
      "Round 37, Loss: 1.316, Accuracy: 0.714\n",
      "313/313 [==============================] - 1s 2ms/step - loss: 1.3285 - accuracy: 0.7165\n",
      "Round 38, Loss: 1.328, Accuracy: 0.716\n",
      "313/313 [==============================] - 1s 2ms/step - loss: 1.3523 - accuracy: 0.7155\n",
      "Round 39, Loss: 1.352, Accuracy: 0.715\n",
      "313/313 [==============================] - 1s 2ms/step - loss: 1.3222 - accuracy: 0.7123\n",
      "Round 40, Loss: 1.322, Accuracy: 0.712\n",
      "313/313 [==============================] - 1s 2ms/step - loss: 1.3675 - accuracy: 0.7151\n",
      "Round 41, Loss: 1.368, Accuracy: 0.715\n",
      "313/313 [==============================] - 1s 2ms/step - loss: 1.3766 - accuracy: 0.7136\n",
      "Round 42, Loss: 1.377, Accuracy: 0.714\n",
      "313/313 [==============================] - 1s 2ms/step - loss: 1.3978 - accuracy: 0.7148\n",
      "Round 43, Loss: 1.398, Accuracy: 0.715\n",
      "313/313 [==============================] - 1s 2ms/step - loss: 1.3665 - accuracy: 0.7122\n",
      "Round 44, Loss: 1.366, Accuracy: 0.712\n",
      "313/313 [==============================] - 1s 2ms/step - loss: 1.4006 - accuracy: 0.7143\n",
      "Round 45, Loss: 1.401, Accuracy: 0.714\n",
      "313/313 [==============================] - 1s 2ms/step - loss: 1.4097 - accuracy: 0.7144\n",
      "Round 46, Loss: 1.410, Accuracy: 0.714\n",
      "313/313 [==============================] - 1s 2ms/step - loss: 1.4258 - accuracy: 0.7153\n",
      "Round 47, Loss: 1.426, Accuracy: 0.715\n",
      "313/313 [==============================] - 1s 2ms/step - loss: 1.4305 - accuracy: 0.7163\n",
      "Round 48, Loss: 1.430, Accuracy: 0.716\n",
      "313/313 [==============================] - 1s 2ms/step - loss: 1.4479 - accuracy: 0.7138\n",
      "Round 49, Loss: 1.448, Accuracy: 0.714\n",
      "313/313 [==============================] - 1s 2ms/step - loss: 1.4589 - accuracy: 0.7160\n",
      "Round 50, Loss: 1.459, Accuracy: 0.716\n",
      "313/313 [==============================] - 1s 2ms/step - loss: 1.4467 - accuracy: 0.7148\n",
      "Round 51, Loss: 1.447, Accuracy: 0.715\n",
      "313/313 [==============================] - 1s 2ms/step - loss: 1.4805 - accuracy: 0.7108\n",
      "Round 52, Loss: 1.481, Accuracy: 0.711\n",
      "313/313 [==============================] - 1s 2ms/step - loss: 1.4924 - accuracy: 0.7140\n",
      "Round 53, Loss: 1.492, Accuracy: 0.714\n",
      "313/313 [==============================] - 1s 2ms/step - loss: 1.5007 - accuracy: 0.7131\n",
      "Round 54, Loss: 1.501, Accuracy: 0.713\n",
      "313/313 [==============================] - 1s 2ms/step - loss: 1.4816 - accuracy: 0.7130\n",
      "Round 55, Loss: 1.482, Accuracy: 0.713\n",
      "313/313 [==============================] - 1s 2ms/step - loss: 1.4953 - accuracy: 0.7152\n",
      "Round 56, Loss: 1.495, Accuracy: 0.715\n",
      "313/313 [==============================] - 1s 2ms/step - loss: 1.4894 - accuracy: 0.7186\n",
      "Round 57, Loss: 1.489, Accuracy: 0.719\n",
      "313/313 [==============================] - 1s 2ms/step - loss: 1.5019 - accuracy: 0.7162\n",
      "Round 58, Loss: 1.502, Accuracy: 0.716\n",
      "313/313 [==============================] - 1s 2ms/step - loss: 1.5090 - accuracy: 0.7153\n",
      "Round 59, Loss: 1.509, Accuracy: 0.715\n",
      "313/313 [==============================] - 1s 2ms/step - loss: 1.5179 - accuracy: 0.7179\n",
      "Round 60, Loss: 1.518, Accuracy: 0.718\n",
      "313/313 [==============================] - 1s 2ms/step - loss: 1.5129 - accuracy: 0.7137\n",
      "Round 61, Loss: 1.513, Accuracy: 0.714\n",
      "313/313 [==============================] - 1s 2ms/step - loss: 1.5278 - accuracy: 0.7172\n",
      "Round 62, Loss: 1.528, Accuracy: 0.717\n",
      "313/313 [==============================] - 1s 2ms/step - loss: 1.5432 - accuracy: 0.7150\n",
      "Round 63, Loss: 1.543, Accuracy: 0.715\n"
     ]
    },
    {
     "name": "stdout",
     "output_type": "stream",
     "text": [
      "313/313 [==============================] - 1s 2ms/step - loss: 1.5450 - accuracy: 0.7163\n",
      "Round 64, Loss: 1.545, Accuracy: 0.716\n",
      "313/313 [==============================] - 1s 2ms/step - loss: 1.5465 - accuracy: 0.7168\n",
      "Round 65, Loss: 1.546, Accuracy: 0.717\n",
      "313/313 [==============================] - 1s 2ms/step - loss: 1.5467 - accuracy: 0.7154\n",
      "Round 66, Loss: 1.547, Accuracy: 0.715\n",
      "313/313 [==============================] - 1s 2ms/step - loss: 1.5565 - accuracy: 0.7166\n",
      "Round 67, Loss: 1.556, Accuracy: 0.717\n",
      "313/313 [==============================] - 1s 2ms/step - loss: 1.5618 - accuracy: 0.7164\n",
      "Round 68, Loss: 1.562, Accuracy: 0.716\n",
      "313/313 [==============================] - 1s 2ms/step - loss: 1.5704 - accuracy: 0.7165\n",
      "Round 69, Loss: 1.570, Accuracy: 0.716\n",
      "313/313 [==============================] - 1s 2ms/step - loss: 1.5431 - accuracy: 0.7164\n",
      "Round 70, Loss: 1.543, Accuracy: 0.716\n",
      "313/313 [==============================] - 1s 2ms/step - loss: 1.5596 - accuracy: 0.7147\n",
      "Round 71, Loss: 1.560, Accuracy: 0.715\n",
      "313/313 [==============================] - 1s 2ms/step - loss: 1.5668 - accuracy: 0.7161\n",
      "Round 72, Loss: 1.567, Accuracy: 0.716\n",
      "313/313 [==============================] - 1s 2ms/step - loss: 1.5962 - accuracy: 0.7155\n",
      "Round 73, Loss: 1.596, Accuracy: 0.715\n",
      "313/313 [==============================] - 1s 2ms/step - loss: 1.5788 - accuracy: 0.7125\n",
      "Round 74, Loss: 1.579, Accuracy: 0.712\n",
      "313/313 [==============================] - 1s 2ms/step - loss: 1.5951 - accuracy: 0.7158\n",
      "Round 75, Loss: 1.595, Accuracy: 0.716\n",
      "313/313 [==============================] - 1s 2ms/step - loss: 1.5941 - accuracy: 0.7170\n",
      "Round 76, Loss: 1.594, Accuracy: 0.717\n",
      "313/313 [==============================] - 1s 2ms/step - loss: 1.5694 - accuracy: 0.7154\n",
      "Round 77, Loss: 1.569, Accuracy: 0.715\n",
      "313/313 [==============================] - 1s 2ms/step - loss: 1.5854 - accuracy: 0.7172\n",
      "Round 78, Loss: 1.585, Accuracy: 0.717\n",
      "313/313 [==============================] - 1s 2ms/step - loss: 1.5970 - accuracy: 0.7171\n",
      "Round 79, Loss: 1.597, Accuracy: 0.717\n",
      "313/313 [==============================] - 1s 2ms/step - loss: 1.6061 - accuracy: 0.7189\n",
      "Round 80, Loss: 1.606, Accuracy: 0.719\n",
      "313/313 [==============================] - 1s 2ms/step - loss: 1.6156 - accuracy: 0.7164\n",
      "Round 81, Loss: 1.616, Accuracy: 0.716\n",
      "313/313 [==============================] - 1s 2ms/step - loss: 1.6328 - accuracy: 0.7185\n",
      "Round 82, Loss: 1.633, Accuracy: 0.719\n",
      "313/313 [==============================] - 1s 2ms/step - loss: 1.6172 - accuracy: 0.7160\n",
      "Round 83, Loss: 1.617, Accuracy: 0.716\n",
      "313/313 [==============================] - 1s 2ms/step - loss: 1.6310 - accuracy: 0.7168\n",
      "Round 84, Loss: 1.631, Accuracy: 0.717\n",
      "313/313 [==============================] - 1s 2ms/step - loss: 1.6360 - accuracy: 0.7152\n",
      "Round 85, Loss: 1.636, Accuracy: 0.715\n",
      "313/313 [==============================] - 1s 2ms/step - loss: 1.6269 - accuracy: 0.7175\n",
      "Round 86, Loss: 1.627, Accuracy: 0.717\n",
      "313/313 [==============================] - 1s 2ms/step - loss: 1.6394 - accuracy: 0.7162\n",
      "Round 87, Loss: 1.639, Accuracy: 0.716\n",
      "313/313 [==============================] - 1s 2ms/step - loss: 1.6439 - accuracy: 0.7173\n",
      "Round 88, Loss: 1.644, Accuracy: 0.717\n",
      "313/313 [==============================] - 1s 2ms/step - loss: 1.6470 - accuracy: 0.7177\n",
      "Round 89, Loss: 1.647, Accuracy: 0.718\n",
      "313/313 [==============================] - 1s 2ms/step - loss: 1.6359 - accuracy: 0.7188\n",
      "Round 90, Loss: 1.636, Accuracy: 0.719\n",
      "313/313 [==============================] - 1s 2ms/step - loss: 1.6295 - accuracy: 0.7181\n",
      "Round 91, Loss: 1.629, Accuracy: 0.718\n",
      "313/313 [==============================] - 1s 2ms/step - loss: 1.6540 - accuracy: 0.7187\n",
      "Round 92, Loss: 1.654, Accuracy: 0.719\n",
      "313/313 [==============================] - 1s 2ms/step - loss: 1.6585 - accuracy: 0.7179\n",
      "Round 93, Loss: 1.659, Accuracy: 0.718\n",
      "313/313 [==============================] - 1s 2ms/step - loss: 1.6711 - accuracy: 0.7171\n",
      "Round 94, Loss: 1.671, Accuracy: 0.717\n",
      "313/313 [==============================] - 1s 2ms/step - loss: 1.6716 - accuracy: 0.7171\n",
      "Round 95, Loss: 1.672, Accuracy: 0.717\n",
      "313/313 [==============================] - 1s 2ms/step - loss: 1.6677 - accuracy: 0.7164\n",
      "Round 96, Loss: 1.668, Accuracy: 0.716\n",
      "313/313 [==============================] - 1s 2ms/step - loss: 1.6513 - accuracy: 0.7161\n",
      "Round 97, Loss: 1.651, Accuracy: 0.716\n",
      "313/313 [==============================] - 1s 2ms/step - loss: 1.6656 - accuracy: 0.7165\n",
      "Round 98, Loss: 1.666, Accuracy: 0.716\n",
      "313/313 [==============================] - 1s 2ms/step - loss: 1.6696 - accuracy: 0.7187\n",
      "Round 99, Loss: 1.670, Accuracy: 0.719\n"
     ]
    }
   ],
   "source": [
    "mlp = CNN()\n",
    "\n",
    "global_model = mlp.build()\n",
    "global_model.compile(loss=loss, optimizer=optimizer, metrics=metrics)\n",
    "\n",
    "for j in range(comms_round):\n",
    "\n",
    "    global_weights = global_model.get_weights()\n",
    "    new_global_weights = [np.zeros(weight.shape) for weight in global_weights]\n",
    "    \n",
    "    X_slices, y_slices = create_clients(X_train, y_train, n_clients)\n",
    "    global_data = sum([size.shape[0] for size in X_slices])\n",
    "    \n",
    "    for i in range(n_clients):\n",
    "        client_model = mlp.build()\n",
    "        client_model.compile(loss=loss, \n",
    "                      optimizer=optimizer, \n",
    "                      metrics=metrics)\n",
    "        \n",
    "        client_model.set_weights(global_weights)\n",
    "        client_model.fit(X_slices[i], y_slices[i], epochs=2, verbose=0)\n",
    "        \n",
    "        weights = NN_update(X_slices[i].shape[0], global_data, client_model)\n",
    "        \n",
    "        new_global_weights += np.array(weights, dtype='object')\n",
    "    \n",
    "    global_model.set_weights(new_global_weights)\n",
    "    \n",
    "    test_loss, test_accuracy = global_model.evaluate(X_test, y_test)\n",
    "    print(\"Round {}, Loss: {:.3f}, Accuracy: {:.3f}\".format(j, test_loss, test_accuracy))"
   ]
  }
 ],
 "metadata": {
  "kernelspec": {
   "display_name": "Python 3",
   "language": "python",
   "name": "python3"
  },
  "language_info": {
   "codemirror_mode": {
    "name": "ipython",
    "version": 3
   },
   "file_extension": ".py",
   "mimetype": "text/x-python",
   "name": "python",
   "nbconvert_exporter": "python",
   "pygments_lexer": "ipython3",
   "version": "3.6.9"
  }
 },
 "nbformat": 4,
 "nbformat_minor": 2
}
