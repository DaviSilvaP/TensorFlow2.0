{
 "cells": [
  {
   "cell_type": "code",
   "execution_count": 1,
   "metadata": {},
   "outputs": [
    {
     "name": "stdout",
     "output_type": "stream",
     "text": [
      "Requirement already satisfied: sklearn in /usr/local/lib/python3.6/dist-packages (0.0)\n",
      "Requirement already satisfied: scikit-learn in /usr/local/lib/python3.6/dist-packages (from sklearn) (0.24.0)\n",
      "Requirement already satisfied: threadpoolctl>=2.0.0 in /usr/local/lib/python3.6/dist-packages (from scikit-learn->sklearn) (2.1.0)\n",
      "Requirement already satisfied: scipy>=0.19.1 in /usr/local/lib/python3.6/dist-packages (from scikit-learn->sklearn) (1.5.4)\n",
      "Requirement already satisfied: numpy>=1.13.3 in /usr/local/lib/python3.6/dist-packages (from scikit-learn->sklearn) (1.19.4)\n",
      "Requirement already satisfied: joblib>=0.11 in /usr/local/lib/python3.6/dist-packages (from scikit-learn->sklearn) (1.0.0)\n",
      "\u001b[33mWARNING: You are using pip version 20.2.4; however, version 20.3.3 is available.\n",
      "You should consider upgrading via the '/usr/bin/python3 -m pip install --upgrade pip' command.\u001b[0m\n"
     ]
    }
   ],
   "source": [
    "!pip install sklearn"
   ]
  },
  {
   "cell_type": "code",
   "execution_count": 2,
   "metadata": {},
   "outputs": [],
   "source": [
    "import numpy as np\n",
    "import tensorflow as tf\n",
    "import matplotlib.pyplot as plt\n",
    "\n",
    "from tensorflow.keras.datasets import cifar10\n",
    "from sklearn.preprocessing import LabelBinarizer"
   ]
  },
  {
   "cell_type": "code",
   "execution_count": 3,
   "metadata": {},
   "outputs": [],
   "source": [
    "from tensorflow.compat.v1 import ConfigProto\n",
    "from tensorflow.compat.v1 import InteractiveSession\n",
    "\n",
    "config = ConfigProto()\n",
    "config.gpu_options.allow_growth = True\n",
    "session = InteractiveSession(config=config)"
   ]
  },
  {
   "cell_type": "code",
   "execution_count": 4,
   "metadata": {},
   "outputs": [],
   "source": [
    "class_names = ['airplane', 'automobile', 'bird', 'cat', 'deer', 'dog', 'frog', 'horse', 'ship', 'truck']"
   ]
  },
  {
   "cell_type": "code",
   "execution_count": 5,
   "metadata": {},
   "outputs": [],
   "source": [
    "(X_train, y_train), (X_test, y_test) = cifar10.load_data()"
   ]
  },
  {
   "cell_type": "code",
   "execution_count": 6,
   "metadata": {},
   "outputs": [],
   "source": [
    "X_train = X_train / 255.0\n",
    "X_test = X_test / 255.0"
   ]
  },
  {
   "cell_type": "code",
   "execution_count": 7,
   "metadata": {},
   "outputs": [
    {
     "data": {
      "text/plain": [
       "<matplotlib.image.AxesImage at 0x7f30b404c358>"
      ]
     },
     "execution_count": 7,
     "metadata": {},
     "output_type": "execute_result"
    },
    {
     "data": {
      "image/png": "[encoded data removed]",
      "text/plain": [
       "<Figure size 432x288 with 1 Axes>"
      ]
     },
     "metadata": {
      "needs_background": "light"
     },
     "output_type": "display_data"
    }
   ],
   "source": [
    "plt.imshow(X_test[1])"
   ]
  },
  {
   "cell_type": "code",
   "execution_count": 8,
   "metadata": {},
   "outputs": [],
   "source": [
    "lb = LabelBinarizer()\n",
    "y_train = lb.fit_transform(y_train)\n",
    "y_test = lb.fit_transform(y_test)"
   ]
  },
  {
   "cell_type": "code",
   "execution_count": 9,
   "metadata": {},
   "outputs": [],
   "source": [
    "lr = 0.01 \n",
    "comms_round = 100\n",
    "loss='categorical_crossentropy'\n",
    "metrics = ['accuracy']\n",
    "optimizer = tf.keras.optimizers.SGD(lr=lr, decay= lr/comms_round, momentum=0.9)    "
   ]
  },
  {
   "cell_type": "code",
   "execution_count": 10,
   "metadata": {},
   "outputs": [],
   "source": [
    "n_clients = 5"
   ]
  },
  {
   "cell_type": "code",
   "execution_count": 11,
   "metadata": {},
   "outputs": [],
   "source": [
    "def generate_indexes(X, n_clients):\n",
    "    indexes = np.arange(np.random.randint(int(X.shape[0] * 0.8), X.shape[0]))\n",
    "    \n",
    "    np.random.shuffle(indexes)\n",
    "    indexes = np.array_split(indexes, n_clients)\n",
    "    \n",
    "    clients_index = np.arange(n_clients)\n",
    "    np.random.shuffle(clients_index)\n",
    "    \n",
    "    half_clients = int(n_clients / 2)\n",
    "    samples = np.random.random_sample((half_clients,))\n",
    "    for i in range(half_clients):\n",
    "        client_A = indexes[clients_index[i]]\n",
    "        client_B = indexes[clients_index[i + half_clients]]\n",
    "        \n",
    "        client_A = np.concatenate((client_A, client_B[:int(client_B.shape[0] * samples[i])]))\n",
    "        client_B = client_B[int(client_B.shape[0] * samples[i]):]\n",
    "        \n",
    "        indexes[clients_index[i]] = client_A\n",
    "        indexes[clients_index[i + half_clients]] = client_B\n",
    "    \n",
    "    return indexes"
   ]
  },
  {
   "cell_type": "code",
   "execution_count": 12,
   "metadata": {},
   "outputs": [],
   "source": [
    "def create_clients(X, y, n_clients):\n",
    "\n",
    "    indexes = generate_indexes(X, n_clients)\n",
    "    \n",
    "    X_slices = np.array([X[indexes[i]] for i in range(n_clients)], dtype='object')\n",
    "    y_slices = np.array([y[indexes[i]] for i in range(n_clients)], dtype='object')\n",
    "    return X_slices, y_slices"
   ]
  },
  {
   "cell_type": "code",
   "execution_count": 13,
   "metadata": {},
   "outputs": [],
   "source": [
    "class CNN:\n",
    "    def build(self):\n",
    "        model = tf.keras.models.Sequential()\n",
    "        model.add(tf.keras.layers.Conv2D(filters=32, kernel_size=3, padding='same', activation='relu', input_shape=[32,32,3]))\n",
    "        model.add(tf.keras.layers.Conv2D(filters=32, kernel_size=3, padding='same', activation='relu'))\n",
    "        model.add(tf.keras.layers.MaxPool2D(pool_size=2, strides=2, padding='valid'))\n",
    "        model.add(tf.keras.layers.Conv2D(filters=64, kernel_size=3, padding='same', activation='relu'))\n",
    "        model.add(tf.keras.layers.Conv2D(filters=64, kernel_size=3, padding='same', activation='relu'))\n",
    "        model.add(tf.keras.layers.MaxPool2D(pool_size=2, strides=2, padding='valid'))\n",
    "        model.add(tf.keras.layers.Flatten())\n",
    "        model.add(tf.keras.layers.Dense(units=128, activation='relu'))\n",
    "        model.add(tf.keras.layers.Dropout(0.2))\n",
    "        model.add(tf.keras.layers.Dense(units=64, activation='tanh'))\n",
    "        model.add(tf.keras.layers.Dropout(0.2))\n",
    "        model.add(tf.keras.layers.Dense(units=64, activation='relu'))\n",
    "        model.add(tf.keras.layers.Dropout(0.2))\n",
    "        model.add(tf.keras.layers.Dense(units=32, activation='tanh'))\n",
    "        model.add(tf.keras.layers.Dropout(0.2))\n",
    "        model.add(tf.keras.layers.Dense(units=10, activation='softmax'))\n",
    "        return model"
   ]
  },
  {
   "cell_type": "code",
   "execution_count": 14,
   "metadata": {},
   "outputs": [],
   "source": [
    "def NN_update(local_data, global_data, model):    \n",
    "    weights = (local_data / global_data) * np.array(client_model.get_weights(), dtype='object')\n",
    "    \n",
    "    return weights"
   ]
  },
  {
   "cell_type": "code",
   "execution_count": 15,
   "metadata": {
    "scrolled": true
   },
   "outputs": [
    {
     "name": "stderr",
     "output_type": "stream",
     "text": [
      "/usr/local/lib/python3.6/dist-packages/ipykernel_launcher.py:25: VisibleDeprecationWarning: Creating an ndarray from ragged nested sequences (which is a list-or-tuple of lists-or-tuples-or ndarrays with different lengths or shapes) is deprecated. If you meant to do this, you must specify 'dtype=object' when creating the ndarray\n"
     ]
    },
    {
     "name": "stdout",
     "output_type": "stream",
     "text": [
      "313/313 [==============================] - 1s 2ms/step - loss: 2.0853 - accuracy: 0.2452\n",
      "Round 0, Loss: 2.084, Accuracy: 0.240\n",
      "313/313 [==============================] - 1s 2ms/step - loss: 1.4875 - accuracy: 0.4565\n",
      "Round 1, Loss: 1.488, Accuracy: 0.456\n",
      "313/313 [==============================] - 1s 2ms/step - loss: 1.3264 - accuracy: 0.5172\n",
      "Round 2, Loss: 1.326, Accuracy: 0.517\n",
      "313/313 [==============================] - 1s 2ms/step - loss: 1.2128 - accuracy: 0.5609\n",
      "Round 3, Loss: 1.213, Accuracy: 0.561\n",
      "313/313 [==============================] - 1s 2ms/step - loss: 1.1040 - accuracy: 0.6097\n",
      "Round 4, Loss: 1.104, Accuracy: 0.610\n",
      "313/313 [==============================] - 1s 2ms/step - loss: 1.0396 - accuracy: 0.6357\n",
      "Round 5, Loss: 1.040, Accuracy: 0.636\n",
      "313/313 [==============================] - 1s 2ms/step - loss: 0.9795 - accuracy: 0.6635\n",
      "Round 6, Loss: 0.979, Accuracy: 0.664\n",
      "313/313 [==============================] - 1s 2ms/step - loss: 0.9405 - accuracy: 0.6791\n",
      "Round 7, Loss: 0.941, Accuracy: 0.679\n",
      "313/313 [==============================] - 1s 2ms/step - loss: 0.9092 - accuracy: 0.6906\n",
      "Round 8, Loss: 0.909, Accuracy: 0.691\n",
      "313/313 [==============================] - 1s 2ms/step - loss: 0.8872 - accuracy: 0.7049\n",
      "Round 9, Loss: 0.887, Accuracy: 0.705\n",
      "313/313 [==============================] - 1s 2ms/step - loss: 0.8916 - accuracy: 0.7094\n",
      "Round 10, Loss: 0.892, Accuracy: 0.709\n",
      "313/313 [==============================] - 1s 2ms/step - loss: 0.8920 - accuracy: 0.7114\n",
      "Round 11, Loss: 0.892, Accuracy: 0.711\n",
      "313/313 [==============================] - 1s 2ms/step - loss: 0.8983 - accuracy: 0.7157\n",
      "Round 12, Loss: 0.898, Accuracy: 0.716\n",
      "313/313 [==============================] - 1s 2ms/step - loss: 0.8900 - accuracy: 0.7183\n",
      "Round 13, Loss: 0.890, Accuracy: 0.718\n",
      "313/313 [==============================] - 1s 2ms/step - loss: 0.9020 - accuracy: 0.7205\n",
      "Round 14, Loss: 0.902, Accuracy: 0.720\n",
      "313/313 [==============================] - 1s 2ms/step - loss: 0.9209 - accuracy: 0.7215\n",
      "Round 15, Loss: 0.921, Accuracy: 0.721\n",
      "313/313 [==============================] - 1s 2ms/step - loss: 0.9561 - accuracy: 0.7178\n",
      "Round 16, Loss: 0.956, Accuracy: 0.718\n",
      "313/313 [==============================] - 1s 2ms/step - loss: 0.9612 - accuracy: 0.7219\n",
      "Round 17, Loss: 0.961, Accuracy: 0.722\n",
      "313/313 [==============================] - 1s 2ms/step - loss: 0.9717 - accuracy: 0.7231\n",
      "Round 18, Loss: 0.972, Accuracy: 0.723\n",
      "313/313 [==============================] - 1s 2ms/step - loss: 0.9963 - accuracy: 0.7237\n",
      "Round 19, Loss: 0.996, Accuracy: 0.724\n",
      "313/313 [==============================] - 1s 2ms/step - loss: 0.9979 - accuracy: 0.7270\n",
      "Round 20, Loss: 0.998, Accuracy: 0.727\n",
      "313/313 [==============================] - 1s 2ms/step - loss: 1.0208 - accuracy: 0.7240\n",
      "Round 21, Loss: 1.021, Accuracy: 0.724\n",
      "313/313 [==============================] - 1s 2ms/step - loss: 1.0429 - accuracy: 0.7216\n",
      "Round 22, Loss: 1.043, Accuracy: 0.722\n",
      "313/313 [==============================] - 1s 2ms/step - loss: 1.0866 - accuracy: 0.7186\n",
      "Round 23, Loss: 1.087, Accuracy: 0.719\n",
      "313/313 [==============================] - 1s 2ms/step - loss: 1.1021 - accuracy: 0.7243\n",
      "Round 24, Loss: 1.102, Accuracy: 0.724\n",
      "313/313 [==============================] - 1s 2ms/step - loss: 1.0680 - accuracy: 0.7243\n",
      "Round 25, Loss: 1.068, Accuracy: 0.724\n",
      "313/313 [==============================] - 1s 2ms/step - loss: 1.1207 - accuracy: 0.7209\n",
      "Round 26, Loss: 1.121, Accuracy: 0.721\n",
      "313/313 [==============================] - 1s 2ms/step - loss: 1.1239 - accuracy: 0.7225\n",
      "Round 27, Loss: 1.124, Accuracy: 0.723\n",
      "313/313 [==============================] - 1s 2ms/step - loss: 1.1513 - accuracy: 0.7239\n",
      "Round 28, Loss: 1.151, Accuracy: 0.724\n",
      "313/313 [==============================] - 1s 2ms/step - loss: 1.1807 - accuracy: 0.7203\n",
      "Round 29, Loss: 1.181, Accuracy: 0.720\n",
      "313/313 [==============================] - 1s 2ms/step - loss: 1.1732 - accuracy: 0.7222\n",
      "Round 30, Loss: 1.173, Accuracy: 0.722\n",
      "313/313 [==============================] - 1s 2ms/step - loss: 1.1996 - accuracy: 0.7241\n",
      "Round 31, Loss: 1.200, Accuracy: 0.724\n",
      "313/313 [==============================] - 1s 2ms/step - loss: 1.2220 - accuracy: 0.7234\n",
      "Round 32, Loss: 1.222, Accuracy: 0.723\n",
      "313/313 [==============================] - 1s 2ms/step - loss: 1.2456 - accuracy: 0.7211\n",
      "Round 33, Loss: 1.246, Accuracy: 0.721\n",
      "313/313 [==============================] - 1s 2ms/step - loss: 1.2567 - accuracy: 0.7216\n",
      "Round 34, Loss: 1.257, Accuracy: 0.722\n",
      "313/313 [==============================] - 1s 2ms/step - loss: 1.2202 - accuracy: 0.7203\n",
      "Round 35, Loss: 1.220, Accuracy: 0.720\n",
      "313/313 [==============================] - 1s 2ms/step - loss: 1.2468 - accuracy: 0.7220\n",
      "Round 36, Loss: 1.247, Accuracy: 0.722\n",
      "313/313 [==============================] - 1s 2ms/step - loss: 1.2647 - accuracy: 0.7225\n",
      "Round 37, Loss: 1.265, Accuracy: 0.723\n",
      "313/313 [==============================] - 1s 2ms/step - loss: 1.2923 - accuracy: 0.7245\n",
      "Round 38, Loss: 1.292, Accuracy: 0.725\n",
      "313/313 [==============================] - 1s 2ms/step - loss: 1.2812 - accuracy: 0.7213\n",
      "Round 39, Loss: 1.281, Accuracy: 0.721\n",
      "313/313 [==============================] - 1s 2ms/step - loss: 1.2741 - accuracy: 0.7221\n",
      "Round 40, Loss: 1.274, Accuracy: 0.722\n",
      "313/313 [==============================] - 1s 2ms/step - loss: 1.2982 - accuracy: 0.7241\n",
      "Round 41, Loss: 1.298, Accuracy: 0.724\n",
      "313/313 [==============================] - 1s 2ms/step - loss: 1.3339 - accuracy: 0.7213\n",
      "Round 42, Loss: 1.334, Accuracy: 0.721\n",
      "313/313 [==============================] - 1s 2ms/step - loss: 1.3502 - accuracy: 0.7217\n",
      "Round 43, Loss: 1.350, Accuracy: 0.722\n",
      "313/313 [==============================] - 1s 2ms/step - loss: 1.3591 - accuracy: 0.7208\n",
      "Round 44, Loss: 1.359, Accuracy: 0.721\n",
      "313/313 [==============================] - 1s 2ms/step - loss: 1.3628 - accuracy: 0.7246\n",
      "Round 45, Loss: 1.363, Accuracy: 0.725\n",
      "313/313 [==============================] - 1s 2ms/step - loss: 1.3841 - accuracy: 0.7227\n",
      "Round 46, Loss: 1.384, Accuracy: 0.723\n",
      "313/313 [==============================] - 1s 2ms/step - loss: 1.3641 - accuracy: 0.7227\n",
      "Round 47, Loss: 1.364, Accuracy: 0.723\n",
      "313/313 [==============================] - 1s 2ms/step - loss: 1.3891 - accuracy: 0.7223\n",
      "Round 48, Loss: 1.389, Accuracy: 0.722\n",
      "313/313 [==============================] - 1s 2ms/step - loss: 1.4122 - accuracy: 0.7234\n",
      "Round 49, Loss: 1.412, Accuracy: 0.723\n",
      "313/313 [==============================] - 1s 2ms/step - loss: 1.4138 - accuracy: 0.7233\n",
      "Round 50, Loss: 1.414, Accuracy: 0.723\n",
      "313/313 [==============================] - 1s 2ms/step - loss: 1.4004 - accuracy: 0.7232\n",
      "Round 51, Loss: 1.400, Accuracy: 0.723\n",
      "313/313 [==============================] - 1s 2ms/step - loss: 1.4171 - accuracy: 0.7266\n",
      "Round 52, Loss: 1.417, Accuracy: 0.727\n",
      "313/313 [==============================] - 1s 2ms/step - loss: 1.4111 - accuracy: 0.7205\n",
      "Round 53, Loss: 1.411, Accuracy: 0.720\n",
      "313/313 [==============================] - 1s 2ms/step - loss: 1.4339 - accuracy: 0.7206\n",
      "Round 54, Loss: 1.434, Accuracy: 0.721\n",
      "313/313 [==============================] - 1s 2ms/step - loss: 1.4428 - accuracy: 0.7236\n",
      "Round 55, Loss: 1.443, Accuracy: 0.724\n",
      "313/313 [==============================] - 1s 2ms/step - loss: 1.4604 - accuracy: 0.7230\n",
      "Round 56, Loss: 1.460, Accuracy: 0.723\n",
      "313/313 [==============================] - 1s 2ms/step - loss: 1.4664 - accuracy: 0.7217\n",
      "Round 57, Loss: 1.466, Accuracy: 0.722\n",
      "313/313 [==============================] - 1s 2ms/step - loss: 1.4699 - accuracy: 0.7259\n",
      "Round 58, Loss: 1.470, Accuracy: 0.726\n",
      "313/313 [==============================] - 1s 2ms/step - loss: 1.4790 - accuracy: 0.7258\n",
      "Round 59, Loss: 1.479, Accuracy: 0.726\n",
      "313/313 [==============================] - 1s 2ms/step - loss: 1.4869 - accuracy: 0.7226\n",
      "Round 60, Loss: 1.487, Accuracy: 0.723\n",
      "313/313 [==============================] - 1s 2ms/step - loss: 1.4860 - accuracy: 0.7220\n",
      "Round 61, Loss: 1.486, Accuracy: 0.722\n",
      "313/313 [==============================] - 1s 2ms/step - loss: 1.4860 - accuracy: 0.7196\n",
      "Round 62, Loss: 1.486, Accuracy: 0.720\n",
      "313/313 [==============================] - 1s 2ms/step - loss: 1.4967 - accuracy: 0.7228\n",
      "Round 63, Loss: 1.497, Accuracy: 0.723\n",
      "313/313 [==============================] - 1s 2ms/step - loss: 1.4685 - accuracy: 0.7236\n",
      "Round 64, Loss: 1.468, Accuracy: 0.724\n",
      "313/313 [==============================] - 1s 2ms/step - loss: 1.4859 - accuracy: 0.7228\n",
      "Round 65, Loss: 1.486, Accuracy: 0.723\n",
      "313/313 [==============================] - 1s 2ms/step - loss: 1.4807 - accuracy: 0.7236\n",
      "Round 66, Loss: 1.481, Accuracy: 0.724\n",
      "313/313 [==============================] - 1s 2ms/step - loss: 1.4997 - accuracy: 0.7216\n",
      "Round 67, Loss: 1.500, Accuracy: 0.722\n",
      "313/313 [==============================] - 1s 2ms/step - loss: 1.5049 - accuracy: 0.7225\n",
      "Round 68, Loss: 1.505, Accuracy: 0.723\n",
      "313/313 [==============================] - 1s 2ms/step - loss: 1.5103 - accuracy: 0.7198\n",
      "Round 69, Loss: 1.510, Accuracy: 0.720\n",
      "313/313 [==============================] - 1s 2ms/step - loss: 1.5251 - accuracy: 0.7246\n",
      "Round 70, Loss: 1.525, Accuracy: 0.725\n",
      "313/313 [==============================] - 1s 2ms/step - loss: 1.5271 - accuracy: 0.7253\n",
      "Round 71, Loss: 1.527, Accuracy: 0.725\n",
      "313/313 [==============================] - 1s 2ms/step - loss: 1.5305 - accuracy: 0.7258\n",
      "Round 72, Loss: 1.531, Accuracy: 0.726\n",
      "313/313 [==============================] - 1s 2ms/step - loss: 1.5158 - accuracy: 0.7264\n",
      "Round 73, Loss: 1.516, Accuracy: 0.726\n",
      "313/313 [==============================] - 1s 2ms/step - loss: 1.5307 - accuracy: 0.7260\n",
      "Round 74, Loss: 1.531, Accuracy: 0.726\n",
      "313/313 [==============================] - 1s 2ms/step - loss: 1.5317 - accuracy: 0.7229\n",
      "Round 75, Loss: 1.532, Accuracy: 0.723\n",
      "313/313 [==============================] - 1s 2ms/step - loss: 1.5352 - accuracy: 0.7240\n",
      "Round 76, Loss: 1.535, Accuracy: 0.724\n",
      "313/313 [==============================] - 1s 2ms/step - loss: 1.5219 - accuracy: 0.7229\n",
      "Round 77, Loss: 1.522, Accuracy: 0.723\n",
      "313/313 [==============================] - 1s 2ms/step - loss: 1.5355 - accuracy: 0.7248\n",
      "Round 78, Loss: 1.535, Accuracy: 0.725\n",
      "313/313 [==============================] - 1s 2ms/step - loss: 1.5443 - accuracy: 0.7241\n",
      "Round 79, Loss: 1.544, Accuracy: 0.724\n",
      "313/313 [==============================] - 1s 2ms/step - loss: 1.5558 - accuracy: 0.7220\n",
      "Round 80, Loss: 1.556, Accuracy: 0.722\n",
      "313/313 [==============================] - 1s 2ms/step - loss: 1.5537 - accuracy: 0.7234\n",
      "Round 81, Loss: 1.554, Accuracy: 0.723\n",
      "313/313 [==============================] - 1s 2ms/step - loss: 1.5552 - accuracy: 0.7242\n",
      "Round 82, Loss: 1.555, Accuracy: 0.724\n",
      "313/313 [==============================] - 1s 2ms/step - loss: 1.5629 - accuracy: 0.7239\n",
      "Round 83, Loss: 1.563, Accuracy: 0.724\n",
      "313/313 [==============================] - 1s 2ms/step - loss: 1.5662 - accuracy: 0.7241\n",
      "Round 84, Loss: 1.566, Accuracy: 0.724\n",
      "313/313 [==============================] - 1s 2ms/step - loss: 1.5677 - accuracy: 0.7268\n",
      "Round 85, Loss: 1.568, Accuracy: 0.727\n",
      "313/313 [==============================] - 1s 2ms/step - loss: 1.5659 - accuracy: 0.7256\n",
      "Round 86, Loss: 1.566, Accuracy: 0.726\n",
      "313/313 [==============================] - 1s 2ms/step - loss: 1.5813 - accuracy: 0.7255\n",
      "Round 87, Loss: 1.581, Accuracy: 0.725\n",
      "313/313 [==============================] - 1s 2ms/step - loss: 1.5883 - accuracy: 0.7236\n",
      "Round 88, Loss: 1.588, Accuracy: 0.724\n",
      "313/313 [==============================] - 1s 2ms/step - loss: 1.5984 - accuracy: 0.7203\n",
      "Round 89, Loss: 1.598, Accuracy: 0.720\n",
      "313/313 [==============================] - 1s 2ms/step - loss: 1.5806 - accuracy: 0.7245\n",
      "Round 90, Loss: 1.581, Accuracy: 0.725\n",
      "313/313 [==============================] - 1s 2ms/step - loss: 1.5932 - accuracy: 0.7210\n",
      "Round 91, Loss: 1.593, Accuracy: 0.721\n",
      "313/313 [==============================] - 1s 2ms/step - loss: 1.5865 - accuracy: 0.7233\n",
      "Round 92, Loss: 1.586, Accuracy: 0.723\n",
      "313/313 [==============================] - 1s 2ms/step - loss: 1.5995 - accuracy: 0.7214\n",
      "Round 93, Loss: 1.600, Accuracy: 0.721\n",
      "313/313 [==============================] - 1s 2ms/step - loss: 1.5939 - accuracy: 0.7238\n",
      "Round 94, Loss: 1.594, Accuracy: 0.724\n",
      "313/313 [==============================] - 1s 2ms/step - loss: 1.5928 - accuracy: 0.7260\n",
      "Round 95, Loss: 1.593, Accuracy: 0.726\n",
      "313/313 [==============================] - 1s 2ms/step - loss: 1.6033 - accuracy: 0.7251\n",
      "Round 96, Loss: 1.603, Accuracy: 0.725\n",
      "313/313 [==============================] - 1s 2ms/step - loss: 1.6099 - accuracy: 0.7231\n",
      "Round 97, Loss: 1.610, Accuracy: 0.723\n",
      "313/313 [==============================] - 1s 2ms/step - loss: 1.6137 - accuracy: 0.7263\n",
      "Round 98, Loss: 1.614, Accuracy: 0.726\n",
      "313/313 [==============================] - 1s 2ms/step - loss: 1.6130 - accuracy: 0.7245\n",
      "Round 99, Loss: 1.613, Accuracy: 0.725\n"
     ]
    }
   ],
   "source": [
    "mlp = CNN()\n",
    "\n",
    "global_model = mlp.build()\n",
    "global_model.compile(loss=loss, optimizer=optimizer, metrics=metrics)\n",
    "\n",
    "for j in range(comms_round):\n",
    "\n",
    "    global_weights = global_model.get_weights()\n",
    "    new_global_weights = [np.zeros(weight.shape) for weight in global_weights]\n",
    "    \n",
    "    X_slices, y_slices = create_clients(X_train, y_train, n_clients)\n",
    "    global_data = sum([size.shape[0] for size in X_slices])\n",
    "    \n",
    "    for i in range(n_clients):\n",
    "        client_model = mlp.build()\n",
    "        client_model.compile(loss=loss, \n",
    "                      optimizer=optimizer, \n",
    "                      metrics=metrics)\n",
    "        \n",
    "        client_model.set_weights(global_weights)\n",
    "        client_model.fit(X_slices[i], y_slices[i], epochs=2, verbose=0)\n",
    "        \n",
    "        weights = NN_update(X_slices[i].shape[0], global_data, client_model)\n",
    "        \n",
    "        new_global_weights += np.array(weights, dtype='object')\n",
    "    \n",
    "    global_model.set_weights(new_global_weights)\n",
    "    \n",
    "    test_loss, test_accuracy = global_model.evaluate(X_test, y_test)\n",
    "    print(\"Round {}, Loss: {:.3f}, Accuracy: {:.3f}\".format(j, test_loss, test_accuracy))"
   ]
  },
  {
   "cell_type": "code",
   "execution_count": null,
   "metadata": {},
   "outputs": [],
   "source": []
  },
  {
   "cell_type": "code",
   "execution_count": null,
   "metadata": {},
   "outputs": [],
   "source": []
  },
  {
   "cell_type": "code",
   "execution_count": null,
   "metadata": {},
   "outputs": [],
   "source": []
  }
 ],
 "metadata": {
  "kernelspec": {
   "display_name": "Python 3",
   "language": "python",
   "name": "python3"
  },
  "language_info": {
   "codemirror_mode": {
    "name": "ipython",
    "version": 3
   },
   "file_extension": ".py",
   "mimetype": "text/x-python",
   "name": "python",
   "nbconvert_exporter": "python",
   "pygments_lexer": "ipython3",
   "version": "3.6.9"
  }
 },
 "nbformat": 4,
 "nbformat_minor": 2
}
