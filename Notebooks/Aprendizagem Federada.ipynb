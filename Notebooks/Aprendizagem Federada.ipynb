{
 "cells": [
  {
   "cell_type": "code",
   "execution_count": 1,
   "metadata": {},
   "outputs": [
    {
     "name": "stdout",
     "output_type": "stream",
     "text": [
      "Collecting sklearn\n",
      "  Downloading sklearn-0.0.tar.gz (1.1 kB)\n",
      "Collecting scikit-learn\n",
      "  Downloading scikit_learn-0.24.0-cp36-cp36m-manylinux2010_x86_64.whl (22.2 MB)\n",
      "\u001b[K     |████████████████████████████████| 22.2 MB 1.7 MB/s eta 0:00:01\n",
      "\u001b[?25hCollecting scipy>=0.19.1\n",
      "  Downloading scipy-1.5.4-cp36-cp36m-manylinux1_x86_64.whl (25.9 MB)\n",
      "\u001b[K     |████████████████████████████████| 25.9 MB 3.7 MB/s eta 0:00:01     |███████████████████             | 15.4 MB 2.8 MB/s eta 0:00:04\n",
      "\u001b[?25hCollecting joblib>=0.11\n",
      "  Downloading joblib-1.0.0-py3-none-any.whl (302 kB)\n",
      "\u001b[K     |████████████████████████████████| 302 kB 5.2 MB/s eta 0:00:01\n",
      "\u001b[?25hCollecting threadpoolctl>=2.0.0\n",
      "  Downloading threadpoolctl-2.1.0-py3-none-any.whl (12 kB)\n",
      "Requirement already satisfied: numpy>=1.13.3 in /usr/local/lib/python3.6/dist-packages (from scikit-learn->sklearn) (1.19.4)\n",
      "Building wheels for collected packages: sklearn\n",
      "  Building wheel for sklearn (setup.py) ... \u001b[?25ldone\n",
      "\u001b[?25h  Created wheel for sklearn: filename=sklearn-0.0-py2.py3-none-any.whl size=1316 sha256=3def35c2efa3b853cb30df1a2f273ea2a62a09254ba816818e7e3c3754d19ff5\n",
      "  Stored in directory: /root/.cache/pip/wheels/23/9d/42/5ec745cbbb17517000a53cecc49d6a865450d1f5cb16dc8a9c\n",
      "Successfully built sklearn\n",
      "Installing collected packages: scipy, joblib, threadpoolctl, scikit-learn, sklearn\n",
      "Successfully installed joblib-1.0.0 scikit-learn-0.24.0 scipy-1.5.4 sklearn-0.0 threadpoolctl-2.1.0\n",
      "\u001b[33mWARNING: You are using pip version 20.2.4; however, version 20.3.3 is available.\n",
      "You should consider upgrading via the '/usr/bin/python3 -m pip install --upgrade pip' command.\u001b[0m\n"
     ]
    }
   ],
   "source": [
    "!pip install sklearn"
   ]
  },
  {
   "cell_type": "code",
   "execution_count": 2,
   "metadata": {},
   "outputs": [],
   "source": [
    "import numpy as np\n",
    "import datetime\n",
    "import tensorflow as tf\n",
    "from tensorflow.keras.datasets import fashion_mnist\n",
    "\n",
    "from sklearn.preprocessing import LabelBinarizer"
   ]
  },
  {
   "cell_type": "markdown",
   "metadata": {},
   "source": [
    "# Coleta dos Dados"
   ]
  },
  {
   "cell_type": "code",
   "execution_count": 3,
   "metadata": {},
   "outputs": [
    {
     "name": "stdout",
     "output_type": "stream",
     "text": [
      "Downloading data from https://storage.googleapis.com/tensorflow/tf-keras-datasets/train-labels-idx1-ubyte.gz\n",
      "32768/29515 [=================================] - 0s 2us/step\n",
      "Downloading data from https://storage.googleapis.com/tensorflow/tf-keras-datasets/train-images-idx3-ubyte.gz\n",
      "26427392/26421880 [==============================] - 2s 0us/step\n",
      "Downloading data from https://storage.googleapis.com/tensorflow/tf-keras-datasets/t10k-labels-idx1-ubyte.gz\n",
      "8192/5148 [===============================================] - 0s 0us/step\n",
      "Downloading data from https://storage.googleapis.com/tensorflow/tf-keras-datasets/t10k-images-idx3-ubyte.gz\n",
      "4423680/4422102 [==============================] - 1s 0us/step\n"
     ]
    }
   ],
   "source": [
    "(X_train, y_train), (X_test, y_test) = fashion_mnist.load_data()"
   ]
  },
  {
   "cell_type": "code",
   "execution_count": 4,
   "metadata": {},
   "outputs": [
    {
     "data": {
      "text/plain": [
       "((60000, 28, 28), (60000,), (10000, 28, 28), (10000,))"
      ]
     },
     "execution_count": 4,
     "metadata": {},
     "output_type": "execute_result"
    }
   ],
   "source": [
    "X_train.shape, y_train.shape, X_test.shape, y_test.shape"
   ]
  },
  {
   "cell_type": "markdown",
   "metadata": {},
   "source": [
    "## Normalização das imagens"
   ]
  },
  {
   "cell_type": "code",
   "execution_count": 5,
   "metadata": {},
   "outputs": [],
   "source": [
    "X_train = X_train / 255.0\n",
    "X_test = X_test / 255.0"
   ]
  },
  {
   "cell_type": "markdown",
   "metadata": {},
   "source": [
    "## Remodelagem (reshaping) a base de dados"
   ]
  },
  {
   "cell_type": "code",
   "execution_count": 6,
   "metadata": {},
   "outputs": [
    {
     "data": {
      "text/plain": [
       "(60000, 28, 28)"
      ]
     },
     "execution_count": 6,
     "metadata": {},
     "output_type": "execute_result"
    }
   ],
   "source": [
    "# 6000 imagens, 28 de altura e 28 de largura\n",
    "X_train.shape"
   ]
  },
  {
   "cell_type": "code",
   "execution_count": 7,
   "metadata": {},
   "outputs": [
    {
     "data": {
      "text/plain": [
       "((60000, 784), (10000, 784))"
      ]
     },
     "execution_count": 7,
     "metadata": {},
     "output_type": "execute_result"
    }
   ],
   "source": [
    "# altera de uma matriz para um vetor\n",
    "X_train = X_train.reshape(-1, 28*28)\n",
    "X_test = X_test.reshape(-1, 28*28)\n",
    "X_train.shape, X_test.shape"
   ]
  },
  {
   "cell_type": "code",
   "execution_count": 8,
   "metadata": {},
   "outputs": [],
   "source": [
    "lb = LabelBinarizer()\n",
    "y_train = lb.fit_transform(y_train)\n",
    "y_test = lb.fit_transform(y_test)"
   ]
  },
  {
   "cell_type": "code",
   "execution_count": 9,
   "metadata": {},
   "outputs": [],
   "source": [
    "lr = 0.01 \n",
    "comms_round = 100\n",
    "loss='categorical_crossentropy'\n",
    "metrics = ['accuracy']\n",
    "optimizer = tf.keras.optimizers.SGD(lr=lr, decay= lr/comms_round, momentum=0.9)    "
   ]
  },
  {
   "cell_type": "markdown",
   "metadata": {},
   "source": [
    "# Criação de Clientes"
   ]
  },
  {
   "cell_type": "code",
   "execution_count": 10,
   "metadata": {},
   "outputs": [],
   "source": [
    "n_clients = 20"
   ]
  },
  {
   "cell_type": "markdown",
   "metadata": {},
   "source": [
    "1. Cria um vetor com os indices dos pontos de dados e embaralha seus indices\n",
    "2. Distribui os indices dos pontos de dados entre os clientes e então embaralha-os\n",
    "3. Gera valores a partir de uma distribuição uniforme (entre 0 e 1)\n",
    "4. Passa por metade dos indices de clientes, removendo uma pocentagem dos dados de cada um desses clientes e passando para a outra metade dos clientes "
   ]
  },
  {
   "cell_type": "code",
   "execution_count": 11,
   "metadata": {},
   "outputs": [],
   "source": [
    "def generate_indexes(X, n_clients):\n",
    "    indexes = np.arange(np.random.randint(int(X.shape[0] * 0.8), X.shape[0]))\n",
    "    \n",
    "    np.random.shuffle(indexes)\n",
    "    indexes = np.array_split(indexes, n_clients)\n",
    "    \n",
    "    clients_index = np.arange(n_clients)\n",
    "    np.random.shuffle(clients_index)\n",
    "    \n",
    "    half_clients = int(n_clients / 2)\n",
    "    samples = np.random.random_sample((half_clients,))\n",
    "    for i in range(half_clients):\n",
    "        client_A = indexes[clients_index[i]]\n",
    "        client_B = indexes[clients_index[i + half_clients]]\n",
    "        \n",
    "        client_A = np.concatenate((client_A, client_B[:int(client_B.shape[0] * samples[i])]))\n",
    "        client_B = client_B[int(client_B.shape[0] * samples[i]):]\n",
    "        \n",
    "        indexes[clients_index[i]] = client_A\n",
    "        indexes[clients_index[i + half_clients]] = client_B\n",
    "    \n",
    "    return indexes"
   ]
  },
  {
   "cell_type": "code",
   "execution_count": 12,
   "metadata": {},
   "outputs": [],
   "source": [
    "def create_clients(X, y, n_clients):\n",
    "\n",
    "    indexes = generate_indexes(X, n_clients)\n",
    "    \n",
    "    X_slices = np.array([X[indexes[i]] for i in range(n_clients)], dtype='object')\n",
    "    y_slices = np.array([y[indexes[i]] for i in range(n_clients)], dtype='object')\n",
    "    return X_slices, y_slices"
   ]
  },
  {
   "cell_type": "code",
   "execution_count": 13,
   "metadata": {},
   "outputs": [],
   "source": [
    "X_slices, y_slices = create_clients(X_train, y_train, n_clients)"
   ]
  },
  {
   "cell_type": "code",
   "execution_count": 14,
   "metadata": {},
   "outputs": [
    {
     "data": {
      "text/plain": [
       "((20,), (20,))"
      ]
     },
     "execution_count": 14,
     "metadata": {},
     "output_type": "execute_result"
    }
   ],
   "source": [
    "X_slices.shape, y_slices.shape"
   ]
  },
  {
   "cell_type": "markdown",
   "metadata": {},
   "source": [
    "# Construção do Modelo"
   ]
  },
  {
   "cell_type": "code",
   "execution_count": 15,
   "metadata": {},
   "outputs": [],
   "source": [
    "class MLP:\n",
    "    def build(self):\n",
    "        model = tf.keras.models.Sequential()\n",
    "        model.add(tf.keras.layers.Dense(units=256, activation='relu', input_shape=(784, )))\n",
    "        model.add(tf.keras.layers.Dropout(0.2))\n",
    "        model.add(tf.keras.layers.Dense(units=128, activation='relu', input_shape=(784, )))\n",
    "        model.add(tf.keras.layers.Dropout(0.2))\n",
    "        model.add(tf.keras.layers.Dense(units=10, activation='softmax'))\n",
    "        return model"
   ]
  },
  {
   "cell_type": "code",
   "execution_count": 16,
   "metadata": {},
   "outputs": [],
   "source": [
    "def NN_update(local_data, global_data, model, X_test, y_test):\n",
    "    \n",
    "    weights = (local_data / global_data) * np.array(model.get_weights(), dtype='object')\n",
    "    test_loss, test_accuracy = model.evaluate(X_test, y_test, verbose=0)\n",
    "    \n",
    "    test_loss = (local_data / global_data) * test_loss\n",
    "    test_accuracy = (local_data / global_data) * test_accuracy\n",
    "    \n",
    "    return weights, test_loss, test_accuracy"
   ]
  },
  {
   "cell_type": "code",
   "execution_count": 17,
   "metadata": {
    "scrolled": true
   },
   "outputs": [
    {
     "name": "stderr",
     "output_type": "stream",
     "text": [
      "/usr/local/lib/python3.6/dist-packages/ipykernel_launcher.py:29: VisibleDeprecationWarning: Creating an ndarray from ragged nested sequences (which is a list-or-tuple of lists-or-tuples-or ndarrays with different lengths or shapes) is deprecated. If you meant to do this, you must specify 'dtype=object' when creating the ndarray\n"
     ]
    },
    {
     "name": "stdout",
     "output_type": "stream",
     "text": [
      "313/313 [==============================] - 0s 1ms/step - loss: 0.6245 - accuracy: 0.7827\n",
      "Round 0, Loss: 0.630, Accuracy: 0.779\n",
      "(AVG Local) Round 0, Loss: 0.684, Accuracy: 0.751\n",
      "313/313 [==============================] - 0s 1ms/step - loss: 0.5411 - accuracy: 0.8045\n",
      "Round 1, Loss: 0.541, Accuracy: 0.804\n",
      "(AVG Local) Round 1, Loss: 0.586, Accuracy: 0.786\n",
      "313/313 [==============================] - 0s 1ms/step - loss: 0.4960 - accuracy: 0.8223\n",
      "Round 2, Loss: 0.496, Accuracy: 0.822\n",
      "(AVG Local) Round 2, Loss: 0.529, Accuracy: 0.809\n",
      "313/313 [==============================] - 0s 1ms/step - loss: 0.4758 - accuracy: 0.8298\n",
      "Round 3, Loss: 0.476, Accuracy: 0.830\n",
      "(AVG Local) Round 3, Loss: 0.513, Accuracy: 0.816\n",
      "313/313 [==============================] - 0s 1ms/step - loss: 0.4605 - accuracy: 0.8348\n",
      "Round 4, Loss: 0.460, Accuracy: 0.835\n",
      "(AVG Local) Round 4, Loss: 0.485, Accuracy: 0.825\n",
      "313/313 [==============================] - 0s 1ms/step - loss: 0.4504 - accuracy: 0.8389\n",
      "Round 5, Loss: 0.450, Accuracy: 0.839\n",
      "(AVG Local) Round 5, Loss: 0.472, Accuracy: 0.831\n",
      "313/313 [==============================] - 0s 1ms/step - loss: 0.4397 - accuracy: 0.8415\n",
      "Round 6, Loss: 0.440, Accuracy: 0.841\n",
      "(AVG Local) Round 6, Loss: 0.459, Accuracy: 0.834\n",
      "313/313 [==============================] - 0s 1ms/step - loss: 0.4327 - accuracy: 0.8438\n",
      "Round 7, Loss: 0.433, Accuracy: 0.844\n",
      "(AVG Local) Round 7, Loss: 0.448, Accuracy: 0.839\n",
      "313/313 [==============================] - 0s 1ms/step - loss: 0.4275 - accuracy: 0.8449\n",
      "Round 8, Loss: 0.428, Accuracy: 0.845\n",
      "(AVG Local) Round 8, Loss: 0.445, Accuracy: 0.839\n",
      "313/313 [==============================] - 0s 1ms/step - loss: 0.4245 - accuracy: 0.8471\n",
      "Round 9, Loss: 0.424, Accuracy: 0.847\n",
      "(AVG Local) Round 9, Loss: 0.440, Accuracy: 0.841\n",
      "313/313 [==============================] - 0s 1ms/step - loss: 0.4193 - accuracy: 0.8498\n",
      "Round 10, Loss: 0.419, Accuracy: 0.850\n",
      "(AVG Local) Round 10, Loss: 0.432, Accuracy: 0.845\n",
      "313/313 [==============================] - 0s 1ms/step - loss: 0.4159 - accuracy: 0.8513\n",
      "Round 11, Loss: 0.416, Accuracy: 0.851\n",
      "(AVG Local) Round 11, Loss: 0.427, Accuracy: 0.846\n",
      "313/313 [==============================] - 0s 1ms/step - loss: 0.4146 - accuracy: 0.8512\n",
      "Round 12, Loss: 0.415, Accuracy: 0.851\n",
      "(AVG Local) Round 12, Loss: 0.425, Accuracy: 0.847\n",
      "313/313 [==============================] - 0s 1ms/step - loss: 0.4106 - accuracy: 0.8523\n",
      "Round 13, Loss: 0.411, Accuracy: 0.852\n",
      "(AVG Local) Round 13, Loss: 0.422, Accuracy: 0.848\n",
      "313/313 [==============================] - 0s 1ms/step - loss: 0.4081 - accuracy: 0.8537\n",
      "Round 14, Loss: 0.408, Accuracy: 0.854\n",
      "(AVG Local) Round 14, Loss: 0.419, Accuracy: 0.849\n",
      "313/313 [==============================] - 0s 1ms/step - loss: 0.4063 - accuracy: 0.8545\n",
      "Round 15, Loss: 0.406, Accuracy: 0.854\n",
      "(AVG Local) Round 15, Loss: 0.417, Accuracy: 0.850\n",
      "313/313 [==============================] - 0s 1ms/step - loss: 0.4051 - accuracy: 0.8527\n",
      "Round 16, Loss: 0.405, Accuracy: 0.853\n",
      "(AVG Local) Round 16, Loss: 0.417, Accuracy: 0.849\n",
      "313/313 [==============================] - 0s 1ms/step - loss: 0.4032 - accuracy: 0.8545\n",
      "Round 17, Loss: 0.403, Accuracy: 0.854\n",
      "(AVG Local) Round 17, Loss: 0.415, Accuracy: 0.850\n",
      "313/313 [==============================] - 0s 1ms/step - loss: 0.4008 - accuracy: 0.8555\n",
      "Round 18, Loss: 0.401, Accuracy: 0.855\n",
      "(AVG Local) Round 18, Loss: 0.409, Accuracy: 0.853\n",
      "313/313 [==============================] - 0s 1ms/step - loss: 0.3996 - accuracy: 0.8559\n",
      "Round 19, Loss: 0.400, Accuracy: 0.856\n",
      "(AVG Local) Round 19, Loss: 0.409, Accuracy: 0.853\n",
      "313/313 [==============================] - 0s 1ms/step - loss: 0.3978 - accuracy: 0.8563\n",
      "Round 20, Loss: 0.398, Accuracy: 0.856\n",
      "(AVG Local) Round 20, Loss: 0.405, Accuracy: 0.854\n",
      "313/313 [==============================] - 0s 1ms/step - loss: 0.3966 - accuracy: 0.8566\n",
      "Round 21, Loss: 0.397, Accuracy: 0.857\n",
      "(AVG Local) Round 21, Loss: 0.405, Accuracy: 0.854\n",
      "313/313 [==============================] - 0s 1ms/step - loss: 0.3954 - accuracy: 0.8573\n",
      "Round 22, Loss: 0.395, Accuracy: 0.857\n",
      "(AVG Local) Round 22, Loss: 0.402, Accuracy: 0.855\n",
      "313/313 [==============================] - 0s 1ms/step - loss: 0.3944 - accuracy: 0.8572\n",
      "Round 23, Loss: 0.394, Accuracy: 0.857\n",
      "(AVG Local) Round 23, Loss: 0.402, Accuracy: 0.855\n",
      "313/313 [==============================] - 0s 1ms/step - loss: 0.3924 - accuracy: 0.8587\n",
      "Round 24, Loss: 0.392, Accuracy: 0.859\n",
      "(AVG Local) Round 24, Loss: 0.400, Accuracy: 0.856\n",
      "313/313 [==============================] - 0s 1ms/step - loss: 0.3914 - accuracy: 0.8591\n",
      "Round 25, Loss: 0.391, Accuracy: 0.859\n",
      "(AVG Local) Round 25, Loss: 0.398, Accuracy: 0.857\n",
      "313/313 [==============================] - 0s 1ms/step - loss: 0.3901 - accuracy: 0.8590\n",
      "Round 26, Loss: 0.390, Accuracy: 0.859\n",
      "(AVG Local) Round 26, Loss: 0.397, Accuracy: 0.857\n",
      "313/313 [==============================] - 0s 1ms/step - loss: 0.3894 - accuracy: 0.8597\n",
      "Round 27, Loss: 0.389, Accuracy: 0.860\n",
      "(AVG Local) Round 27, Loss: 0.395, Accuracy: 0.858\n",
      "313/313 [==============================] - 0s 1ms/step - loss: 0.3886 - accuracy: 0.8618\n",
      "Round 28, Loss: 0.389, Accuracy: 0.862\n",
      "(AVG Local) Round 28, Loss: 0.394, Accuracy: 0.858\n",
      "313/313 [==============================] - 0s 1ms/step - loss: 0.3880 - accuracy: 0.8612\n",
      "Round 29, Loss: 0.388, Accuracy: 0.861\n",
      "(AVG Local) Round 29, Loss: 0.395, Accuracy: 0.858\n",
      "313/313 [==============================] - 0s 1ms/step - loss: 0.3868 - accuracy: 0.8609\n",
      "Round 30, Loss: 0.387, Accuracy: 0.861\n",
      "(AVG Local) Round 30, Loss: 0.394, Accuracy: 0.858\n",
      "313/313 [==============================] - 0s 1ms/step - loss: 0.3860 - accuracy: 0.8611\n",
      "Round 31, Loss: 0.386, Accuracy: 0.861\n",
      "(AVG Local) Round 31, Loss: 0.392, Accuracy: 0.858\n",
      "313/313 [==============================] - 0s 1ms/step - loss: 0.3854 - accuracy: 0.8618\n",
      "Round 32, Loss: 0.385, Accuracy: 0.862\n",
      "(AVG Local) Round 32, Loss: 0.391, Accuracy: 0.859\n",
      "313/313 [==============================] - 0s 1ms/step - loss: 0.3848 - accuracy: 0.8613\n",
      "Round 33, Loss: 0.385, Accuracy: 0.861\n",
      "(AVG Local) Round 33, Loss: 0.390, Accuracy: 0.859\n",
      "313/313 [==============================] - 0s 1ms/step - loss: 0.3837 - accuracy: 0.8625\n",
      "Round 34, Loss: 0.384, Accuracy: 0.863\n",
      "(AVG Local) Round 34, Loss: 0.390, Accuracy: 0.860\n",
      "313/313 [==============================] - 0s 1ms/step - loss: 0.3825 - accuracy: 0.8615\n",
      "Round 35, Loss: 0.382, Accuracy: 0.862\n",
      "(AVG Local) Round 35, Loss: 0.388, Accuracy: 0.860\n",
      "313/313 [==============================] - 0s 1ms/step - loss: 0.3818 - accuracy: 0.8629\n",
      "Round 36, Loss: 0.382, Accuracy: 0.863\n",
      "(AVG Local) Round 36, Loss: 0.387, Accuracy: 0.861\n",
      "313/313 [==============================] - 0s 1ms/step - loss: 0.3814 - accuracy: 0.8637\n",
      "Round 37, Loss: 0.381, Accuracy: 0.864\n",
      "(AVG Local) Round 37, Loss: 0.386, Accuracy: 0.861\n",
      "313/313 [==============================] - 0s 1ms/step - loss: 0.3808 - accuracy: 0.8637\n",
      "Round 38, Loss: 0.381, Accuracy: 0.864\n",
      "(AVG Local) Round 38, Loss: 0.386, Accuracy: 0.862\n",
      "313/313 [==============================] - 0s 1ms/step - loss: 0.3798 - accuracy: 0.8646\n",
      "Round 39, Loss: 0.380, Accuracy: 0.865\n",
      "(AVG Local) Round 39, Loss: 0.385, Accuracy: 0.862\n",
      "313/313 [==============================] - 0s 1ms/step - loss: 0.3793 - accuracy: 0.8647\n",
      "Round 40, Loss: 0.379, Accuracy: 0.865\n",
      "(AVG Local) Round 40, Loss: 0.384, Accuracy: 0.862\n",
      "313/313 [==============================] - 0s 1ms/step - loss: 0.3788 - accuracy: 0.8637\n",
      "Round 41, Loss: 0.379, Accuracy: 0.864\n",
      "(AVG Local) Round 41, Loss: 0.383, Accuracy: 0.862\n",
      "313/313 [==============================] - 0s 1ms/step - loss: 0.3782 - accuracy: 0.8639\n",
      "Round 42, Loss: 0.378, Accuracy: 0.864\n",
      "(AVG Local) Round 42, Loss: 0.383, Accuracy: 0.863\n",
      "313/313 [==============================] - 0s 1ms/step - loss: 0.3776 - accuracy: 0.8634\n",
      "Round 43, Loss: 0.378, Accuracy: 0.863\n",
      "(AVG Local) Round 43, Loss: 0.382, Accuracy: 0.863\n",
      "313/313 [==============================] - 0s 1ms/step - loss: 0.3772 - accuracy: 0.8647\n",
      "Round 44, Loss: 0.377, Accuracy: 0.865\n",
      "(AVG Local) Round 44, Loss: 0.382, Accuracy: 0.863\n",
      "313/313 [==============================] - 0s 1ms/step - loss: 0.3766 - accuracy: 0.8649\n",
      "Round 45, Loss: 0.377, Accuracy: 0.865\n",
      "(AVG Local) Round 45, Loss: 0.381, Accuracy: 0.863\n"
     ]
    },
    {
     "name": "stdout",
     "output_type": "stream",
     "text": [
      "313/313 [==============================] - 0s 1ms/step - loss: 0.3762 - accuracy: 0.8652\n",
      "Round 46, Loss: 0.376, Accuracy: 0.865\n",
      "(AVG Local) Round 46, Loss: 0.380, Accuracy: 0.864\n",
      "313/313 [==============================] - 0s 1ms/step - loss: 0.3758 - accuracy: 0.8649\n",
      "Round 47, Loss: 0.376, Accuracy: 0.865\n",
      "(AVG Local) Round 47, Loss: 0.380, Accuracy: 0.863\n",
      "313/313 [==============================] - 0s 1ms/step - loss: 0.3751 - accuracy: 0.8656\n",
      "Round 48, Loss: 0.375, Accuracy: 0.866\n",
      "(AVG Local) Round 48, Loss: 0.380, Accuracy: 0.864\n",
      "313/313 [==============================] - 0s 1ms/step - loss: 0.3748 - accuracy: 0.8659\n",
      "Round 49, Loss: 0.375, Accuracy: 0.866\n",
      "(AVG Local) Round 49, Loss: 0.379, Accuracy: 0.864\n",
      "313/313 [==============================] - 0s 1ms/step - loss: 0.3745 - accuracy: 0.8650\n",
      "Round 50, Loss: 0.374, Accuracy: 0.865\n",
      "(AVG Local) Round 50, Loss: 0.378, Accuracy: 0.864\n",
      "313/313 [==============================] - 0s 1ms/step - loss: 0.3740 - accuracy: 0.8648\n",
      "Round 51, Loss: 0.374, Accuracy: 0.865\n",
      "(AVG Local) Round 51, Loss: 0.377, Accuracy: 0.864\n",
      "313/313 [==============================] - 0s 1ms/step - loss: 0.3733 - accuracy: 0.8656\n",
      "Round 52, Loss: 0.373, Accuracy: 0.866\n",
      "(AVG Local) Round 52, Loss: 0.377, Accuracy: 0.865\n",
      "313/313 [==============================] - 0s 1ms/step - loss: 0.3730 - accuracy: 0.8662\n",
      "Round 53, Loss: 0.373, Accuracy: 0.866\n",
      "(AVG Local) Round 53, Loss: 0.377, Accuracy: 0.864\n",
      "313/313 [==============================] - 0s 1ms/step - loss: 0.3729 - accuracy: 0.8661\n",
      "Round 54, Loss: 0.373, Accuracy: 0.866\n",
      "(AVG Local) Round 54, Loss: 0.376, Accuracy: 0.865\n",
      "313/313 [==============================] - 0s 1ms/step - loss: 0.3724 - accuracy: 0.8661\n",
      "Round 55, Loss: 0.372, Accuracy: 0.866\n",
      "(AVG Local) Round 55, Loss: 0.376, Accuracy: 0.865\n",
      "313/313 [==============================] - 0s 1ms/step - loss: 0.3721 - accuracy: 0.8652\n",
      "Round 56, Loss: 0.372, Accuracy: 0.865\n",
      "(AVG Local) Round 56, Loss: 0.376, Accuracy: 0.865\n",
      "313/313 [==============================] - 0s 1ms/step - loss: 0.3716 - accuracy: 0.8656\n",
      "Round 57, Loss: 0.372, Accuracy: 0.866\n",
      "(AVG Local) Round 57, Loss: 0.375, Accuracy: 0.865\n",
      "313/313 [==============================] - 0s 1ms/step - loss: 0.3713 - accuracy: 0.8654\n",
      "Round 58, Loss: 0.371, Accuracy: 0.865\n",
      "(AVG Local) Round 58, Loss: 0.374, Accuracy: 0.865\n",
      "313/313 [==============================] - 0s 1ms/step - loss: 0.3707 - accuracy: 0.8658\n",
      "Round 59, Loss: 0.371, Accuracy: 0.866\n",
      "(AVG Local) Round 59, Loss: 0.374, Accuracy: 0.865\n",
      "313/313 [==============================] - 0s 1ms/step - loss: 0.3704 - accuracy: 0.8663\n",
      "Round 60, Loss: 0.370, Accuracy: 0.866\n",
      "(AVG Local) Round 60, Loss: 0.374, Accuracy: 0.866\n",
      "313/313 [==============================] - 0s 1ms/step - loss: 0.3701 - accuracy: 0.8661\n",
      "Round 61, Loss: 0.370, Accuracy: 0.866\n",
      "(AVG Local) Round 61, Loss: 0.373, Accuracy: 0.866\n",
      "313/313 [==============================] - 0s 1ms/step - loss: 0.3697 - accuracy: 0.8670\n",
      "Round 62, Loss: 0.370, Accuracy: 0.867\n",
      "(AVG Local) Round 62, Loss: 0.373, Accuracy: 0.866\n",
      "313/313 [==============================] - 0s 1ms/step - loss: 0.3694 - accuracy: 0.8675\n",
      "Round 63, Loss: 0.369, Accuracy: 0.868\n",
      "(AVG Local) Round 63, Loss: 0.373, Accuracy: 0.866\n",
      "313/313 [==============================] - 0s 1ms/step - loss: 0.3692 - accuracy: 0.8669\n",
      "Round 64, Loss: 0.369, Accuracy: 0.867\n",
      "(AVG Local) Round 64, Loss: 0.372, Accuracy: 0.866\n",
      "313/313 [==============================] - 0s 2ms/step - loss: 0.3687 - accuracy: 0.8666\n",
      "Round 65, Loss: 0.369, Accuracy: 0.867\n",
      "(AVG Local) Round 65, Loss: 0.371, Accuracy: 0.866\n",
      "313/313 [==============================] - 0s 1ms/step - loss: 0.3689 - accuracy: 0.8671\n",
      "Round 66, Loss: 0.369, Accuracy: 0.867\n",
      "(AVG Local) Round 66, Loss: 0.372, Accuracy: 0.866\n",
      "313/313 [==============================] - 0s 1ms/step - loss: 0.3685 - accuracy: 0.8676\n",
      "Round 67, Loss: 0.369, Accuracy: 0.868\n",
      "(AVG Local) Round 67, Loss: 0.371, Accuracy: 0.867\n",
      "313/313 [==============================] - 0s 1ms/step - loss: 0.3682 - accuracy: 0.8675\n",
      "Round 68, Loss: 0.368, Accuracy: 0.868\n",
      "(AVG Local) Round 68, Loss: 0.371, Accuracy: 0.867\n",
      "313/313 [==============================] - 0s 1ms/step - loss: 0.3679 - accuracy: 0.8674\n",
      "Round 69, Loss: 0.368, Accuracy: 0.867\n",
      "(AVG Local) Round 69, Loss: 0.371, Accuracy: 0.867\n",
      "313/313 [==============================] - 0s 1ms/step - loss: 0.3676 - accuracy: 0.8682\n",
      "Round 70, Loss: 0.368, Accuracy: 0.868\n",
      "(AVG Local) Round 70, Loss: 0.371, Accuracy: 0.867\n",
      "313/313 [==============================] - 0s 1ms/step - loss: 0.3673 - accuracy: 0.8676\n",
      "Round 71, Loss: 0.367, Accuracy: 0.868\n",
      "(AVG Local) Round 71, Loss: 0.370, Accuracy: 0.867\n",
      "313/313 [==============================] - 0s 2ms/step - loss: 0.3671 - accuracy: 0.8679\n",
      "Round 72, Loss: 0.367, Accuracy: 0.868\n",
      "(AVG Local) Round 72, Loss: 0.369, Accuracy: 0.867\n",
      "313/313 [==============================] - 0s 1ms/step - loss: 0.3668 - accuracy: 0.8678\n",
      "Round 73, Loss: 0.367, Accuracy: 0.868\n",
      "(AVG Local) Round 73, Loss: 0.369, Accuracy: 0.868\n",
      "313/313 [==============================] - 0s 1ms/step - loss: 0.3665 - accuracy: 0.8680\n",
      "Round 74, Loss: 0.366, Accuracy: 0.868\n",
      "(AVG Local) Round 74, Loss: 0.370, Accuracy: 0.867\n",
      "313/313 [==============================] - 0s 1ms/step - loss: 0.3665 - accuracy: 0.8688\n",
      "Round 75, Loss: 0.367, Accuracy: 0.869\n",
      "(AVG Local) Round 75, Loss: 0.369, Accuracy: 0.868\n",
      "313/313 [==============================] - 0s 1ms/step - loss: 0.3659 - accuracy: 0.8676\n",
      "Round 76, Loss: 0.366, Accuracy: 0.868\n",
      "(AVG Local) Round 76, Loss: 0.369, Accuracy: 0.868\n",
      "313/313 [==============================] - 0s 1ms/step - loss: 0.3656 - accuracy: 0.8679\n",
      "Round 77, Loss: 0.366, Accuracy: 0.868\n",
      "(AVG Local) Round 77, Loss: 0.368, Accuracy: 0.868\n",
      "313/313 [==============================] - 0s 1ms/step - loss: 0.3660 - accuracy: 0.8692\n",
      "Round 78, Loss: 0.366, Accuracy: 0.869\n",
      "(AVG Local) Round 78, Loss: 0.369, Accuracy: 0.868\n",
      "313/313 [==============================] - 0s 1ms/step - loss: 0.3655 - accuracy: 0.8688\n",
      "Round 79, Loss: 0.365, Accuracy: 0.869\n",
      "(AVG Local) Round 79, Loss: 0.368, Accuracy: 0.868\n",
      "313/313 [==============================] - 0s 1ms/step - loss: 0.3651 - accuracy: 0.8689\n",
      "Round 80, Loss: 0.365, Accuracy: 0.869\n",
      "(AVG Local) Round 80, Loss: 0.367, Accuracy: 0.868\n",
      "313/313 [==============================] - 0s 1ms/step - loss: 0.3648 - accuracy: 0.8687\n",
      "Round 81, Loss: 0.365, Accuracy: 0.869\n",
      "(AVG Local) Round 81, Loss: 0.367, Accuracy: 0.868\n",
      "313/313 [==============================] - 0s 1ms/step - loss: 0.3649 - accuracy: 0.8690\n",
      "Round 82, Loss: 0.365, Accuracy: 0.869\n",
      "(AVG Local) Round 82, Loss: 0.367, Accuracy: 0.868\n",
      "313/313 [==============================] - 0s 1ms/step - loss: 0.3644 - accuracy: 0.8684\n",
      "Round 83, Loss: 0.364, Accuracy: 0.868\n",
      "(AVG Local) Round 83, Loss: 0.367, Accuracy: 0.868\n",
      "313/313 [==============================] - 0s 1ms/step - loss: 0.3640 - accuracy: 0.8686\n",
      "Round 84, Loss: 0.364, Accuracy: 0.869\n",
      "(AVG Local) Round 84, Loss: 0.367, Accuracy: 0.868\n",
      "313/313 [==============================] - 0s 1ms/step - loss: 0.3637 - accuracy: 0.8696\n",
      "Round 85, Loss: 0.364, Accuracy: 0.870\n",
      "(AVG Local) Round 85, Loss: 0.367, Accuracy: 0.869\n",
      "313/313 [==============================] - 0s 1ms/step - loss: 0.3636 - accuracy: 0.8695\n",
      "Round 86, Loss: 0.364, Accuracy: 0.869\n",
      "(AVG Local) Round 86, Loss: 0.366, Accuracy: 0.869\n",
      "313/313 [==============================] - 0s 1ms/step - loss: 0.3631 - accuracy: 0.8692\n",
      "Round 87, Loss: 0.363, Accuracy: 0.869\n",
      "(AVG Local) Round 87, Loss: 0.365, Accuracy: 0.869\n",
      "313/313 [==============================] - 0s 1ms/step - loss: 0.3629 - accuracy: 0.8690\n",
      "Round 88, Loss: 0.363, Accuracy: 0.869\n",
      "(AVG Local) Round 88, Loss: 0.365, Accuracy: 0.869\n",
      "313/313 [==============================] - 0s 1ms/step - loss: 0.3627 - accuracy: 0.8690\n",
      "Round 89, Loss: 0.363, Accuracy: 0.869\n",
      "(AVG Local) Round 89, Loss: 0.365, Accuracy: 0.869\n",
      "313/313 [==============================] - 0s 1ms/step - loss: 0.3627 - accuracy: 0.8700\n",
      "Round 90, Loss: 0.363, Accuracy: 0.870\n",
      "(AVG Local) Round 90, Loss: 0.365, Accuracy: 0.869\n",
      "313/313 [==============================] - 0s 1ms/step - loss: 0.3623 - accuracy: 0.8696\n",
      "Round 91, Loss: 0.362, Accuracy: 0.870\n",
      "(AVG Local) Round 91, Loss: 0.365, Accuracy: 0.869\n"
     ]
    },
    {
     "name": "stdout",
     "output_type": "stream",
     "text": [
      "313/313 [==============================] - 0s 1ms/step - loss: 0.3623 - accuracy: 0.8698\n",
      "Round 92, Loss: 0.362, Accuracy: 0.870\n",
      "(AVG Local) Round 92, Loss: 0.365, Accuracy: 0.869\n",
      "313/313 [==============================] - 0s 998us/step - loss: 0.3622 - accuracy: 0.8692\n",
      "Round 93, Loss: 0.362, Accuracy: 0.869\n",
      "(AVG Local) Round 93, Loss: 0.364, Accuracy: 0.869\n",
      "313/313 [==============================] - 0s 1ms/step - loss: 0.3621 - accuracy: 0.8701\n",
      "Round 94, Loss: 0.362, Accuracy: 0.870\n",
      "(AVG Local) Round 94, Loss: 0.364, Accuracy: 0.869\n",
      "313/313 [==============================] - 0s 1ms/step - loss: 0.3618 - accuracy: 0.8702\n",
      "Round 95, Loss: 0.362, Accuracy: 0.870\n",
      "(AVG Local) Round 95, Loss: 0.364, Accuracy: 0.869\n",
      "313/313 [==============================] - 0s 1ms/step - loss: 0.3616 - accuracy: 0.8693\n",
      "Round 96, Loss: 0.362, Accuracy: 0.869\n",
      "(AVG Local) Round 96, Loss: 0.364, Accuracy: 0.869\n",
      "313/313 [==============================] - 0s 993us/step - loss: 0.3616 - accuracy: 0.8702\n",
      "Round 97, Loss: 0.362, Accuracy: 0.870\n",
      "(AVG Local) Round 97, Loss: 0.364, Accuracy: 0.869\n",
      "313/313 [==============================] - 0s 1ms/step - loss: 0.3614 - accuracy: 0.8702\n",
      "Round 98, Loss: 0.361, Accuracy: 0.870\n",
      "(AVG Local) Round 98, Loss: 0.363, Accuracy: 0.870\n",
      "313/313 [==============================] - 0s 1ms/step - loss: 0.3613 - accuracy: 0.8700\n",
      "Round 99, Loss: 0.361, Accuracy: 0.870\n",
      "(AVG Local) Round 99, Loss: 0.363, Accuracy: 0.869\n"
     ]
    }
   ],
   "source": [
    "mlp = MLP()\n",
    "\n",
    "global_model = mlp.build()\n",
    "global_model.compile(loss=loss, optimizer=optimizer, metrics=metrics)\n",
    "\n",
    "for j in range(comms_round):\n",
    "\n",
    "    global_weights = global_model.get_weights()\n",
    "    new_global_weights = [np.zeros(weight.shape) for weight in global_weights]\n",
    "    \n",
    "    X_slices, y_slices = create_clients(X_train, y_train, n_clients)\n",
    "    global_data = sum([size.shape[0] for size in X_slices])\n",
    "    \n",
    "    avg_local_loss = 0.0\n",
    "    avg_local_acc = 0.0\n",
    "    \n",
    "    for i in range(n_clients):\n",
    "        client_model = mlp.build()\n",
    "        client_model.compile(loss=loss, \n",
    "                      optimizer=optimizer, \n",
    "                      metrics=metrics)\n",
    "        \n",
    "        client_model.set_weights(global_weights)\n",
    "        client_model.fit(X_slices[i], y_slices[i], epochs=2, verbose=0)\n",
    "        \n",
    "        weights, test_loss, test_accuracy = NN_update(X_slices[i].shape[0], global_data, \n",
    "                                                      client_model, X_test, y_test)\n",
    "        \n",
    "        new_global_weights += np.array(weights, dtype='object')\n",
    "        avg_local_loss += test_loss\n",
    "        avg_local_acc += test_accuracy\n",
    "    \n",
    "    global_model.set_weights(new_global_weights) #\n",
    "    \n",
    "    test_loss, test_accuracy = global_model.evaluate(X_test, y_test)\n",
    "    print(\"Round {}, Loss: {:.3f}, Accuracy: {:.3f}\".format(j, test_loss, test_accuracy))\n",
    "    print(\"(AVG Local) Round {}, Loss: {:.3f}, Accuracy: {:.3f}\".format(j, avg_local_loss, avg_local_acc))"
   ]
  }
 ],
 "metadata": {
  "kernelspec": {
   "display_name": "Python 3",
   "language": "python",
   "name": "python3"
  },
  "language_info": {
   "codemirror_mode": {
    "name": "ipython",
    "version": 3
   },
   "file_extension": ".py",
   "mimetype": "text/x-python",
   "name": "python",
   "nbconvert_exporter": "python",
   "pygments_lexer": "ipython3",
   "version": "3.6.9"
  }
 },
 "nbformat": 4,
 "nbformat_minor": 2
}
