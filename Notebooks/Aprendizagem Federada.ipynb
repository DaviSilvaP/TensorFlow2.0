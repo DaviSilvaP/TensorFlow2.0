{
 "cells": [
  {
   "cell_type": "code",
   "execution_count": 1,
   "metadata": {},
   "outputs": [],
   "source": [
    "import numpy as np\n",
    "import datetime\n",
    "import tensorflow as tf\n",
    "from tensorflow.keras.datasets import fashion_mnist\n",
    "\n",
    "from sklearn.preprocessing import LabelBinarizer\n",
    "from sklearn.metrics import accuracy_score"
   ]
  },
  {
   "cell_type": "markdown",
   "metadata": {},
   "source": [
    "# Coleta dos Dados"
   ]
  },
  {
   "cell_type": "code",
   "execution_count": 2,
   "metadata": {},
   "outputs": [],
   "source": [
    "(X_train, y_train), (X_test, y_test) = fashion_mnist.load_data()"
   ]
  },
  {
   "cell_type": "code",
   "execution_count": 3,
   "metadata": {},
   "outputs": [
    {
     "data": {
      "text/plain": [
       "((60000, 28, 28), (60000,), (10000, 28, 28), (10000,))"
      ]
     },
     "execution_count": 3,
     "metadata": {},
     "output_type": "execute_result"
    }
   ],
   "source": [
    "X_train.shape, y_train.shape, X_test.shape, y_test.shape"
   ]
  },
  {
   "cell_type": "markdown",
   "metadata": {},
   "source": [
    "## Normalização das imagens"
   ]
  },
  {
   "cell_type": "code",
   "execution_count": 4,
   "metadata": {},
   "outputs": [],
   "source": [
    "X_train = X_train / 255.0\n",
    "X_test = X_test / 255.0"
   ]
  },
  {
   "cell_type": "markdown",
   "metadata": {},
   "source": [
    "## Remodelagem (reshaping) a base de dados"
   ]
  },
  {
   "cell_type": "code",
   "execution_count": 5,
   "metadata": {},
   "outputs": [
    {
     "data": {
      "text/plain": [
       "(60000, 28, 28)"
      ]
     },
     "execution_count": 5,
     "metadata": {},
     "output_type": "execute_result"
    }
   ],
   "source": [
    "# 6000 imagens, 28 de altura e 28 de largura\n",
    "X_train.shape"
   ]
  },
  {
   "cell_type": "code",
   "execution_count": 6,
   "metadata": {},
   "outputs": [
    {
     "data": {
      "text/plain": [
       "((60000, 784), (10000, 784))"
      ]
     },
     "execution_count": 6,
     "metadata": {},
     "output_type": "execute_result"
    }
   ],
   "source": [
    "# altera de uma matriz para um vetor\n",
    "X_train = X_train.reshape(-1, 28*28)\n",
    "X_test = X_test.reshape(-1, 28*28)\n",
    "X_train.shape, X_test.shape"
   ]
  },
  {
   "cell_type": "code",
   "execution_count": 7,
   "metadata": {},
   "outputs": [],
   "source": [
    "lb = LabelBinarizer()\n",
    "y_train = lb.fit_transform(y_train)\n",
    "y_test = lb.fit_transform(y_test)"
   ]
  },
  {
   "cell_type": "code",
   "execution_count": 8,
   "metadata": {},
   "outputs": [],
   "source": [
    "lr = 0.01 \n",
    "comms_round = 100\n",
    "loss='categorical_crossentropy'\n",
    "metrics = ['accuracy']\n",
    "optimizer = tf.keras.optimizers.SGD(lr=lr, decay= lr/comms_round, momentum=0.9)    "
   ]
  },
  {
   "cell_type": "markdown",
   "metadata": {},
   "source": [
    "# Criação de Clientes"
   ]
  },
  {
   "cell_type": "code",
   "execution_count": 9,
   "metadata": {},
   "outputs": [],
   "source": [
    "def create_clients(X, y, n_clients):\n",
    "    indexes = np.arange(X.shape[0])\n",
    "    np.random.shuffle(indexes)\n",
    "    X = X[indexes]\n",
    "    y = y[indexes]\n",
    "    \n",
    "    rate = X.shape[0]//n_clients\n",
    "    X_slices = np.array([X[(i *  rate) : ((i + 1) * rate)] for i in range(n_clients)])\n",
    "    y_slices = np.array([y[(i *  rate) : ((i + 1) * rate)] for i in range(n_clients)])\n",
    "    return X_slices, y_slices"
   ]
  },
  {
   "cell_type": "code",
   "execution_count": 10,
   "metadata": {},
   "outputs": [],
   "source": [
    "X_slices, y_slices = create_clients(X_train, y_train, 10)"
   ]
  },
  {
   "cell_type": "code",
   "execution_count": 11,
   "metadata": {},
   "outputs": [
    {
     "data": {
      "text/plain": [
       "((10, 6000, 784), (10, 6000, 10))"
      ]
     },
     "execution_count": 11,
     "metadata": {},
     "output_type": "execute_result"
    }
   ],
   "source": [
    "X_slices.shape, y_slices.shape"
   ]
  },
  {
   "cell_type": "markdown",
   "metadata": {},
   "source": [
    "# Construção do Modelo"
   ]
  },
  {
   "cell_type": "code",
   "execution_count": 12,
   "metadata": {},
   "outputs": [],
   "source": [
    "class MLP:\n",
    "    def build(self):\n",
    "        model = tf.keras.models.Sequential()\n",
    "        model.add(tf.keras.layers.Dense(units=128, activation='relu', input_shape=(784, )))\n",
    "        model.add(tf.keras.layers.Dropout(0.2))\n",
    "        model.add(tf.keras.layers.Dense(units=10, activation='softmax'))\n",
    "        return model"
   ]
  },
  {
   "cell_type": "code",
   "execution_count": 13,
   "metadata": {
    "scrolled": true
   },
   "outputs": [
    {
     "name": "stderr",
     "output_type": "stream",
     "text": [
      "/usr/local/lib/python3.6/dist-packages/ipykernel_launcher.py:22: VisibleDeprecationWarning: Creating an ndarray from ragged nested sequences (which is a list-or-tuple of lists-or-tuples-or ndarrays with different lengths or shapes) is deprecated. If you meant to do this, you must specify 'dtype=object' when creating the ndarray\n",
      "/usr/local/lib/python3.6/dist-packages/ipykernel_launcher.py:24: VisibleDeprecationWarning: Creating an ndarray from ragged nested sequences (which is a list-or-tuple of lists-or-tuples-or ndarrays with different lengths or shapes) is deprecated. If you meant to do this, you must specify 'dtype=object' when creating the ndarray\n"
     ]
    },
    {
     "name": "stdout",
     "output_type": "stream",
     "text": [
      "313/313 [==============================] - 1s 1ms/step - loss: 0.6345 - accuracy: 0.7849\n",
      "Round 0, Loss: 0.638, Accuracy: 0.782\n",
      "313/313 [==============================] - 0s 1ms/step - loss: 0.5512 - accuracy: 0.8116\n",
      "Round 1, Loss: 0.558, Accuracy: 0.807\n",
      "313/313 [==============================] - 0s 1ms/step - loss: 0.5171 - accuracy: 0.8219\n",
      "Round 2, Loss: 0.524, Accuracy: 0.817\n",
      "313/313 [==============================] - 0s 1ms/step - loss: 0.4929 - accuracy: 0.8291\n",
      "Round 3, Loss: 0.499, Accuracy: 0.824\n",
      "313/313 [==============================] - 1s 1ms/step - loss: 0.4783 - accuracy: 0.8353\n",
      "Round 4, Loss: 0.485, Accuracy: 0.828\n",
      "313/313 [==============================] - 0s 999us/step - loss: 0.4660 - accuracy: 0.8370\n",
      "Round 5, Loss: 0.474, Accuracy: 0.830\n",
      "313/313 [==============================] - 0s 1ms/step - loss: 0.4584 - accuracy: 0.8428\n",
      "Round 6, Loss: 0.465, Accuracy: 0.834\n",
      "313/313 [==============================] - 0s 1ms/step - loss: 0.4498 - accuracy: 0.8447\n",
      "Round 7, Loss: 0.457, Accuracy: 0.837\n",
      "313/313 [==============================] - 1s 1ms/step - loss: 0.4428 - accuracy: 0.8474\n",
      "Round 8, Loss: 0.449, Accuracy: 0.840\n",
      "313/313 [==============================] - 0s 1ms/step - loss: 0.4390 - accuracy: 0.8460\n",
      "Round 9, Loss: 0.447, Accuracy: 0.838\n",
      "313/313 [==============================] - 0s 1ms/step - loss: 0.4348 - accuracy: 0.8463\n",
      "Round 10, Loss: 0.443, Accuracy: 0.840\n",
      "313/313 [==============================] - 0s 1ms/step - loss: 0.4302 - accuracy: 0.8517\n",
      "Round 11, Loss: 0.438, Accuracy: 0.843\n",
      "313/313 [==============================] - 1s 1ms/step - loss: 0.4276 - accuracy: 0.8478\n",
      "Round 12, Loss: 0.435, Accuracy: 0.841\n",
      "313/313 [==============================] - 0s 1ms/step - loss: 0.4249 - accuracy: 0.8489\n",
      "Round 13, Loss: 0.431, Accuracy: 0.845\n",
      "313/313 [==============================] - 0s 1ms/step - loss: 0.4232 - accuracy: 0.8513\n",
      "Round 14, Loss: 0.429, Accuracy: 0.845\n",
      "313/313 [==============================] - 0s 1ms/step - loss: 0.4202 - accuracy: 0.8538\n",
      "Round 15, Loss: 0.426, Accuracy: 0.847\n",
      "313/313 [==============================] - 0s 1ms/step - loss: 0.4191 - accuracy: 0.8522\n",
      "Round 16, Loss: 0.425, Accuracy: 0.847\n",
      "313/313 [==============================] - 0s 1ms/step - loss: 0.4148 - accuracy: 0.8547\n",
      "Round 17, Loss: 0.421, Accuracy: 0.848\n",
      "313/313 [==============================] - 0s 1ms/step - loss: 0.4135 - accuracy: 0.8556\n",
      "Round 18, Loss: 0.420, Accuracy: 0.849\n",
      "313/313 [==============================] - 0s 1ms/step - loss: 0.4114 - accuracy: 0.8548\n",
      "Round 19, Loss: 0.418, Accuracy: 0.849\n",
      "313/313 [==============================] - 0s 1ms/step - loss: 0.4105 - accuracy: 0.8563\n",
      "Round 20, Loss: 0.418, Accuracy: 0.851\n",
      "313/313 [==============================] - 0s 1ms/step - loss: 0.4089 - accuracy: 0.8560\n",
      "Round 21, Loss: 0.415, Accuracy: 0.850\n",
      "313/313 [==============================] - 0s 1ms/step - loss: 0.4076 - accuracy: 0.8559\n",
      "Round 22, Loss: 0.414, Accuracy: 0.851\n",
      "313/313 [==============================] - 0s 1ms/step - loss: 0.4057 - accuracy: 0.8576\n",
      "Round 23, Loss: 0.412, Accuracy: 0.852\n",
      "313/313 [==============================] - 0s 1ms/step - loss: 0.4051 - accuracy: 0.8573\n",
      "Round 24, Loss: 0.411, Accuracy: 0.852\n",
      "313/313 [==============================] - 0s 1ms/step - loss: 0.4024 - accuracy: 0.8578\n",
      "Round 25, Loss: 0.409, Accuracy: 0.853\n",
      "313/313 [==============================] - 0s 1ms/step - loss: 0.4029 - accuracy: 0.8571\n",
      "Round 26, Loss: 0.409, Accuracy: 0.852\n",
      "313/313 [==============================] - 0s 1ms/step - loss: 0.4017 - accuracy: 0.8593\n",
      "Round 27, Loss: 0.407, Accuracy: 0.854\n",
      "313/313 [==============================] - 0s 1ms/step - loss: 0.4002 - accuracy: 0.8582\n",
      "Round 28, Loss: 0.407, Accuracy: 0.853\n",
      "313/313 [==============================] - 0s 1ms/step - loss: 0.3986 - accuracy: 0.8605\n",
      "Round 29, Loss: 0.406, Accuracy: 0.853\n",
      "313/313 [==============================] - 0s 1ms/step - loss: 0.3977 - accuracy: 0.8594\n",
      "Round 30, Loss: 0.404, Accuracy: 0.854\n",
      "313/313 [==============================] - 0s 1ms/step - loss: 0.3965 - accuracy: 0.8612\n",
      "Round 31, Loss: 0.403, Accuracy: 0.854\n",
      "313/313 [==============================] - 0s 1ms/step - loss: 0.3964 - accuracy: 0.8610\n",
      "Round 32, Loss: 0.403, Accuracy: 0.854\n",
      "313/313 [==============================] - 0s 1ms/step - loss: 0.3956 - accuracy: 0.8620\n",
      "Round 33, Loss: 0.402, Accuracy: 0.855\n",
      "313/313 [==============================] - 0s 1ms/step - loss: 0.3949 - accuracy: 0.8611\n",
      "Round 34, Loss: 0.401, Accuracy: 0.856\n",
      "313/313 [==============================] - 0s 1ms/step - loss: 0.3941 - accuracy: 0.8615\n",
      "Round 35, Loss: 0.400, Accuracy: 0.856\n",
      "313/313 [==============================] - 0s 1ms/step - loss: 0.3943 - accuracy: 0.8623\n",
      "Round 36, Loss: 0.400, Accuracy: 0.857\n",
      "313/313 [==============================] - 0s 1ms/step - loss: 0.3927 - accuracy: 0.8621\n",
      "Round 37, Loss: 0.399, Accuracy: 0.857\n",
      "313/313 [==============================] - 0s 1ms/step - loss: 0.3919 - accuracy: 0.8624\n",
      "Round 38, Loss: 0.398, Accuracy: 0.858\n",
      "313/313 [==============================] - 0s 1ms/step - loss: 0.3911 - accuracy: 0.8630\n",
      "Round 39, Loss: 0.397, Accuracy: 0.857\n",
      "313/313 [==============================] - 0s 1ms/step - loss: 0.3910 - accuracy: 0.8628\n",
      "Round 40, Loss: 0.397, Accuracy: 0.857\n",
      "313/313 [==============================] - 0s 1ms/step - loss: 0.3894 - accuracy: 0.8640\n",
      "Round 41, Loss: 0.396, Accuracy: 0.858\n",
      "313/313 [==============================] - 0s 1ms/step - loss: 0.3893 - accuracy: 0.8647\n",
      "Round 42, Loss: 0.395, Accuracy: 0.859\n",
      "313/313 [==============================] - 0s 1ms/step - loss: 0.3884 - accuracy: 0.8640\n",
      "Round 43, Loss: 0.395, Accuracy: 0.858\n",
      "313/313 [==============================] - 0s 1ms/step - loss: 0.3882 - accuracy: 0.8636\n",
      "Round 44, Loss: 0.395, Accuracy: 0.858\n",
      "313/313 [==============================] - 0s 1ms/step - loss: 0.3883 - accuracy: 0.8642\n",
      "Round 45, Loss: 0.394, Accuracy: 0.859\n",
      "313/313 [==============================] - 0s 1ms/step - loss: 0.3875 - accuracy: 0.8647\n",
      "Round 46, Loss: 0.394, Accuracy: 0.859\n",
      "313/313 [==============================] - 0s 1ms/step - loss: 0.3879 - accuracy: 0.8628\n",
      "Round 47, Loss: 0.393, Accuracy: 0.859\n",
      "313/313 [==============================] - 0s 1ms/step - loss: 0.3859 - accuracy: 0.8650\n",
      "Round 48, Loss: 0.392, Accuracy: 0.860\n",
      "313/313 [==============================] - 0s 1ms/step - loss: 0.3856 - accuracy: 0.8638\n",
      "Round 49, Loss: 0.392, Accuracy: 0.859\n",
      "313/313 [==============================] - 0s 1ms/step - loss: 0.3850 - accuracy: 0.8652\n",
      "Round 50, Loss: 0.391, Accuracy: 0.860\n",
      "313/313 [==============================] - 0s 1ms/step - loss: 0.3844 - accuracy: 0.8641\n",
      "Round 51, Loss: 0.391, Accuracy: 0.859\n",
      "313/313 [==============================] - 0s 1ms/step - loss: 0.3852 - accuracy: 0.8631\n",
      "Round 52, Loss: 0.391, Accuracy: 0.859\n",
      "313/313 [==============================] - 0s 1ms/step - loss: 0.3842 - accuracy: 0.8645\n",
      "Round 53, Loss: 0.390, Accuracy: 0.861\n",
      "313/313 [==============================] - 0s 1ms/step - loss: 0.3845 - accuracy: 0.8645\n",
      "Round 54, Loss: 0.390, Accuracy: 0.861\n",
      "313/313 [==============================] - 0s 1ms/step - loss: 0.3832 - accuracy: 0.8656\n",
      "Round 55, Loss: 0.390, Accuracy: 0.860\n",
      "313/313 [==============================] - 0s 1ms/step - loss: 0.3824 - accuracy: 0.8646\n",
      "Round 56, Loss: 0.389, Accuracy: 0.860\n",
      "313/313 [==============================] - 0s 1ms/step - loss: 0.3827 - accuracy: 0.8659\n",
      "Round 57, Loss: 0.389, Accuracy: 0.862\n",
      "313/313 [==============================] - 0s 1ms/step - loss: 0.3821 - accuracy: 0.8655\n",
      "Round 58, Loss: 0.388, Accuracy: 0.861\n",
      "313/313 [==============================] - 0s 1ms/step - loss: 0.3824 - accuracy: 0.8651\n",
      "Round 59, Loss: 0.388, Accuracy: 0.862\n",
      "313/313 [==============================] - 0s 1ms/step - loss: 0.3812 - accuracy: 0.8656\n",
      "Round 60, Loss: 0.387, Accuracy: 0.863\n",
      "313/313 [==============================] - 0s 1ms/step - loss: 0.3814 - accuracy: 0.8654\n",
      "Round 61, Loss: 0.387, Accuracy: 0.863\n",
      "313/313 [==============================] - 0s 1ms/step - loss: 0.3807 - accuracy: 0.8647\n",
      "Round 62, Loss: 0.387, Accuracy: 0.862\n",
      "313/313 [==============================] - 0s 1ms/step - loss: 0.3803 - accuracy: 0.8665\n",
      "Round 63, Loss: 0.386, Accuracy: 0.863\n"
     ]
    },
    {
     "name": "stdout",
     "output_type": "stream",
     "text": [
      "313/313 [==============================] - 0s 1ms/step - loss: 0.3801 - accuracy: 0.8654\n",
      "Round 64, Loss: 0.386, Accuracy: 0.863\n",
      "313/313 [==============================] - 0s 1ms/step - loss: 0.3796 - accuracy: 0.8663\n",
      "Round 65, Loss: 0.386, Accuracy: 0.862\n",
      "313/313 [==============================] - 0s 1ms/step - loss: 0.3792 - accuracy: 0.8649\n",
      "Round 66, Loss: 0.385, Accuracy: 0.862\n",
      "313/313 [==============================] - 0s 1ms/step - loss: 0.3794 - accuracy: 0.8656\n",
      "Round 67, Loss: 0.386, Accuracy: 0.861\n",
      "313/313 [==============================] - 0s 1ms/step - loss: 0.3790 - accuracy: 0.8658\n",
      "Round 68, Loss: 0.385, Accuracy: 0.863\n",
      "313/313 [==============================] - 0s 997us/step - loss: 0.3795 - accuracy: 0.8657\n",
      "Round 69, Loss: 0.385, Accuracy: 0.863\n",
      "313/313 [==============================] - 0s 1ms/step - loss: 0.3783 - accuracy: 0.8665\n",
      "Round 70, Loss: 0.384, Accuracy: 0.863\n",
      "313/313 [==============================] - 0s 996us/step - loss: 0.3782 - accuracy: 0.8672\n",
      "Round 71, Loss: 0.384, Accuracy: 0.864\n",
      "313/313 [==============================] - 0s 1ms/step - loss: 0.3776 - accuracy: 0.8663\n",
      "Round 72, Loss: 0.384, Accuracy: 0.863\n",
      "313/313 [==============================] - 0s 1ms/step - loss: 0.3772 - accuracy: 0.8671\n",
      "Round 73, Loss: 0.384, Accuracy: 0.863\n",
      "313/313 [==============================] - 0s 1ms/step - loss: 0.3769 - accuracy: 0.8660\n",
      "Round 74, Loss: 0.383, Accuracy: 0.863\n",
      "313/313 [==============================] - 0s 994us/step - loss: 0.3763 - accuracy: 0.8666\n",
      "Round 75, Loss: 0.383, Accuracy: 0.863\n",
      "313/313 [==============================] - 0s 988us/step - loss: 0.3762 - accuracy: 0.8669\n",
      "Round 76, Loss: 0.383, Accuracy: 0.864\n",
      "313/313 [==============================] - 0s 993us/step - loss: 0.3759 - accuracy: 0.8659\n",
      "Round 77, Loss: 0.382, Accuracy: 0.862\n",
      "313/313 [==============================] - 0s 1ms/step - loss: 0.3760 - accuracy: 0.8666\n",
      "Round 78, Loss: 0.382, Accuracy: 0.864\n",
      "313/313 [==============================] - 0s 990us/step - loss: 0.3764 - accuracy: 0.8672\n",
      "Round 79, Loss: 0.382, Accuracy: 0.864\n",
      "313/313 [==============================] - 0s 1ms/step - loss: 0.3754 - accuracy: 0.8673\n",
      "Round 80, Loss: 0.382, Accuracy: 0.864\n",
      "313/313 [==============================] - 0s 993us/step - loss: 0.3755 - accuracy: 0.8676\n",
      "Round 81, Loss: 0.382, Accuracy: 0.864\n",
      "313/313 [==============================] - 0s 1ms/step - loss: 0.3758 - accuracy: 0.8682\n",
      "Round 82, Loss: 0.382, Accuracy: 0.864\n",
      "313/313 [==============================] - 0s 991us/step - loss: 0.3749 - accuracy: 0.8688\n",
      "Round 83, Loss: 0.381, Accuracy: 0.865\n",
      "313/313 [==============================] - 0s 995us/step - loss: 0.3751 - accuracy: 0.8693\n",
      "Round 84, Loss: 0.381, Accuracy: 0.866\n",
      "313/313 [==============================] - 0s 1ms/step - loss: 0.3747 - accuracy: 0.8666\n",
      "Round 85, Loss: 0.381, Accuracy: 0.864\n",
      "313/313 [==============================] - 0s 1ms/step - loss: 0.3746 - accuracy: 0.8679\n",
      "Round 86, Loss: 0.380, Accuracy: 0.865\n",
      "313/313 [==============================] - 0s 1ms/step - loss: 0.3742 - accuracy: 0.8674\n",
      "Round 87, Loss: 0.380, Accuracy: 0.864\n",
      "313/313 [==============================] - 0s 998us/step - loss: 0.3737 - accuracy: 0.8669\n",
      "Round 88, Loss: 0.380, Accuracy: 0.864\n",
      "313/313 [==============================] - 0s 1ms/step - loss: 0.3741 - accuracy: 0.8681\n",
      "Round 89, Loss: 0.380, Accuracy: 0.864\n",
      "313/313 [==============================] - 0s 1ms/step - loss: 0.3738 - accuracy: 0.8683\n",
      "Round 90, Loss: 0.379, Accuracy: 0.866\n",
      "313/313 [==============================] - 0s 1ms/step - loss: 0.3729 - accuracy: 0.8678\n",
      "Round 91, Loss: 0.379, Accuracy: 0.865\n",
      "313/313 [==============================] - 0s 1ms/step - loss: 0.3727 - accuracy: 0.8680\n",
      "Round 92, Loss: 0.379, Accuracy: 0.865\n",
      "313/313 [==============================] - 0s 1ms/step - loss: 0.3736 - accuracy: 0.8689\n",
      "Round 93, Loss: 0.379, Accuracy: 0.865\n",
      "313/313 [==============================] - 0s 1ms/step - loss: 0.3733 - accuracy: 0.8685\n",
      "Round 94, Loss: 0.379, Accuracy: 0.866\n",
      "313/313 [==============================] - 0s 1ms/step - loss: 0.3730 - accuracy: 0.8673\n",
      "Round 95, Loss: 0.379, Accuracy: 0.865\n",
      "313/313 [==============================] - 0s 1ms/step - loss: 0.3729 - accuracy: 0.8691\n",
      "Round 96, Loss: 0.378, Accuracy: 0.866\n",
      "313/313 [==============================] - 0s 1ms/step - loss: 0.3725 - accuracy: 0.8680\n",
      "Round 97, Loss: 0.378, Accuracy: 0.865\n",
      "313/313 [==============================] - 0s 1ms/step - loss: 0.3721 - accuracy: 0.8684\n",
      "Round 98, Loss: 0.378, Accuracy: 0.865\n",
      "313/313 [==============================] - 0s 1ms/step - loss: 0.3717 - accuracy: 0.8693\n",
      "Round 99, Loss: 0.378, Accuracy: 0.866\n"
     ]
    }
   ],
   "source": [
    "mlp = MLP()\n",
    "\n",
    "global_model = mlp.build()\n",
    "\n",
    "for j in range(comms_round):\n",
    "    \n",
    "    global_weights = global_model.get_weights()\n",
    "    weights = []\n",
    "    \n",
    "    for i in range(10):\n",
    "        client_model = mlp.build()\n",
    "        client_model.compile(loss=loss, \n",
    "                      optimizer=optimizer, \n",
    "                      metrics=metrics)\n",
    "        \n",
    "        client_model.set_weights(global_weights)\n",
    "        X_slices, y_slices = create_clients(X_train, y_train, 10)\n",
    "        \n",
    "        client_model.fit(X_slices[i], y_slices[i], epochs=1, verbose=0)\n",
    "        weights.append(client_model.get_weights())\n",
    "    \n",
    "    global_weights = (X_slices[i].shape[0] / X_train.shape[0]) * np.array(weights[0])\n",
    "    for i in range(1,10):\n",
    "        weights[i] = (X_slices[i].shape[0] / X_train.shape[0]) * np.array(weights[i])\n",
    "        global_weights += np.array(weights[i])\n",
    "    \n",
    "    global_model.set_weights(global_weights)\n",
    "    global_model.compile(loss=loss, \n",
    "                      optimizer=optimizer, \n",
    "                      metrics=metrics)\n",
    "    \n",
    "    test_loss, test_accuracy = global_model.evaluate(X_test, y_test)\n",
    "    print(\"Round {}, Loss: {:.3f}, Accuracy: {:.3f}\".format(j, test_loss, test_accuracy))"
   ]
  },
  {
   "cell_type": "code",
   "execution_count": null,
   "metadata": {},
   "outputs": [],
   "source": []
  },
  {
   "cell_type": "code",
   "execution_count": null,
   "metadata": {},
   "outputs": [],
   "source": []
  }
 ],
 "metadata": {
  "kernelspec": {
   "display_name": "Python 3",
   "language": "python",
   "name": "python3"
  },
  "language_info": {
   "codemirror_mode": {
    "name": "ipython",
    "version": 3
   },
   "file_extension": ".py",
   "mimetype": "text/x-python",
   "name": "python",
   "nbconvert_exporter": "python",
   "pygments_lexer": "ipython3",
   "version": "3.6.9"
  }
 },
 "nbformat": 4,
 "nbformat_minor": 2
}
