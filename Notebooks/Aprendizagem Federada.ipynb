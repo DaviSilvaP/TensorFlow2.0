{
 "cells": [
  {
   "cell_type": "code",
   "execution_count": 1,
   "metadata": {},
   "outputs": [
    {
     "name": "stdout",
     "output_type": "stream",
     "text": [
      "Requirement already satisfied: sklearn in /usr/local/lib/python3.6/dist-packages (0.0)\n",
      "Requirement already satisfied: scikit-learn in /usr/local/lib/python3.6/dist-packages (from sklearn) (0.24.0)\n",
      "Requirement already satisfied: numpy>=1.13.3 in /usr/local/lib/python3.6/dist-packages (from scikit-learn->sklearn) (1.19.4)\n",
      "Requirement already satisfied: threadpoolctl>=2.0.0 in /usr/local/lib/python3.6/dist-packages (from scikit-learn->sklearn) (2.1.0)\n",
      "Requirement already satisfied: joblib>=0.11 in /usr/local/lib/python3.6/dist-packages (from scikit-learn->sklearn) (1.0.0)\n",
      "Requirement already satisfied: scipy>=0.19.1 in /usr/local/lib/python3.6/dist-packages (from scikit-learn->sklearn) (1.5.4)\n",
      "\u001b[33mWARNING: You are using pip version 20.2.4; however, version 20.3.3 is available.\n",
      "You should consider upgrading via the '/usr/bin/python3 -m pip install --upgrade pip' command.\u001b[0m\n"
     ]
    }
   ],
   "source": [
    "!pip install sklearn"
   ]
  },
  {
   "cell_type": "code",
   "execution_count": 2,
   "metadata": {},
   "outputs": [],
   "source": [
    "import numpy as np\n",
    "import datetime\n",
    "import tensorflow as tf\n",
    "from tensorflow.keras.datasets import fashion_mnist\n",
    "\n",
    "from sklearn.preprocessing import LabelBinarizer"
   ]
  },
  {
   "cell_type": "markdown",
   "metadata": {},
   "source": [
    "# Coleta dos Dados"
   ]
  },
  {
   "cell_type": "code",
   "execution_count": 3,
   "metadata": {},
   "outputs": [],
   "source": [
    "(X_train, y_train), (X_test, y_test) = fashion_mnist.load_data()"
   ]
  },
  {
   "cell_type": "code",
   "execution_count": 4,
   "metadata": {},
   "outputs": [
    {
     "data": {
      "text/plain": [
       "((60000, 28, 28), (60000,), (10000, 28, 28), (10000,))"
      ]
     },
     "execution_count": 4,
     "metadata": {},
     "output_type": "execute_result"
    }
   ],
   "source": [
    "X_train.shape, y_train.shape, X_test.shape, y_test.shape"
   ]
  },
  {
   "cell_type": "markdown",
   "metadata": {},
   "source": [
    "## Normalização das imagens"
   ]
  },
  {
   "cell_type": "code",
   "execution_count": 5,
   "metadata": {},
   "outputs": [],
   "source": [
    "X_train = X_train / 255.0\n",
    "X_test = X_test / 255.0"
   ]
  },
  {
   "cell_type": "markdown",
   "metadata": {},
   "source": [
    "## Remodelagem (reshaping) a base de dados"
   ]
  },
  {
   "cell_type": "code",
   "execution_count": 6,
   "metadata": {},
   "outputs": [
    {
     "data": {
      "text/plain": [
       "(60000, 28, 28)"
      ]
     },
     "execution_count": 6,
     "metadata": {},
     "output_type": "execute_result"
    }
   ],
   "source": [
    "# 6000 imagens, 28 de altura e 28 de largura\n",
    "X_train.shape"
   ]
  },
  {
   "cell_type": "code",
   "execution_count": 7,
   "metadata": {},
   "outputs": [
    {
     "data": {
      "text/plain": [
       "((60000, 784), (10000, 784))"
      ]
     },
     "execution_count": 7,
     "metadata": {},
     "output_type": "execute_result"
    }
   ],
   "source": [
    "# altera de uma matriz para um vetor\n",
    "X_train = X_train.reshape(-1, 28*28)\n",
    "X_test = X_test.reshape(-1, 28*28)\n",
    "X_train.shape, X_test.shape"
   ]
  },
  {
   "cell_type": "code",
   "execution_count": 8,
   "metadata": {},
   "outputs": [],
   "source": [
    "lb = LabelBinarizer()\n",
    "y_train = lb.fit_transform(y_train)\n",
    "y_test = lb.fit_transform(y_test)"
   ]
  },
  {
   "cell_type": "code",
   "execution_count": 9,
   "metadata": {},
   "outputs": [],
   "source": [
    "lr = 0.01 \n",
    "comms_round = 100\n",
    "loss='categorical_crossentropy'\n",
    "metrics = ['accuracy']\n",
    "optimizer = tf.keras.optimizers.SGD(lr=lr, decay= lr/comms_round, momentum=0.9)    "
   ]
  },
  {
   "cell_type": "markdown",
   "metadata": {},
   "source": [
    "# Criação de Clientes"
   ]
  },
  {
   "cell_type": "code",
   "execution_count": 10,
   "metadata": {},
   "outputs": [],
   "source": [
    "n_clients = 20"
   ]
  },
  {
   "cell_type": "markdown",
   "metadata": {},
   "source": [
    "1. Cria um vetor com os indices dos pontos de dados e embaralha seus indices\n",
    "2. Distribui os indices dos pontos de dados entre os clientes e então embaralha-os\n",
    "3. Gera valores a partir de uma distribuição uniforme (entre 0 e 1)\n",
    "4. Passa por metade dos indices de clientes, removendo uma pocentagem dos dados de cada um desses clientes e passando para a outra metade dos clientes "
   ]
  },
  {
   "cell_type": "code",
   "execution_count": 11,
   "metadata": {},
   "outputs": [],
   "source": [
    "def generate_indexes(X, n_clients):\n",
    "    indexes = np.arange(np.random.randint(int(X.shape[0] * 0.8), X.shape[0]))\n",
    "    \n",
    "    np.random.shuffle(indexes)\n",
    "    indexes = np.array_split(indexes, n_clients)\n",
    "    \n",
    "    clients_index = np.arange(n_clients)\n",
    "    np.random.shuffle(clients_index)\n",
    "    \n",
    "    half_clients = int(n_clients / 2)\n",
    "    samples = np.random.random_sample((half_clients,))\n",
    "    for i in range(half_clients):\n",
    "        client_A = indexes[clients_index[i]]\n",
    "        client_B = indexes[clients_index[i + half_clients]]\n",
    "        \n",
    "        client_A = np.concatenate((client_A, client_B[:int(client_B.shape[0] * samples[i])]))\n",
    "        client_B = client_B[int(client_B.shape[0] * samples[i]):]\n",
    "        \n",
    "        indexes[clients_index[i]] = client_A\n",
    "        indexes[clients_index[i + half_clients]] = client_B\n",
    "    \n",
    "    return indexes"
   ]
  },
  {
   "cell_type": "code",
   "execution_count": 12,
   "metadata": {},
   "outputs": [],
   "source": [
    "def create_clients(X, y, n_clients):\n",
    "\n",
    "    indexes = generate_indexes(X, n_clients)\n",
    "    \n",
    "    X_slices = np.array([X[indexes[i]] for i in range(n_clients)], dtype='object')\n",
    "    y_slices = np.array([y[indexes[i]] for i in range(n_clients)], dtype='object')\n",
    "    return X_slices, y_slices"
   ]
  },
  {
   "cell_type": "code",
   "execution_count": 13,
   "metadata": {},
   "outputs": [],
   "source": [
    "X_slices, y_slices = create_clients(X_train, y_train, n_clients)"
   ]
  },
  {
   "cell_type": "code",
   "execution_count": 14,
   "metadata": {},
   "outputs": [
    {
     "data": {
      "text/plain": [
       "((20,), (20,))"
      ]
     },
     "execution_count": 14,
     "metadata": {},
     "output_type": "execute_result"
    }
   ],
   "source": [
    "X_slices.shape, y_slices.shape"
   ]
  },
  {
   "cell_type": "markdown",
   "metadata": {},
   "source": [
    "# Construção do Modelo"
   ]
  },
  {
   "cell_type": "code",
   "execution_count": 15,
   "metadata": {},
   "outputs": [],
   "source": [
    "class MLP:\n",
    "    def build(self):\n",
    "        model = tf.keras.models.Sequential()\n",
    "        model.add(tf.keras.layers.Dense(units=256, activation='relu', input_shape=(784, )))\n",
    "        model.add(tf.keras.layers.Dropout(0.2))\n",
    "        model.add(tf.keras.layers.Dense(units=128, activation='relu', input_shape=(784, )))\n",
    "        model.add(tf.keras.layers.Dropout(0.2))\n",
    "        model.add(tf.keras.layers.Dense(units=10, activation='softmax'))\n",
    "        return model"
   ]
  },
  {
   "cell_type": "code",
   "execution_count": 16,
   "metadata": {},
   "outputs": [],
   "source": [
    "def NN_update(local_data, global_data, model, X_test, y_test):\n",
    "    \n",
    "    weights = (local_data / global_data) * np.array(client_model.get_weights(), dtype='object')\n",
    "    test_loss, test_accuracy = model.evaluate(X_test, y_test, verbose=0)\n",
    "    \n",
    "    test_loss = (local_data / global_data) * test_loss\n",
    "    test_accuracy = (local_data / global_data) * test_accuracy\n",
    "    \n",
    "    return weights, test_loss, test_accuracy"
   ]
  },
  {
   "cell_type": "code",
   "execution_count": 17,
   "metadata": {
    "scrolled": true
   },
   "outputs": [
    {
     "name": "stderr",
     "output_type": "stream",
     "text": [
      "/usr/local/lib/python3.6/dist-packages/ipykernel_launcher.py:29: VisibleDeprecationWarning: Creating an ndarray from ragged nested sequences (which is a list-or-tuple of lists-or-tuples-or ndarrays with different lengths or shapes) is deprecated. If you meant to do this, you must specify 'dtype=object' when creating the ndarray\n"
     ]
    },
    {
     "name": "stdout",
     "output_type": "stream",
     "text": [
      "313/313 [==============================] - 0s 1ms/step - loss: 0.5989 - accuracy: 0.7869\n",
      "Round 0, Loss: 0.602, Accuracy: 0.787\n",
      "(AVG Local) Round 0, Loss: 0.652, Accuracy: 0.762\n",
      "313/313 [==============================] - 0s 1ms/step - loss: 0.5309 - accuracy: 0.8087\n",
      "Round 1, Loss: 0.531, Accuracy: 0.809\n",
      "(AVG Local) Round 1, Loss: 0.578, Accuracy: 0.788\n",
      "313/313 [==============================] - 0s 1ms/step - loss: 0.4942 - accuracy: 0.8235\n",
      "Round 2, Loss: 0.494, Accuracy: 0.823\n",
      "(AVG Local) Round 2, Loss: 0.524, Accuracy: 0.811\n",
      "313/313 [==============================] - 0s 1ms/step - loss: 0.4734 - accuracy: 0.8301\n",
      "Round 3, Loss: 0.473, Accuracy: 0.830\n",
      "(AVG Local) Round 3, Loss: 0.501, Accuracy: 0.820\n",
      "313/313 [==============================] - 0s 1ms/step - loss: 0.4578 - accuracy: 0.8370\n",
      "Round 4, Loss: 0.458, Accuracy: 0.837\n",
      "(AVG Local) Round 4, Loss: 0.480, Accuracy: 0.827\n",
      "313/313 [==============================] - 0s 1ms/step - loss: 0.4430 - accuracy: 0.8422\n",
      "Round 5, Loss: 0.443, Accuracy: 0.842\n",
      "(AVG Local) Round 5, Loss: 0.463, Accuracy: 0.833\n",
      "313/313 [==============================] - 0s 1ms/step - loss: 0.4350 - accuracy: 0.8441\n",
      "Round 6, Loss: 0.435, Accuracy: 0.844\n",
      "(AVG Local) Round 6, Loss: 0.454, Accuracy: 0.836\n",
      "313/313 [==============================] - 0s 1ms/step - loss: 0.4282 - accuracy: 0.8465\n",
      "Round 7, Loss: 0.428, Accuracy: 0.846\n",
      "(AVG Local) Round 7, Loss: 0.448, Accuracy: 0.839\n",
      "313/313 [==============================] - 0s 1ms/step - loss: 0.4219 - accuracy: 0.8473\n",
      "Round 8, Loss: 0.422, Accuracy: 0.847\n",
      "(AVG Local) Round 8, Loss: 0.439, Accuracy: 0.842\n",
      "313/313 [==============================] - 0s 1ms/step - loss: 0.4195 - accuracy: 0.8483\n",
      "Round 9, Loss: 0.420, Accuracy: 0.848\n",
      "(AVG Local) Round 9, Loss: 0.434, Accuracy: 0.844\n",
      "313/313 [==============================] - 0s 1ms/step - loss: 0.4149 - accuracy: 0.8500\n",
      "Round 10, Loss: 0.415, Accuracy: 0.850\n",
      "(AVG Local) Round 10, Loss: 0.430, Accuracy: 0.845\n",
      "313/313 [==============================] - 0s 1ms/step - loss: 0.4132 - accuracy: 0.8491\n",
      "Round 11, Loss: 0.413, Accuracy: 0.849\n",
      "(AVG Local) Round 11, Loss: 0.425, Accuracy: 0.847\n",
      "313/313 [==============================] - 0s 1ms/step - loss: 0.4085 - accuracy: 0.8519\n",
      "Round 12, Loss: 0.409, Accuracy: 0.852\n",
      "(AVG Local) Round 12, Loss: 0.421, Accuracy: 0.848\n",
      "313/313 [==============================] - 0s 1ms/step - loss: 0.4059 - accuracy: 0.8528\n",
      "Round 13, Loss: 0.406, Accuracy: 0.853\n",
      "(AVG Local) Round 13, Loss: 0.417, Accuracy: 0.850\n",
      "313/313 [==============================] - 0s 1ms/step - loss: 0.4049 - accuracy: 0.8522\n",
      "Round 14, Loss: 0.405, Accuracy: 0.852\n",
      "(AVG Local) Round 14, Loss: 0.414, Accuracy: 0.850\n",
      "313/313 [==============================] - 0s 1ms/step - loss: 0.4025 - accuracy: 0.8547\n",
      "Round 15, Loss: 0.402, Accuracy: 0.855\n",
      "(AVG Local) Round 15, Loss: 0.413, Accuracy: 0.851\n",
      "313/313 [==============================] - 0s 1ms/step - loss: 0.4008 - accuracy: 0.8543\n",
      "Round 16, Loss: 0.401, Accuracy: 0.854\n",
      "(AVG Local) Round 16, Loss: 0.411, Accuracy: 0.850\n",
      "313/313 [==============================] - 0s 1ms/step - loss: 0.3988 - accuracy: 0.8543\n",
      "Round 17, Loss: 0.399, Accuracy: 0.854\n",
      "(AVG Local) Round 17, Loss: 0.408, Accuracy: 0.853\n",
      "313/313 [==============================] - 0s 1ms/step - loss: 0.3978 - accuracy: 0.8545\n",
      "Round 18, Loss: 0.398, Accuracy: 0.854\n",
      "(AVG Local) Round 18, Loss: 0.406, Accuracy: 0.853\n",
      "313/313 [==============================] - 0s 1ms/step - loss: 0.3954 - accuracy: 0.8575\n",
      "Round 19, Loss: 0.395, Accuracy: 0.858\n",
      "(AVG Local) Round 19, Loss: 0.404, Accuracy: 0.854\n",
      "313/313 [==============================] - 0s 1ms/step - loss: 0.3940 - accuracy: 0.8581\n",
      "Round 20, Loss: 0.394, Accuracy: 0.858\n",
      "(AVG Local) Round 20, Loss: 0.402, Accuracy: 0.855\n",
      "313/313 [==============================] - 0s 1ms/step - loss: 0.3926 - accuracy: 0.8574\n",
      "Round 21, Loss: 0.393, Accuracy: 0.857\n",
      "(AVG Local) Round 21, Loss: 0.401, Accuracy: 0.854\n",
      "313/313 [==============================] - 0s 1ms/step - loss: 0.3916 - accuracy: 0.8580\n",
      "Round 22, Loss: 0.392, Accuracy: 0.858\n",
      "(AVG Local) Round 22, Loss: 0.399, Accuracy: 0.855\n",
      "313/313 [==============================] - 0s 1ms/step - loss: 0.3904 - accuracy: 0.8579\n",
      "Round 23, Loss: 0.390, Accuracy: 0.858\n",
      "(AVG Local) Round 23, Loss: 0.398, Accuracy: 0.856\n",
      "313/313 [==============================] - 0s 1ms/step - loss: 0.3889 - accuracy: 0.8593\n",
      "Round 24, Loss: 0.389, Accuracy: 0.859\n",
      "(AVG Local) Round 24, Loss: 0.396, Accuracy: 0.856\n",
      "313/313 [==============================] - 0s 1ms/step - loss: 0.3884 - accuracy: 0.8593\n",
      "Round 25, Loss: 0.388, Accuracy: 0.859\n",
      "(AVG Local) Round 25, Loss: 0.395, Accuracy: 0.857\n",
      "313/313 [==============================] - 0s 1ms/step - loss: 0.3873 - accuracy: 0.8594\n",
      "Round 26, Loss: 0.387, Accuracy: 0.859\n",
      "(AVG Local) Round 26, Loss: 0.393, Accuracy: 0.857\n",
      "313/313 [==============================] - 0s 1ms/step - loss: 0.3863 - accuracy: 0.8592\n",
      "Round 27, Loss: 0.386, Accuracy: 0.859\n",
      "(AVG Local) Round 27, Loss: 0.392, Accuracy: 0.858\n",
      "313/313 [==============================] - 0s 1ms/step - loss: 0.3853 - accuracy: 0.8596\n",
      "Round 28, Loss: 0.385, Accuracy: 0.860\n",
      "(AVG Local) Round 28, Loss: 0.392, Accuracy: 0.858\n",
      "313/313 [==============================] - 0s 1ms/step - loss: 0.3842 - accuracy: 0.8611\n",
      "Round 29, Loss: 0.384, Accuracy: 0.861\n",
      "(AVG Local) Round 29, Loss: 0.391, Accuracy: 0.859\n",
      "313/313 [==============================] - 0s 1ms/step - loss: 0.3837 - accuracy: 0.8602\n",
      "Round 30, Loss: 0.384, Accuracy: 0.860\n",
      "(AVG Local) Round 30, Loss: 0.389, Accuracy: 0.859\n",
      "313/313 [==============================] - 0s 1ms/step - loss: 0.3830 - accuracy: 0.8610\n",
      "Round 31, Loss: 0.383, Accuracy: 0.861\n",
      "(AVG Local) Round 31, Loss: 0.389, Accuracy: 0.859\n",
      "313/313 [==============================] - 0s 1ms/step - loss: 0.3815 - accuracy: 0.8612\n",
      "Round 32, Loss: 0.382, Accuracy: 0.861\n",
      "(AVG Local) Round 32, Loss: 0.388, Accuracy: 0.859\n",
      "313/313 [==============================] - 0s 1ms/step - loss: 0.3811 - accuracy: 0.8619\n",
      "Round 33, Loss: 0.381, Accuracy: 0.862\n",
      "(AVG Local) Round 33, Loss: 0.388, Accuracy: 0.859\n",
      "313/313 [==============================] - 0s 1ms/step - loss: 0.3807 - accuracy: 0.8613\n",
      "Round 34, Loss: 0.381, Accuracy: 0.861\n",
      "(AVG Local) Round 34, Loss: 0.386, Accuracy: 0.860\n",
      "313/313 [==============================] - 0s 1ms/step - loss: 0.3799 - accuracy: 0.8613\n",
      "Round 35, Loss: 0.380, Accuracy: 0.861\n",
      "(AVG Local) Round 35, Loss: 0.386, Accuracy: 0.860\n",
      "313/313 [==============================] - 0s 1ms/step - loss: 0.3788 - accuracy: 0.8629\n",
      "Round 36, Loss: 0.379, Accuracy: 0.863\n",
      "(AVG Local) Round 36, Loss: 0.384, Accuracy: 0.861\n",
      "313/313 [==============================] - 0s 1ms/step - loss: 0.3782 - accuracy: 0.8631\n",
      "Round 37, Loss: 0.378, Accuracy: 0.863\n",
      "(AVG Local) Round 37, Loss: 0.383, Accuracy: 0.861\n",
      "313/313 [==============================] - 0s 1ms/step - loss: 0.3772 - accuracy: 0.8634\n",
      "Round 38, Loss: 0.377, Accuracy: 0.863\n",
      "(AVG Local) Round 38, Loss: 0.381, Accuracy: 0.862\n",
      "313/313 [==============================] - 0s 1ms/step - loss: 0.3766 - accuracy: 0.8637\n",
      "Round 39, Loss: 0.377, Accuracy: 0.864\n",
      "(AVG Local) Round 39, Loss: 0.382, Accuracy: 0.862\n",
      "313/313 [==============================] - 0s 1ms/step - loss: 0.3761 - accuracy: 0.8640\n",
      "Round 40, Loss: 0.376, Accuracy: 0.864\n",
      "(AVG Local) Round 40, Loss: 0.381, Accuracy: 0.862\n",
      "313/313 [==============================] - 0s 1ms/step - loss: 0.3755 - accuracy: 0.8646\n",
      "Round 41, Loss: 0.375, Accuracy: 0.865\n",
      "(AVG Local) Round 41, Loss: 0.380, Accuracy: 0.863\n",
      "313/313 [==============================] - 0s 1ms/step - loss: 0.3750 - accuracy: 0.8649\n",
      "Round 42, Loss: 0.375, Accuracy: 0.865\n",
      "(AVG Local) Round 42, Loss: 0.380, Accuracy: 0.863\n",
      "313/313 [==============================] - 0s 1ms/step - loss: 0.3744 - accuracy: 0.8649\n",
      "Round 43, Loss: 0.374, Accuracy: 0.865\n",
      "(AVG Local) Round 43, Loss: 0.379, Accuracy: 0.863\n",
      "313/313 [==============================] - 0s 1ms/step - loss: 0.3741 - accuracy: 0.8654\n",
      "Round 44, Loss: 0.374, Accuracy: 0.865\n",
      "(AVG Local) Round 44, Loss: 0.378, Accuracy: 0.863\n",
      "313/313 [==============================] - 0s 1ms/step - loss: 0.3739 - accuracy: 0.8651\n",
      "Round 45, Loss: 0.374, Accuracy: 0.865\n",
      "(AVG Local) Round 45, Loss: 0.378, Accuracy: 0.863\n"
     ]
    },
    {
     "name": "stdout",
     "output_type": "stream",
     "text": [
      "313/313 [==============================] - 0s 1ms/step - loss: 0.3736 - accuracy: 0.8649\n",
      "Round 46, Loss: 0.374, Accuracy: 0.865\n",
      "(AVG Local) Round 46, Loss: 0.378, Accuracy: 0.863\n",
      "313/313 [==============================] - 0s 1ms/step - loss: 0.3726 - accuracy: 0.8658\n",
      "Round 47, Loss: 0.373, Accuracy: 0.866\n",
      "(AVG Local) Round 47, Loss: 0.376, Accuracy: 0.864\n",
      "313/313 [==============================] - 0s 1ms/step - loss: 0.3726 - accuracy: 0.8656\n",
      "Round 48, Loss: 0.373, Accuracy: 0.866\n",
      "(AVG Local) Round 48, Loss: 0.377, Accuracy: 0.864\n",
      "313/313 [==============================] - 0s 1ms/step - loss: 0.3721 - accuracy: 0.8660\n",
      "Round 49, Loss: 0.372, Accuracy: 0.866\n",
      "(AVG Local) Round 49, Loss: 0.376, Accuracy: 0.864\n",
      "313/313 [==============================] - 0s 1ms/step - loss: 0.3715 - accuracy: 0.8660\n",
      "Round 50, Loss: 0.371, Accuracy: 0.866\n",
      "(AVG Local) Round 50, Loss: 0.376, Accuracy: 0.864\n",
      "313/313 [==============================] - 0s 1ms/step - loss: 0.3709 - accuracy: 0.8665\n",
      "Round 51, Loss: 0.371, Accuracy: 0.867\n",
      "(AVG Local) Round 51, Loss: 0.375, Accuracy: 0.864\n",
      "313/313 [==============================] - 0s 1ms/step - loss: 0.3704 - accuracy: 0.8663\n",
      "Round 52, Loss: 0.370, Accuracy: 0.866\n",
      "(AVG Local) Round 52, Loss: 0.374, Accuracy: 0.864\n",
      "313/313 [==============================] - 0s 1ms/step - loss: 0.3704 - accuracy: 0.8659\n",
      "Round 53, Loss: 0.370, Accuracy: 0.866\n",
      "(AVG Local) Round 53, Loss: 0.375, Accuracy: 0.864\n",
      "313/313 [==============================] - 0s 1ms/step - loss: 0.3703 - accuracy: 0.8661\n",
      "Round 54, Loss: 0.370, Accuracy: 0.866\n",
      "(AVG Local) Round 54, Loss: 0.373, Accuracy: 0.865\n",
      "313/313 [==============================] - 0s 1ms/step - loss: 0.3695 - accuracy: 0.8659\n",
      "Round 55, Loss: 0.369, Accuracy: 0.866\n",
      "(AVG Local) Round 55, Loss: 0.373, Accuracy: 0.865\n",
      "313/313 [==============================] - 0s 996us/step - loss: 0.3690 - accuracy: 0.8667\n",
      "Round 56, Loss: 0.369, Accuracy: 0.867\n",
      "(AVG Local) Round 56, Loss: 0.372, Accuracy: 0.866\n",
      "313/313 [==============================] - 0s 1ms/step - loss: 0.3687 - accuracy: 0.8667\n",
      "Round 57, Loss: 0.369, Accuracy: 0.867\n",
      "(AVG Local) Round 57, Loss: 0.372, Accuracy: 0.866\n"
     ]
    },
    {
     "ename": "KeyboardInterrupt",
     "evalue": "",
     "output_type": "error",
     "traceback": [
      "\u001b[0;31m---------------------------------------------------------------------------\u001b[0m",
      "\u001b[0;31mInvalidArgumentError\u001b[0m                      Traceback (most recent call last)",
      "\u001b[0;32m/usr/local/lib/python3.6/dist-packages/tensorflow/python/framework/ops.py\u001b[0m in \u001b[0;36mget_attr\u001b[0;34m(self, name)\u001b[0m\n\u001b[1;32m   2530\u001b[0m       \u001b[0;32mwith\u001b[0m \u001b[0mc_api_util\u001b[0m\u001b[0;34m.\u001b[0m\u001b[0mtf_buffer\u001b[0m\u001b[0;34m(\u001b[0m\u001b[0;34m)\u001b[0m \u001b[0;32mas\u001b[0m \u001b[0mbuf\u001b[0m\u001b[0;34m:\u001b[0m\u001b[0;34m\u001b[0m\u001b[0;34m\u001b[0m\u001b[0m\n\u001b[0;32m-> 2531\u001b[0;31m         \u001b[0mpywrap_tf_session\u001b[0m\u001b[0;34m.\u001b[0m\u001b[0mTF_OperationGetAttrValueProto\u001b[0m\u001b[0;34m(\u001b[0m\u001b[0mself\u001b[0m\u001b[0;34m.\u001b[0m\u001b[0m_c_op\u001b[0m\u001b[0;34m,\u001b[0m \u001b[0mname\u001b[0m\u001b[0;34m,\u001b[0m \u001b[0mbuf\u001b[0m\u001b[0;34m)\u001b[0m\u001b[0;34m\u001b[0m\u001b[0;34m\u001b[0m\u001b[0m\n\u001b[0m\u001b[1;32m   2532\u001b[0m         \u001b[0mdata\u001b[0m \u001b[0;34m=\u001b[0m \u001b[0mpywrap_tf_session\u001b[0m\u001b[0;34m.\u001b[0m\u001b[0mTF_GetBuffer\u001b[0m\u001b[0;34m(\u001b[0m\u001b[0mbuf\u001b[0m\u001b[0;34m)\u001b[0m\u001b[0;34m\u001b[0m\u001b[0;34m\u001b[0m\u001b[0m\n",
      "\u001b[0;31mInvalidArgumentError\u001b[0m: Operation 'AssignAddVariableOp_1' has no attr named '_read_only_resource_inputs'.",
      "\nDuring handling of the above exception, another exception occurred:\n",
      "\u001b[0;31mValueError\u001b[0m                                Traceback (most recent call last)",
      "\u001b[0;32m/usr/local/lib/python3.6/dist-packages/tensorflow/python/framework/auto_control_deps_utils.py\u001b[0m in \u001b[0;36mget_read_write_resource_inputs\u001b[0;34m(op)\u001b[0m\n\u001b[1;32m    108\u001b[0m   \u001b[0;32mtry\u001b[0m\u001b[0;34m:\u001b[0m\u001b[0;34m\u001b[0m\u001b[0;34m\u001b[0m\u001b[0m\n\u001b[0;32m--> 109\u001b[0;31m     \u001b[0mread_only_input_indices\u001b[0m \u001b[0;34m=\u001b[0m \u001b[0mop\u001b[0m\u001b[0;34m.\u001b[0m\u001b[0mget_attr\u001b[0m\u001b[0;34m(\u001b[0m\u001b[0mREAD_ONLY_RESOURCE_INPUTS_ATTR\u001b[0m\u001b[0;34m)\u001b[0m\u001b[0;34m\u001b[0m\u001b[0;34m\u001b[0m\u001b[0m\n\u001b[0m\u001b[1;32m    110\u001b[0m   \u001b[0;32mexcept\u001b[0m \u001b[0mValueError\u001b[0m\u001b[0;34m:\u001b[0m\u001b[0;34m\u001b[0m\u001b[0;34m\u001b[0m\u001b[0m\n",
      "\u001b[0;32m/usr/local/lib/python3.6/dist-packages/tensorflow/python/framework/ops.py\u001b[0m in \u001b[0;36mget_attr\u001b[0;34m(self, name)\u001b[0m\n\u001b[1;32m   2534\u001b[0m       \u001b[0;31m# Convert to ValueError for backwards compatibility.\u001b[0m\u001b[0;34m\u001b[0m\u001b[0;34m\u001b[0m\u001b[0;34m\u001b[0m\u001b[0m\n\u001b[0;32m-> 2535\u001b[0;31m       \u001b[0;32mraise\u001b[0m \u001b[0mValueError\u001b[0m\u001b[0;34m(\u001b[0m\u001b[0mstr\u001b[0m\u001b[0;34m(\u001b[0m\u001b[0me\u001b[0m\u001b[0;34m)\u001b[0m\u001b[0;34m)\u001b[0m\u001b[0;34m\u001b[0m\u001b[0;34m\u001b[0m\u001b[0m\n\u001b[0m\u001b[1;32m   2536\u001b[0m     \u001b[0mx\u001b[0m \u001b[0;34m=\u001b[0m \u001b[0mattr_value_pb2\u001b[0m\u001b[0;34m.\u001b[0m\u001b[0mAttrValue\u001b[0m\u001b[0;34m(\u001b[0m\u001b[0;34m)\u001b[0m\u001b[0;34m\u001b[0m\u001b[0;34m\u001b[0m\u001b[0m\n",
      "\u001b[0;31mValueError\u001b[0m: Operation 'AssignAddVariableOp_1' has no attr named '_read_only_resource_inputs'.",
      "\nDuring handling of the above exception, another exception occurred:\n",
      "\u001b[0;31mKeyboardInterrupt\u001b[0m                         Traceback (most recent call last)",
      "\u001b[0;32m<ipython-input-17-00b70faaf581>\u001b[0m in \u001b[0;36m<module>\u001b[0;34m\u001b[0m\n\u001b[1;32m     22\u001b[0m \u001b[0;34m\u001b[0m\u001b[0m\n\u001b[1;32m     23\u001b[0m         \u001b[0mclient_model\u001b[0m\u001b[0;34m.\u001b[0m\u001b[0mset_weights\u001b[0m\u001b[0;34m(\u001b[0m\u001b[0mglobal_weights\u001b[0m\u001b[0;34m)\u001b[0m\u001b[0;34m\u001b[0m\u001b[0;34m\u001b[0m\u001b[0m\n\u001b[0;32m---> 24\u001b[0;31m         \u001b[0mclient_model\u001b[0m\u001b[0;34m.\u001b[0m\u001b[0mfit\u001b[0m\u001b[0;34m(\u001b[0m\u001b[0mX_slices\u001b[0m\u001b[0;34m[\u001b[0m\u001b[0mi\u001b[0m\u001b[0;34m]\u001b[0m\u001b[0;34m,\u001b[0m \u001b[0my_slices\u001b[0m\u001b[0;34m[\u001b[0m\u001b[0mi\u001b[0m\u001b[0;34m]\u001b[0m\u001b[0;34m,\u001b[0m \u001b[0mepochs\u001b[0m\u001b[0;34m=\u001b[0m\u001b[0;36m2\u001b[0m\u001b[0;34m,\u001b[0m \u001b[0mverbose\u001b[0m\u001b[0;34m=\u001b[0m\u001b[0;36m0\u001b[0m\u001b[0;34m)\u001b[0m\u001b[0;34m\u001b[0m\u001b[0;34m\u001b[0m\u001b[0m\n\u001b[0m\u001b[1;32m     25\u001b[0m \u001b[0;34m\u001b[0m\u001b[0m\n\u001b[1;32m     26\u001b[0m         weights, test_loss, test_accuracy = NN_update(X_slices[i].shape[0], global_data, \n",
      "\u001b[0;32m/usr/local/lib/python3.6/dist-packages/tensorflow/python/keras/engine/training.py\u001b[0m in \u001b[0;36mfit\u001b[0;34m(self, x, y, batch_size, epochs, verbose, callbacks, validation_split, validation_data, shuffle, class_weight, sample_weight, initial_epoch, steps_per_epoch, validation_steps, validation_batch_size, validation_freq, max_queue_size, workers, use_multiprocessing)\u001b[0m\n\u001b[1;32m   1098\u001b[0m                 _r=1):\n\u001b[1;32m   1099\u001b[0m               \u001b[0mcallbacks\u001b[0m\u001b[0;34m.\u001b[0m\u001b[0mon_train_batch_begin\u001b[0m\u001b[0;34m(\u001b[0m\u001b[0mstep\u001b[0m\u001b[0;34m)\u001b[0m\u001b[0;34m\u001b[0m\u001b[0;34m\u001b[0m\u001b[0m\n\u001b[0;32m-> 1100\u001b[0;31m               \u001b[0mtmp_logs\u001b[0m \u001b[0;34m=\u001b[0m \u001b[0mself\u001b[0m\u001b[0;34m.\u001b[0m\u001b[0mtrain_function\u001b[0m\u001b[0;34m(\u001b[0m\u001b[0miterator\u001b[0m\u001b[0;34m)\u001b[0m\u001b[0;34m\u001b[0m\u001b[0;34m\u001b[0m\u001b[0m\n\u001b[0m\u001b[1;32m   1101\u001b[0m               \u001b[0;32mif\u001b[0m \u001b[0mdata_handler\u001b[0m\u001b[0;34m.\u001b[0m\u001b[0mshould_sync\u001b[0m\u001b[0;34m:\u001b[0m\u001b[0;34m\u001b[0m\u001b[0;34m\u001b[0m\u001b[0m\n\u001b[1;32m   1102\u001b[0m                 \u001b[0mcontext\u001b[0m\u001b[0;34m.\u001b[0m\u001b[0masync_wait\u001b[0m\u001b[0;34m(\u001b[0m\u001b[0;34m)\u001b[0m\u001b[0;34m\u001b[0m\u001b[0;34m\u001b[0m\u001b[0m\n",
      "\u001b[0;32m/usr/local/lib/python3.6/dist-packages/tensorflow/python/eager/def_function.py\u001b[0m in \u001b[0;36m__call__\u001b[0;34m(self, *args, **kwds)\u001b[0m\n\u001b[1;32m    826\u001b[0m     \u001b[0mtracing_count\u001b[0m \u001b[0;34m=\u001b[0m \u001b[0mself\u001b[0m\u001b[0;34m.\u001b[0m\u001b[0mexperimental_get_tracing_count\u001b[0m\u001b[0;34m(\u001b[0m\u001b[0;34m)\u001b[0m\u001b[0;34m\u001b[0m\u001b[0;34m\u001b[0m\u001b[0m\n\u001b[1;32m    827\u001b[0m     \u001b[0;32mwith\u001b[0m \u001b[0mtrace\u001b[0m\u001b[0;34m.\u001b[0m\u001b[0mTrace\u001b[0m\u001b[0;34m(\u001b[0m\u001b[0mself\u001b[0m\u001b[0;34m.\u001b[0m\u001b[0m_name\u001b[0m\u001b[0;34m)\u001b[0m \u001b[0;32mas\u001b[0m \u001b[0mtm\u001b[0m\u001b[0;34m:\u001b[0m\u001b[0;34m\u001b[0m\u001b[0;34m\u001b[0m\u001b[0m\n\u001b[0;32m--> 828\u001b[0;31m       \u001b[0mresult\u001b[0m \u001b[0;34m=\u001b[0m \u001b[0mself\u001b[0m\u001b[0;34m.\u001b[0m\u001b[0m_call\u001b[0m\u001b[0;34m(\u001b[0m\u001b[0;34m*\u001b[0m\u001b[0margs\u001b[0m\u001b[0;34m,\u001b[0m \u001b[0;34m**\u001b[0m\u001b[0mkwds\u001b[0m\u001b[0;34m)\u001b[0m\u001b[0;34m\u001b[0m\u001b[0;34m\u001b[0m\u001b[0m\n\u001b[0m\u001b[1;32m    829\u001b[0m       \u001b[0mcompiler\u001b[0m \u001b[0;34m=\u001b[0m \u001b[0;34m\"xla\"\u001b[0m \u001b[0;32mif\u001b[0m \u001b[0mself\u001b[0m\u001b[0;34m.\u001b[0m\u001b[0m_experimental_compile\u001b[0m \u001b[0;32melse\u001b[0m \u001b[0;34m\"nonXla\"\u001b[0m\u001b[0;34m\u001b[0m\u001b[0;34m\u001b[0m\u001b[0m\n\u001b[1;32m    830\u001b[0m       \u001b[0mnew_tracing_count\u001b[0m \u001b[0;34m=\u001b[0m \u001b[0mself\u001b[0m\u001b[0;34m.\u001b[0m\u001b[0mexperimental_get_tracing_count\u001b[0m\u001b[0;34m(\u001b[0m\u001b[0;34m)\u001b[0m\u001b[0;34m\u001b[0m\u001b[0;34m\u001b[0m\u001b[0m\n",
      "\u001b[0;32m/usr/local/lib/python3.6/dist-packages/tensorflow/python/eager/def_function.py\u001b[0m in \u001b[0;36m_call\u001b[0;34m(self, *args, **kwds)\u001b[0m\n\u001b[1;32m    886\u001b[0m         \u001b[0;31m# Lifting succeeded, so variables are initialized and we can run the\u001b[0m\u001b[0;34m\u001b[0m\u001b[0;34m\u001b[0m\u001b[0;34m\u001b[0m\u001b[0m\n\u001b[1;32m    887\u001b[0m         \u001b[0;31m# stateless function.\u001b[0m\u001b[0;34m\u001b[0m\u001b[0;34m\u001b[0m\u001b[0;34m\u001b[0m\u001b[0m\n\u001b[0;32m--> 888\u001b[0;31m         \u001b[0;32mreturn\u001b[0m \u001b[0mself\u001b[0m\u001b[0;34m.\u001b[0m\u001b[0m_stateless_fn\u001b[0m\u001b[0;34m(\u001b[0m\u001b[0;34m*\u001b[0m\u001b[0margs\u001b[0m\u001b[0;34m,\u001b[0m \u001b[0;34m**\u001b[0m\u001b[0mkwds\u001b[0m\u001b[0;34m)\u001b[0m\u001b[0;34m\u001b[0m\u001b[0;34m\u001b[0m\u001b[0m\n\u001b[0m\u001b[1;32m    889\u001b[0m     \u001b[0;32melse\u001b[0m\u001b[0;34m:\u001b[0m\u001b[0;34m\u001b[0m\u001b[0;34m\u001b[0m\u001b[0m\n\u001b[1;32m    890\u001b[0m       \u001b[0m_\u001b[0m\u001b[0;34m,\u001b[0m \u001b[0m_\u001b[0m\u001b[0;34m,\u001b[0m \u001b[0m_\u001b[0m\u001b[0;34m,\u001b[0m \u001b[0mfiltered_flat_args\u001b[0m \u001b[0;34m=\u001b[0m\u001b[0;31m \u001b[0m\u001b[0;31m\\\u001b[0m\u001b[0;34m\u001b[0m\u001b[0;34m\u001b[0m\u001b[0m\n",
      "\u001b[0;32m/usr/local/lib/python3.6/dist-packages/tensorflow/python/eager/function.py\u001b[0m in \u001b[0;36m__call__\u001b[0;34m(self, *args, **kwargs)\u001b[0m\n\u001b[1;32m   2939\u001b[0m     \u001b[0;32mwith\u001b[0m \u001b[0mself\u001b[0m\u001b[0;34m.\u001b[0m\u001b[0m_lock\u001b[0m\u001b[0;34m:\u001b[0m\u001b[0;34m\u001b[0m\u001b[0;34m\u001b[0m\u001b[0m\n\u001b[1;32m   2940\u001b[0m       (graph_function,\n\u001b[0;32m-> 2941\u001b[0;31m        filtered_flat_args) = self._maybe_define_function(args, kwargs)\n\u001b[0m\u001b[1;32m   2942\u001b[0m     return graph_function._call_flat(\n\u001b[1;32m   2943\u001b[0m         filtered_flat_args, captured_inputs=graph_function.captured_inputs)  # pylint: disable=protected-access\n",
      "\u001b[0;32m/usr/local/lib/python3.6/dist-packages/tensorflow/python/eager/function.py\u001b[0m in \u001b[0;36m_maybe_define_function\u001b[0;34m(self, args, kwargs)\u001b[0m\n\u001b[1;32m   3359\u001b[0m \u001b[0;34m\u001b[0m\u001b[0m\n\u001b[1;32m   3360\u001b[0m           \u001b[0mself\u001b[0m\u001b[0;34m.\u001b[0m\u001b[0m_function_cache\u001b[0m\u001b[0;34m.\u001b[0m\u001b[0mmissed\u001b[0m\u001b[0;34m.\u001b[0m\u001b[0madd\u001b[0m\u001b[0;34m(\u001b[0m\u001b[0mcall_context_key\u001b[0m\u001b[0;34m)\u001b[0m\u001b[0;34m\u001b[0m\u001b[0;34m\u001b[0m\u001b[0m\n\u001b[0;32m-> 3361\u001b[0;31m           \u001b[0mgraph_function\u001b[0m \u001b[0;34m=\u001b[0m \u001b[0mself\u001b[0m\u001b[0;34m.\u001b[0m\u001b[0m_create_graph_function\u001b[0m\u001b[0;34m(\u001b[0m\u001b[0margs\u001b[0m\u001b[0;34m,\u001b[0m \u001b[0mkwargs\u001b[0m\u001b[0;34m)\u001b[0m\u001b[0;34m\u001b[0m\u001b[0;34m\u001b[0m\u001b[0m\n\u001b[0m\u001b[1;32m   3362\u001b[0m           \u001b[0mself\u001b[0m\u001b[0;34m.\u001b[0m\u001b[0m_function_cache\u001b[0m\u001b[0;34m.\u001b[0m\u001b[0mprimary\u001b[0m\u001b[0;34m[\u001b[0m\u001b[0mcache_key\u001b[0m\u001b[0;34m]\u001b[0m \u001b[0;34m=\u001b[0m \u001b[0mgraph_function\u001b[0m\u001b[0;34m\u001b[0m\u001b[0;34m\u001b[0m\u001b[0m\n\u001b[1;32m   3363\u001b[0m \u001b[0;34m\u001b[0m\u001b[0m\n",
      "\u001b[0;32m/usr/local/lib/python3.6/dist-packages/tensorflow/python/eager/function.py\u001b[0m in \u001b[0;36m_create_graph_function\u001b[0;34m(self, args, kwargs, override_flat_arg_shapes)\u001b[0m\n\u001b[1;32m   3204\u001b[0m             \u001b[0marg_names\u001b[0m\u001b[0;34m=\u001b[0m\u001b[0marg_names\u001b[0m\u001b[0;34m,\u001b[0m\u001b[0;34m\u001b[0m\u001b[0;34m\u001b[0m\u001b[0m\n\u001b[1;32m   3205\u001b[0m             \u001b[0moverride_flat_arg_shapes\u001b[0m\u001b[0;34m=\u001b[0m\u001b[0moverride_flat_arg_shapes\u001b[0m\u001b[0;34m,\u001b[0m\u001b[0;34m\u001b[0m\u001b[0;34m\u001b[0m\u001b[0m\n\u001b[0;32m-> 3206\u001b[0;31m             capture_by_value=self._capture_by_value),\n\u001b[0m\u001b[1;32m   3207\u001b[0m         \u001b[0mself\u001b[0m\u001b[0;34m.\u001b[0m\u001b[0m_function_attributes\u001b[0m\u001b[0;34m,\u001b[0m\u001b[0;34m\u001b[0m\u001b[0;34m\u001b[0m\u001b[0m\n\u001b[1;32m   3208\u001b[0m         \u001b[0mfunction_spec\u001b[0m\u001b[0;34m=\u001b[0m\u001b[0mself\u001b[0m\u001b[0;34m.\u001b[0m\u001b[0mfunction_spec\u001b[0m\u001b[0;34m,\u001b[0m\u001b[0;34m\u001b[0m\u001b[0;34m\u001b[0m\u001b[0m\n",
      "\u001b[0;32m/usr/local/lib/python3.6/dist-packages/tensorflow/python/framework/func_graph.py\u001b[0m in \u001b[0;36mfunc_graph_from_py_func\u001b[0;34m(name, python_func, args, kwargs, signature, func_graph, autograph, autograph_options, add_control_dependencies, arg_names, op_return_value, collections, capture_by_value, override_flat_arg_shapes)\u001b[0m\n\u001b[1;32m   1029\u001b[0m         if x is not None)\n\u001b[1;32m   1030\u001b[0m \u001b[0;34m\u001b[0m\u001b[0m\n\u001b[0;32m-> 1031\u001b[0;31m     \u001b[0mfunc_graph\u001b[0m\u001b[0;34m.\u001b[0m\u001b[0mvariables\u001b[0m \u001b[0;34m=\u001b[0m \u001b[0mvariables\u001b[0m\u001b[0;34m\u001b[0m\u001b[0;34m\u001b[0m\u001b[0m\n\u001b[0m\u001b[1;32m   1032\u001b[0m \u001b[0;34m\u001b[0m\u001b[0m\n\u001b[1;32m   1033\u001b[0m   \u001b[0;32mif\u001b[0m \u001b[0madd_control_dependencies\u001b[0m\u001b[0;34m:\u001b[0m\u001b[0;34m\u001b[0m\u001b[0;34m\u001b[0m\u001b[0m\n",
      "\u001b[0;32m/usr/local/lib/python3.6/dist-packages/tensorflow/python/framework/auto_control_deps.py\u001b[0m in \u001b[0;36m__exit__\u001b[0;34m(self, unused_type, unused_value, unused_traceback)\u001b[0m\n\u001b[1;32m    407\u001b[0m       \u001b[0;31m# Check for any resource inputs. If we find any, we update control_inputs\u001b[0m\u001b[0;34m\u001b[0m\u001b[0;34m\u001b[0m\u001b[0;34m\u001b[0m\u001b[0m\n\u001b[1;32m    408\u001b[0m       \u001b[0;31m# and last_write_to_resource.\u001b[0m\u001b[0;34m\u001b[0m\u001b[0;34m\u001b[0m\u001b[0;34m\u001b[0m\u001b[0m\n\u001b[0;32m--> 409\u001b[0;31m       \u001b[0;32mfor\u001b[0m \u001b[0minp\u001b[0m\u001b[0;34m,\u001b[0m \u001b[0mresource_type\u001b[0m \u001b[0;32min\u001b[0m \u001b[0m_get_resource_inputs\u001b[0m\u001b[0;34m(\u001b[0m\u001b[0mop\u001b[0m\u001b[0;34m)\u001b[0m\u001b[0;34m:\u001b[0m\u001b[0;34m\u001b[0m\u001b[0;34m\u001b[0m\u001b[0m\n\u001b[0m\u001b[1;32m    410\u001b[0m         \u001b[0mis_read\u001b[0m \u001b[0;34m=\u001b[0m \u001b[0mresource_type\u001b[0m \u001b[0;34m==\u001b[0m \u001b[0mResourceType\u001b[0m\u001b[0;34m.\u001b[0m\u001b[0mREAD_ONLY\u001b[0m\u001b[0;34m\u001b[0m\u001b[0;34m\u001b[0m\u001b[0m\n\u001b[1;32m    411\u001b[0m         \u001b[0minput_id\u001b[0m \u001b[0;34m=\u001b[0m \u001b[0mops\u001b[0m\u001b[0;34m.\u001b[0m\u001b[0mtensor_id\u001b[0m\u001b[0;34m(\u001b[0m\u001b[0minp\u001b[0m\u001b[0;34m)\u001b[0m\u001b[0;34m\u001b[0m\u001b[0;34m\u001b[0m\u001b[0m\n",
      "\u001b[0;32m/usr/local/lib/python3.6/dist-packages/tensorflow/python/framework/auto_control_deps.py\u001b[0m in \u001b[0;36m_get_resource_inputs\u001b[0;34m(op)\u001b[0m\n\u001b[1;32m    530\u001b[0m \u001b[0;32mdef\u001b[0m \u001b[0m_get_resource_inputs\u001b[0m\u001b[0;34m(\u001b[0m\u001b[0mop\u001b[0m\u001b[0;34m)\u001b[0m\u001b[0;34m:\u001b[0m\u001b[0;34m\u001b[0m\u001b[0;34m\u001b[0m\u001b[0m\n\u001b[1;32m    531\u001b[0m   \u001b[0;34m\"\"\"Returns an iterable of resources touched by this `op`.\"\"\"\u001b[0m\u001b[0;34m\u001b[0m\u001b[0;34m\u001b[0m\u001b[0m\n\u001b[0;32m--> 532\u001b[0;31m   \u001b[0mreads\u001b[0m\u001b[0;34m,\u001b[0m \u001b[0mwrites\u001b[0m \u001b[0;34m=\u001b[0m \u001b[0mutils\u001b[0m\u001b[0;34m.\u001b[0m\u001b[0mget_read_write_resource_inputs\u001b[0m\u001b[0;34m(\u001b[0m\u001b[0mop\u001b[0m\u001b[0;34m)\u001b[0m\u001b[0;34m\u001b[0m\u001b[0;34m\u001b[0m\u001b[0m\n\u001b[0m\u001b[1;32m    533\u001b[0m   \u001b[0msaturated\u001b[0m \u001b[0;34m=\u001b[0m \u001b[0;32mFalse\u001b[0m\u001b[0;34m\u001b[0m\u001b[0;34m\u001b[0m\u001b[0m\n\u001b[1;32m    534\u001b[0m   \u001b[0;32mwhile\u001b[0m \u001b[0;32mnot\u001b[0m \u001b[0msaturated\u001b[0m\u001b[0;34m:\u001b[0m\u001b[0;34m\u001b[0m\u001b[0;34m\u001b[0m\u001b[0m\n",
      "\u001b[0;32m/usr/local/lib/python3.6/dist-packages/tensorflow/python/framework/auto_control_deps_utils.py\u001b[0m in \u001b[0;36mget_read_write_resource_inputs\u001b[0;34m(op)\u001b[0m\n\u001b[1;32m    110\u001b[0m   \u001b[0;32mexcept\u001b[0m \u001b[0mValueError\u001b[0m\u001b[0;34m:\u001b[0m\u001b[0;34m\u001b[0m\u001b[0;34m\u001b[0m\u001b[0m\n\u001b[1;32m    111\u001b[0m     \u001b[0;31m# Attr was not set. Add all resource inputs to `writes` and return.\u001b[0m\u001b[0;34m\u001b[0m\u001b[0;34m\u001b[0m\u001b[0;34m\u001b[0m\u001b[0m\n\u001b[0;32m--> 112\u001b[0;31m     \u001b[0mwrites\u001b[0m\u001b[0;34m.\u001b[0m\u001b[0mupdate\u001b[0m\u001b[0;34m(\u001b[0m\u001b[0mt\u001b[0m \u001b[0;32mfor\u001b[0m \u001b[0mt\u001b[0m \u001b[0;32min\u001b[0m \u001b[0mop\u001b[0m\u001b[0;34m.\u001b[0m\u001b[0minputs\u001b[0m \u001b[0;32mif\u001b[0m \u001b[0mt\u001b[0m\u001b[0;34m.\u001b[0m\u001b[0mdtype\u001b[0m \u001b[0;34m==\u001b[0m \u001b[0mdtypes\u001b[0m\u001b[0;34m.\u001b[0m\u001b[0mresource\u001b[0m\u001b[0;34m)\u001b[0m\u001b[0;34m\u001b[0m\u001b[0;34m\u001b[0m\u001b[0m\n\u001b[0m\u001b[1;32m    113\u001b[0m     \u001b[0;32mreturn\u001b[0m \u001b[0;34m(\u001b[0m\u001b[0mreads\u001b[0m\u001b[0;34m,\u001b[0m \u001b[0mwrites\u001b[0m\u001b[0;34m)\u001b[0m\u001b[0;34m\u001b[0m\u001b[0;34m\u001b[0m\u001b[0m\n\u001b[1;32m    114\u001b[0m \u001b[0;34m\u001b[0m\u001b[0m\n",
      "\u001b[0;32m/usr/local/lib/python3.6/dist-packages/tensorflow/python/framework/ops.py\u001b[0m in \u001b[0;36minputs\u001b[0;34m(self)\u001b[0m\n\u001b[1;32m   2362\u001b[0m       self._inputs_val = tuple(\n\u001b[1;32m   2363\u001b[0m           map(self.graph._get_tensor_by_tf_output,\n\u001b[0;32m-> 2364\u001b[0;31m               pywrap_tf_session.GetOperationInputs(self._c_op)))\n\u001b[0m\u001b[1;32m   2365\u001b[0m       \u001b[0;31m# pylint: enable=protected-access\u001b[0m\u001b[0;34m\u001b[0m\u001b[0;34m\u001b[0m\u001b[0;34m\u001b[0m\u001b[0m\n\u001b[1;32m   2366\u001b[0m     \u001b[0;32mreturn\u001b[0m \u001b[0mself\u001b[0m\u001b[0;34m.\u001b[0m\u001b[0m_inputs_val\u001b[0m\u001b[0;34m\u001b[0m\u001b[0;34m\u001b[0m\u001b[0m\n",
      "\u001b[0;32m/usr/local/lib/python3.6/dist-packages/tensorflow/python/framework/ops.py\u001b[0m in \u001b[0;36m_get_tensor_by_tf_output\u001b[0;34m(self, tf_output)\u001b[0m\n\u001b[1;32m   3915\u001b[0m       \u001b[0mThe\u001b[0m\u001b[0;31m \u001b[0m\u001b[0;31m`\u001b[0m\u001b[0mTensor\u001b[0m\u001b[0;31m`\u001b[0m \u001b[0mthat\u001b[0m \u001b[0mrepresents\u001b[0m\u001b[0;31m \u001b[0m\u001b[0;31m`\u001b[0m\u001b[0mtf_output\u001b[0m\u001b[0;31m`\u001b[0m\u001b[0;34m.\u001b[0m\u001b[0;34m\u001b[0m\u001b[0;34m\u001b[0m\u001b[0m\n\u001b[1;32m   3916\u001b[0m     \"\"\"\n\u001b[0;32m-> 3917\u001b[0;31m     \u001b[0mop\u001b[0m \u001b[0;34m=\u001b[0m \u001b[0mself\u001b[0m\u001b[0;34m.\u001b[0m\u001b[0m_get_operation_by_tf_operation\u001b[0m\u001b[0;34m(\u001b[0m\u001b[0mtf_output\u001b[0m\u001b[0;34m.\u001b[0m\u001b[0moper\u001b[0m\u001b[0;34m)\u001b[0m\u001b[0;34m\u001b[0m\u001b[0;34m\u001b[0m\u001b[0m\n\u001b[0m\u001b[1;32m   3918\u001b[0m     \u001b[0;32mreturn\u001b[0m \u001b[0mop\u001b[0m\u001b[0;34m.\u001b[0m\u001b[0moutputs\u001b[0m\u001b[0;34m[\u001b[0m\u001b[0mtf_output\u001b[0m\u001b[0;34m.\u001b[0m\u001b[0mindex\u001b[0m\u001b[0;34m]\u001b[0m\u001b[0;34m\u001b[0m\u001b[0;34m\u001b[0m\u001b[0m\n\u001b[1;32m   3919\u001b[0m \u001b[0;34m\u001b[0m\u001b[0m\n",
      "\u001b[0;32m/usr/local/lib/python3.6/dist-packages/tensorflow/python/framework/ops.py\u001b[0m in \u001b[0;36m_get_operation_by_tf_operation\u001b[0;34m(self, tf_oper)\u001b[0m\n\u001b[1;32m   3879\u001b[0m   \u001b[0;32mdef\u001b[0m \u001b[0m_get_operation_by_tf_operation\u001b[0m\u001b[0;34m(\u001b[0m\u001b[0mself\u001b[0m\u001b[0;34m,\u001b[0m \u001b[0mtf_oper\u001b[0m\u001b[0;34m)\u001b[0m\u001b[0;34m:\u001b[0m\u001b[0;34m\u001b[0m\u001b[0;34m\u001b[0m\u001b[0m\n\u001b[1;32m   3880\u001b[0m     \u001b[0mop_name\u001b[0m \u001b[0;34m=\u001b[0m \u001b[0mpywrap_tf_session\u001b[0m\u001b[0;34m.\u001b[0m\u001b[0mTF_OperationName\u001b[0m\u001b[0;34m(\u001b[0m\u001b[0mtf_oper\u001b[0m\u001b[0;34m)\u001b[0m\u001b[0;34m\u001b[0m\u001b[0;34m\u001b[0m\u001b[0m\n\u001b[0;32m-> 3881\u001b[0;31m     \u001b[0;32mreturn\u001b[0m \u001b[0mself\u001b[0m\u001b[0;34m.\u001b[0m\u001b[0m_get_operation_by_name_unsafe\u001b[0m\u001b[0;34m(\u001b[0m\u001b[0mop_name\u001b[0m\u001b[0;34m)\u001b[0m\u001b[0;34m\u001b[0m\u001b[0;34m\u001b[0m\u001b[0m\n\u001b[0m\u001b[1;32m   3882\u001b[0m \u001b[0;34m\u001b[0m\u001b[0m\n\u001b[1;32m   3883\u001b[0m   \u001b[0;32mdef\u001b[0m \u001b[0mget_tensor_by_name\u001b[0m\u001b[0;34m(\u001b[0m\u001b[0mself\u001b[0m\u001b[0;34m,\u001b[0m \u001b[0mname\u001b[0m\u001b[0;34m)\u001b[0m\u001b[0;34m:\u001b[0m\u001b[0;34m\u001b[0m\u001b[0;34m\u001b[0m\u001b[0m\n",
      "\u001b[0;32m/usr/local/lib/python3.6/dist-packages/tensorflow/python/framework/ops.py\u001b[0m in \u001b[0;36m_get_operation_by_name_unsafe\u001b[0;34m(self, name)\u001b[0m\n\u001b[1;32m   3875\u001b[0m \u001b[0;34m\u001b[0m\u001b[0m\n\u001b[1;32m   3876\u001b[0m     \u001b[0;32mwith\u001b[0m \u001b[0mself\u001b[0m\u001b[0;34m.\u001b[0m\u001b[0m_lock\u001b[0m\u001b[0;34m:\u001b[0m\u001b[0;34m\u001b[0m\u001b[0;34m\u001b[0m\u001b[0m\n\u001b[0;32m-> 3877\u001b[0;31m       \u001b[0;32mreturn\u001b[0m \u001b[0mself\u001b[0m\u001b[0;34m.\u001b[0m\u001b[0m_nodes_by_name\u001b[0m\u001b[0;34m[\u001b[0m\u001b[0mname\u001b[0m\u001b[0;34m]\u001b[0m\u001b[0;34m\u001b[0m\u001b[0;34m\u001b[0m\u001b[0m\n\u001b[0m\u001b[1;32m   3878\u001b[0m \u001b[0;34m\u001b[0m\u001b[0m\n\u001b[1;32m   3879\u001b[0m   \u001b[0;32mdef\u001b[0m \u001b[0m_get_operation_by_tf_operation\u001b[0m\u001b[0;34m(\u001b[0m\u001b[0mself\u001b[0m\u001b[0;34m,\u001b[0m \u001b[0mtf_oper\u001b[0m\u001b[0;34m)\u001b[0m\u001b[0;34m:\u001b[0m\u001b[0;34m\u001b[0m\u001b[0;34m\u001b[0m\u001b[0m\n",
      "\u001b[0;31mKeyboardInterrupt\u001b[0m: "
     ]
    }
   ],
   "source": [
    "mlp = MLP()\n",
    "\n",
    "global_model = mlp.build()\n",
    "global_model.compile(loss=loss, optimizer=optimizer, metrics=metrics)\n",
    "\n",
    "for j in range(comms_round):\n",
    "\n",
    "    global_weights = global_model.get_weights()\n",
    "    new_global_weights = [np.zeros(weight.shape) for weight in global_weights]\n",
    "    \n",
    "    X_slices, y_slices = create_clients(X_train, y_train, n_clients)\n",
    "    global_data = sum([size.shape[0] for size in X_slices])\n",
    "    \n",
    "    avg_local_loss = 0.0\n",
    "    avg_local_acc = 0.0\n",
    "    \n",
    "    for i in range(n_clients):\n",
    "        client_model = mlp.build()\n",
    "        client_model.compile(loss=loss, \n",
    "                      optimizer=optimizer, \n",
    "                      metrics=metrics)\n",
    "        \n",
    "        client_model.set_weights(global_weights)\n",
    "        client_model.fit(X_slices[i], y_slices[i], epochs=2, verbose=0)\n",
    "        \n",
    "        weights, test_loss, test_accuracy = NN_update(X_slices[i].shape[0], global_data, \n",
    "                                                      client_model, X_test, y_test)\n",
    "        \n",
    "        new_global_weights += np.array(weights, dtype='object')\n",
    "        avg_local_loss += test_loss\n",
    "        avg_local_acc += test_accuracy\n",
    "    \n",
    "    global_model.set_weights(new_global_weights) #\n",
    "    \n",
    "    test_loss, test_accuracy = global_model.evaluate(X_test, y_test)\n",
    "    print(\"Round {}, Loss: {:.3f}, Accuracy: {:.3f}\".format(j, test_loss, test_accuracy))\n",
    "    print(\"(AVG Local) Round {}, Loss: {:.3f}, Accuracy: {:.3f}\".format(j, avg_local_loss, avg_local_acc))"
   ]
  },
  {
   "cell_type": "code",
   "execution_count": null,
   "metadata": {},
   "outputs": [],
   "source": []
  }
 ],
 "metadata": {
  "kernelspec": {
   "display_name": "Python 3",
   "language": "python",
   "name": "python3"
  },
  "language_info": {
   "codemirror_mode": {
    "name": "ipython",
    "version": 3
   },
   "file_extension": ".py",
   "mimetype": "text/x-python",
   "name": "python",
   "nbconvert_exporter": "python",
   "pygments_lexer": "ipython3",
   "version": "3.6.9"
  }
 },
 "nbformat": 4,
 "nbformat_minor": 2
}
