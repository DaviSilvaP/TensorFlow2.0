{
 "cells": [
  {
   "cell_type": "code",
   "execution_count": 1,
   "metadata": {},
   "outputs": [],
   "source": [
    "%config Completer.use_jedi = False"
   ]
  },
  {
   "cell_type": "markdown",
   "metadata": {},
   "source": [
    "# Etapa 1: Instalação das bibliotecas"
   ]
  },
  {
   "cell_type": "code",
   "execution_count": 5,
   "metadata": {
    "scrolled": true
   },
   "outputs": [
    {
     "name": "stdout",
     "output_type": "stream",
     "text": [
      "Get:1 http://storage.googleapis.com/tensorflow-serving-apt stable InRelease [3012 B]\n",
      "Err:1 http://storage.googleapis.com/tensorflow-serving-apt stable InRelease    \n",
      "  The following signatures couldn't be verified because the public key is not available: NO_PUBKEY 544B7F63BF9E4D5F\n",
      "Get:2 http://security.ubuntu.com/ubuntu bionic-security InRelease [88.7 kB]    \n",
      "Hit:3 http://archive.ubuntu.com/ubuntu bionic InRelease                        \n",
      "Get:4 http://archive.ubuntu.com/ubuntu bionic-updates InRelease [88.7 kB]      \n",
      "Get:5 http://security.ubuntu.com/ubuntu bionic-security/universe amd64 Packages [1418 kB]\n",
      "Ign:6 https://developer.download.nvidia.com/compute/cuda/repos/ubuntu1804/x86_64  InRelease\n",
      "Get:7 http://archive.ubuntu.com/ubuntu bionic-backports InRelease [74.6 kB]    \n",
      "Get:8 http://security.ubuntu.com/ubuntu bionic-security/main amd64 Packages [2221 kB]\n",
      "Ign:9 https://developer.download.nvidia.com/compute/machine-learning/repos/ubuntu1804/x86_64  InRelease\n",
      "Get:10 http://archive.ubuntu.com/ubuntu bionic-updates/universe amd64 Packages [2188 kB]\n",
      "Get:11 https://developer.download.nvidia.com/compute/cuda/repos/ubuntu1804/x86_64  Release [697 B]\n",
      "Get:12 http://security.ubuntu.com/ubuntu bionic-security/restricted amd64 Packages [473 kB]\n",
      "Hit:13 https://developer.download.nvidia.com/compute/machine-learning/repos/ubuntu1804/x86_64  Release\n",
      "Get:14 https://developer.download.nvidia.com/compute/cuda/repos/ubuntu1804/x86_64  Release.gpg [836 B]\n",
      "Ign:16 https://developer.download.nvidia.com/compute/cuda/repos/ubuntu1804/x86_64  Packages\n",
      "Get:16 https://developer.download.nvidia.com/compute/cuda/repos/ubuntu1804/x86_64  Packages [637 kB]\n",
      "Get:17 http://archive.ubuntu.com/ubuntu bionic-updates/restricted amd64 Packages [506 kB]\n",
      "Get:18 http://archive.ubuntu.com/ubuntu bionic-updates/multiverse amd64 Packages [33.5 kB]\n",
      "Get:19 http://archive.ubuntu.com/ubuntu bionic-updates/main amd64 Packages [2658 kB]\n",
      "Reading package lists... Done                                                  \n",
      "W: GPG error: http://storage.googleapis.com/tensorflow-serving-apt stable InRelease: The following signatures couldn't be verified because the public key is not available: NO_PUBKEY 544B7F63BF9E4D5F\n",
      "E: The repository 'http://storage.googleapis.com/tensorflow-serving-apt stable InRelease' is not signed.\n",
      "N: Updating from such a repository can't be done securely, and is therefore disabled by default.\n",
      "N: See apt-secure(8) manpage for repository creation and user configuration details.\n"
     ]
    }
   ],
   "source": [
    "!apt-get update"
   ]
  },
  {
   "cell_type": "code",
   "execution_count": 8,
   "metadata": {},
   "outputs": [
    {
     "name": "stdout",
     "output_type": "stream",
     "text": [
      "deb [arch=amd64] http://storage.googleapis.com/tensorflow-serving-apt stable tensorflow-model-server tensorflow-model-server-universal\n",
      "  % Total    % Received % Xferd  Average Speed   Time    Time     Time  Current\n",
      "                                 Dload  Upload   Total   Spent    Left  Speed\n",
      "100  2943  100  2943    0     0  14641      0 --:--:-- --:--:-- --:--:-- 14641\n",
      "OK\n"
     ]
    }
   ],
   "source": [
    "!echo \"deb [arch=amd64] http://storage.googleapis.com/tensorflow-serving-apt stable tensorflow-model-server tensorflow-model-server-universal\" | tee /etc/apt/sources.list.d/tensorflow-serving.list && curl \"https://storage.googleapis.com/tensorflow-serving-apt/tensorflow-serving.release.pub.gpg\" | apt-key add -"
   ]
  },
  {
   "cell_type": "code",
   "execution_count": 11,
   "metadata": {
    "scrolled": true
   },
   "outputs": [
    {
     "name": "stdout",
     "output_type": "stream",
     "text": [
      "Get:1 http://storage.googleapis.com/tensorflow-serving-apt stable InRelease [3012 B]\n",
      "Hit:2 http://security.ubuntu.com/ubuntu bionic-security InRelease              \n",
      "Get:3 http://storage.googleapis.com/tensorflow-serving-apt stable/tensorflow-model-server amd64 Packages [340 B]\n",
      "Hit:4 http://archive.ubuntu.com/ubuntu bionic InRelease                        \n",
      "Get:5 http://storage.googleapis.com/tensorflow-serving-apt stable/tensorflow-model-server-universal amd64 Packages [347 B]\n",
      "Hit:6 http://archive.ubuntu.com/ubuntu bionic-updates InRelease             \n",
      "Ign:7 https://developer.download.nvidia.com/compute/cuda/repos/ubuntu1804/x86_64  InRelease\n",
      "Hit:8 http://archive.ubuntu.com/ubuntu bionic-backports InRelease\n",
      "Ign:9 https://developer.download.nvidia.com/compute/machine-learning/repos/ubuntu1804/x86_64  InRelease\n",
      "Hit:10 https://developer.download.nvidia.com/compute/cuda/repos/ubuntu1804/x86_64  Release\n",
      "Hit:11 https://developer.download.nvidia.com/compute/machine-learning/repos/ubuntu1804/x86_64  Release\n",
      "Fetched 687 B in 2s (373 B/s)\n",
      "Reading package lists... Done\n",
      "Reading package lists... Done\n",
      "Building dependency tree       \n",
      "Reading state information... Done\n",
      "The following NEW packages will be installed:\n",
      "  tensorflow-model-server\n",
      "0 upgraded, 1 newly installed, 0 to remove and 22 not upgraded.\n",
      "Need to get 326 MB of archives.\n",
      "After this operation, 0 B of additional disk space will be used.\n",
      "Get:1 http://storage.googleapis.com/tensorflow-serving-apt stable/tensorflow-model-server amd64 tensorflow-model-server all 2.5.1 [326 MB]\n",
      "Fetched 326 MB in 14s (23.7 MB/s)                                              \n",
      "debconf: delaying package configuration, since apt-utils is not installed\n",
      "Selecting previously unselected package tensorflow-model-server.\n",
      "(Reading database ... 17362 files and directories currently installed.)\n",
      "Preparing to unpack .../tensorflow-model-server_2.5.1_all.deb ...\n",
      "Unpacking tensorflow-model-server (2.5.1) ...\n",
      "Setting up tensorflow-model-server (2.5.1) ...\n"
     ]
    }
   ],
   "source": [
    "!apt-get update && apt-get install tensorflow-model-server"
   ]
  },
  {
   "cell_type": "markdown",
   "metadata": {},
   "source": [
    "# Etapa 2: Importação das bibliotecas"
   ]
  },
  {
   "cell_type": "code",
   "execution_count": 12,
   "metadata": {},
   "outputs": [
    {
     "name": "stdout",
     "output_type": "stream",
     "text": [
      "WARNING:tensorflow:From /usr/local/lib/python3.6/dist-packages/tensorflow/python/compat/v2_compat.py:96: disable_resource_variables (from tensorflow.python.ops.variable_scope) is deprecated and will be removed in a future version.\n",
      "Instructions for updating:\n",
      "non-resource variables are not supported in the long term\n"
     ]
    }
   ],
   "source": [
    "import os\n",
    "import json\n",
    "import random\n",
    "import requests\n",
    "import subprocess\n",
    "import numpy as np\n",
    "import tensorflow.compat.v1 as tf\n",
    "tf.disable_v2_behavior()\n",
    "import matplotlib.pyplot as plt\n",
    "\n",
    "from tensorflow.keras.datasets import cifar10\n",
    "\n",
    "%matplotlib inline"
   ]
  },
  {
   "cell_type": "markdown",
   "metadata": {},
   "source": [
    "# Etapa 3: Pré-processamento"
   ]
  },
  {
   "cell_type": "markdown",
   "metadata": {},
   "source": [
    "## Carregando a base de dados"
   ]
  },
  {
   "cell_type": "code",
   "execution_count": 13,
   "metadata": {},
   "outputs": [
    {
     "name": "stdout",
     "output_type": "stream",
     "text": [
      "Downloading data from https://www.cs.toronto.edu/~kriz/cifar-10-python.tar.gz\n",
      "170500096/170498071 [==============================] - 19s 0us/step\n"
     ]
    }
   ],
   "source": [
    "(X_train, y_train), (X_test, y_test) = cifar10.load_data()"
   ]
  },
  {
   "cell_type": "code",
   "execution_count": 14,
   "metadata": {},
   "outputs": [],
   "source": [
    "class_names = ['airplane', 'automobile', 'bird', 'cat', 'deer', 'dog', 'frog', 'horse', 'ship', 'truck']"
   ]
  },
  {
   "cell_type": "markdown",
   "metadata": {},
   "source": [
    "## Normalização das imagens"
   ]
  },
  {
   "cell_type": "code",
   "execution_count": 15,
   "metadata": {},
   "outputs": [],
   "source": [
    "X_train = X_train / 255.0\n",
    "X_test = X_test / 255.0"
   ]
  },
  {
   "cell_type": "markdown",
   "metadata": {},
   "source": [
    "# Etapa 4: Definição do modelo"
   ]
  },
  {
   "cell_type": "code",
   "execution_count": 16,
   "metadata": {},
   "outputs": [],
   "source": [
    "model = tf.keras.models.Sequential()\n",
    "model.add(tf.keras.layers.Conv2D(filters=32, kernel_size=3, padding=\"same\", activation=\"relu\", input_shape=[32, 32, 3]))\n",
    "model.add(tf.keras.layers.Conv2D(filters=32, kernel_size=3, padding=\"same\", activation=\"relu\"))\n",
    "model.add(tf.keras.layers.MaxPool2D(pool_size=2, strides=2, padding='valid'))\n",
    "model.add(tf.keras.layers.Conv2D(filters=64, kernel_size=3, padding=\"same\", activation=\"relu\"))\n",
    "model.add(tf.keras.layers.Conv2D(filters=64, kernel_size=3, padding=\"same\", activation=\"relu\"))\n",
    "model.add(tf.keras.layers.MaxPool2D(pool_size=2, strides=2, padding='valid'))\n",
    "model.add(tf.keras.layers.Flatten())\n",
    "model.add(tf.keras.layers.Dense(units=128, activation='relu'))\n",
    "model.add(tf.keras.layers.Dense(units=10, activation='softmax'))"
   ]
  },
  {
   "cell_type": "markdown",
   "metadata": {},
   "source": [
    "## Compilando o modelo"
   ]
  },
  {
   "cell_type": "code",
   "execution_count": 17,
   "metadata": {},
   "outputs": [],
   "source": [
    "model.compile(optimizer='Adam', \n",
    "              loss='sparse_categorical_crossentropy', \n",
    "              metrics=['sparse_categorical_accuracy'])"
   ]
  },
  {
   "cell_type": "markdown",
   "metadata": {},
   "source": [
    "## Treinando o modelo"
   ]
  },
  {
   "cell_type": "code",
   "execution_count": 18,
   "metadata": {},
   "outputs": [
    {
     "name": "stdout",
     "output_type": "stream",
     "text": [
      "Train on 50000 samples\n",
      "Epoch 1/10\n",
      "50000/50000 [==============================] - 7s 141us/sample - loss: 1.5090 - sparse_categorical_accuracy: 0.4566\n",
      "Epoch 2/10\n",
      "50000/50000 [==============================] - 4s 80us/sample - loss: 1.0625 - sparse_categorical_accuracy: 0.6275\n",
      "Epoch 3/10\n",
      "50000/50000 [==============================] - 4s 80us/sample - loss: 0.8570 - sparse_categorical_accuracy: 0.7023\n",
      "Epoch 4/10\n",
      "50000/50000 [==============================] - 4s 80us/sample - loss: 0.7349 - sparse_categorical_accuracy: 0.7437\n",
      "Epoch 5/10\n",
      "50000/50000 [==============================] - 4s 81us/sample - loss: 0.6380 - sparse_categorical_accuracy: 0.7787\n",
      "Epoch 6/10\n",
      "50000/50000 [==============================] - 4s 80us/sample - loss: 0.5604 - sparse_categorical_accuracy: 0.8034\n",
      "Epoch 7/10\n",
      "50000/50000 [==============================] - 4s 81us/sample - loss: 0.4848 - sparse_categorical_accuracy: 0.8299\n",
      "Epoch 8/10\n",
      "50000/50000 [==============================] - 4s 80us/sample - loss: 0.4129 - sparse_categorical_accuracy: 0.8559\n",
      "Epoch 9/10\n",
      "50000/50000 [==============================] - 4s 80us/sample - loss: 0.3433 - sparse_categorical_accuracy: 0.8793\n",
      "Epoch 10/10\n",
      "50000/50000 [==============================] - 4s 80us/sample - loss: 0.2772 - sparse_categorical_accuracy: 0.9027\n"
     ]
    },
    {
     "data": {
      "text/plain": [
       "<tensorflow.python.keras.callbacks.History at 0x7fc7a5492cc0>"
      ]
     },
     "execution_count": 18,
     "metadata": {},
     "output_type": "execute_result"
    }
   ],
   "source": [
    "model.fit(X_train, \n",
    "          y_train, \n",
    "          batch_size=128, \n",
    "          epochs=10)"
   ]
  },
  {
   "cell_type": "markdown",
   "metadata": {},
   "source": [
    "## Avaliação do modelo"
   ]
  },
  {
   "cell_type": "code",
   "execution_count": 19,
   "metadata": {},
   "outputs": [
    {
     "name": "stderr",
     "output_type": "stream",
     "text": [
      "/usr/local/lib/python3.6/dist-packages/tensorflow/python/keras/engine/training.py:2426: UserWarning: `Model.state_updates` will be removed in a future version. This property should not be used in TensorFlow 2.0, as `updates` are applied automatically.\n",
      "  warnings.warn('`Model.state_updates` will be removed in a future version. '\n"
     ]
    }
   ],
   "source": [
    "test_loss, test_accuracy = model.evaluate(X_test, y_test)"
   ]
  },
  {
   "cell_type": "code",
   "execution_count": 20,
   "metadata": {},
   "outputs": [
    {
     "name": "stdout",
     "output_type": "stream",
     "text": [
      "Test accuracy is 0.7415000200271606\n"
     ]
    }
   ],
   "source": [
    "print(\"Test accuracy is {}\".format(test_accuracy))"
   ]
  },
  {
   "cell_type": "markdown",
   "metadata": {},
   "source": [
    "# Etapa 5: Salvando o modelo para produção"
   ]
  },
  {
   "cell_type": "markdown",
   "metadata": {},
   "source": [
    "## Criando o diretório para o modelo"
   ]
  },
  {
   "cell_type": "code",
   "execution_count": 21,
   "metadata": {},
   "outputs": [],
   "source": [
    "model_dir = \"model/\"\n",
    "version = 1"
   ]
  },
  {
   "cell_type": "code",
   "execution_count": 22,
   "metadata": {},
   "outputs": [
    {
     "data": {
      "text/plain": [
       "'model/1'"
      ]
     },
     "execution_count": 22,
     "metadata": {},
     "output_type": "execute_result"
    }
   ],
   "source": [
    "export_path = os.path.join(model_dir, str(version))\n",
    "export_path"
   ]
  },
  {
   "cell_type": "code",
   "execution_count": 23,
   "metadata": {},
   "outputs": [],
   "source": [
    "if os.path.isdir(export_path):\n",
    "    !rm -r {export_path}"
   ]
  },
  {
   "cell_type": "markdown",
   "metadata": {},
   "source": [
    "## Salvando o modelo para o TensorFlow Serving"
   ]
  },
  {
   "cell_type": "code",
   "execution_count": 24,
   "metadata": {},
   "outputs": [
    {
     "data": {
      "text/plain": [
       "{'dense_1/Softmax:0': <tf.Tensor 'dense_1/Softmax:0' shape=(?, 10) dtype=float32>}"
      ]
     },
     "execution_count": 24,
     "metadata": {},
     "output_type": "execute_result"
    }
   ],
   "source": [
    "o = {t.name: t for t in model.outputs}\n",
    "o"
   ]
  },
  {
   "cell_type": "code",
   "execution_count": 25,
   "metadata": {},
   "outputs": [
    {
     "name": "stdout",
     "output_type": "stream",
     "text": [
      "WARNING:tensorflow:From <ipython-input-25-89facc26b84a>:3: simple_save (from tensorflow.python.saved_model.simple_save) is deprecated and will be removed in a future version.\n",
      "Instructions for updating:\n",
      "This function will only be available through the v1 compatibility library as tf.compat.v1.saved_model.simple_save.\n",
      "WARNING:tensorflow:From /usr/local/lib/python3.6/dist-packages/tensorflow/python/saved_model/signature_def_utils_impl.py:201: build_tensor_info (from tensorflow.python.saved_model.utils_impl) is deprecated and will be removed in a future version.\n",
      "Instructions for updating:\n",
      "This function will only be available through the v1 compatibility library as tf.compat.v1.saved_model.utils.build_tensor_info or tf.compat.v1.saved_model.build_tensor_info.\n",
      "INFO:tensorflow:Assets added to graph.\n",
      "INFO:tensorflow:No assets to write.\n",
      "INFO:tensorflow:SavedModel written to: model/1/saved_model.pb\n"
     ]
    }
   ],
   "source": [
    "tf.saved_model.simple_save(tf.keras.backend.get_session(), export_dir = export_path,\n",
    "                           inputs = {\"input_image\": model.input},\n",
    "                           outputs = {t.name: t for t in model.outputs})"
   ]
  },
  {
   "cell_type": "markdown",
   "metadata": {},
   "source": [
    "# Etapa 6: Configuração do ambiente de produção"
   ]
  },
  {
   "cell_type": "markdown",
   "metadata": {},
   "source": [
    "## Exportando o MODEL_DIR para as variáveis de ambiente"
   ]
  },
  {
   "cell_type": "code",
   "execution_count": 26,
   "metadata": {},
   "outputs": [],
   "source": [
    "os.environ[\"model_dir\"] = os.path.abspath(model_dir)"
   ]
  },
  {
   "cell_type": "markdown",
   "metadata": {},
   "source": [
    "## Executando a API TensorFlow Serving REST"
   ]
  },
  {
   "cell_type": "code",
   "execution_count": 27,
   "metadata": {},
   "outputs": [],
   "source": [
    "%%bash --bg\n",
    "nohup tensorflow_model_server --rest_api_port=8501 --model_name=cifar10 --model_base_path=\"${model_dir}\" >server.log 2>&1"
   ]
  },
  {
   "cell_type": "code",
   "execution_count": 28,
   "metadata": {
    "scrolled": true
   },
   "outputs": [
    {
     "name": "stdout",
     "output_type": "stream",
     "text": [
      "2021-07-09 20:38:58.230127: I external/org_tensorflow/tensorflow/core/platform/profile_utils/cpu_utils.cc:114] CPU Frequency: 3792990000 Hz\r\n",
      "2021-07-09 20:38:58.258091: I external/org_tensorflow/tensorflow/cc/saved_model/loader.cc:277] SavedModel load for tags { serve }; Status: success: OK. Took 70864 microseconds.\r\n",
      "2021-07-09 20:38:58.258832: I tensorflow_serving/servables/tensorflow/saved_model_warmup_util.cc:59] No warmup data file found at /tf/Notebooks/model/1/assets.extra/tf_serving_warmup_requests\r\n",
      "2021-07-09 20:38:58.259278: I tensorflow_serving/core/loader_harness.cc:87] Successfully loaded servable version {name: cifar10 version: 1}\r\n",
      "2021-07-09 20:38:58.260415: I tensorflow_serving/model_servers/server_core.cc:486] Finished adding/updating models\r\n",
      "2021-07-09 20:38:58.260465: I tensorflow_serving/model_servers/server.cc:367] Profiler service is enabled\r\n",
      "2021-07-09 20:38:58.261397: I tensorflow_serving/model_servers/server.cc:393] Running gRPC ModelServer at 0.0.0.0:8500 ...\r\n",
      "[warn] getaddrinfo: address family for nodename not supported\r\n",
      "[evhttp_server.cc : 245] NET_LOG: Entering the event loop ...\r\n",
      "2021-07-09 20:38:58.262316: I tensorflow_serving/model_servers/server.cc:414] Exporting HTTP/REST API at:localhost:8501 ...\r\n"
     ]
    }
   ],
   "source": [
    "!tail server.log"
   ]
  },
  {
   "cell_type": "markdown",
   "metadata": {},
   "source": [
    "# Etapa 7: Criando a primeira requisição POST"
   ]
  },
  {
   "cell_type": "code",
   "execution_count": 29,
   "metadata": {},
   "outputs": [],
   "source": [
    "random_image = np.random.randint(0, len(X_test))"
   ]
  },
  {
   "cell_type": "code",
   "execution_count": 30,
   "metadata": {},
   "outputs": [
    {
     "data": {
      "text/plain": [
       "8686"
      ]
     },
     "execution_count": 30,
     "metadata": {},
     "output_type": "execute_result"
    }
   ],
   "source": [
    "random_image"
   ]
  },
  {
   "cell_type": "markdown",
   "metadata": {},
   "source": [
    "## Criando o objeto JSON"
   ]
  },
  {
   "cell_type": "code",
   "execution_count": 31,
   "metadata": {},
   "outputs": [],
   "source": [
    "data = json.dumps({\"signature_name\": \"serving_default\", \"instances\": [X_test[random_image].tolist()]})"
   ]
  },
  {
   "cell_type": "code",
   "execution_count": 32,
   "metadata": {},
   "outputs": [
    {
     "data": {
      "text/plain": [
       "'{\"signature_name\": \"serving_default\", \"instances\": [[[[0.8980392156862745, 0.9568627450980393, 0.9686274509803922], [0.9019607843137255, 0.9490196078431372, 0.9647058823529412], [0.9176470588235294, 0.9529411764705882, 0.9725490196078431], [0.9215686274509803, 0.9529411764705882, 0.9764705882352941], [0.8666666666666667, 0.9215686274509803, 0.9450980392156862], [0.8196078431372549, 0.8862745098039215, 0.9137254901960784], [0.8627450980392157, 0.9294117647058824, 0.9529411764705882], [0.8745098039215686, 0.9411764705882353, 0.9647058823529412], [0.8705882352941177, 0.9333333333333333, 0.9607843137254902], [0.8862745098039215, 0.9450980392156862, 0.9725490196078431], [0.8901960784313725, 0.9450980392156862, 0.9725490196078431], [0.8901960784313725, 0.9450980392156862, 0.9725490196078431], [0.8901960784313725, 0.9450980392156862, 0.9725490196078431], [0.9058823529411765, 0.9568627450980393, 0.9803921568627451], [0.9333333333333333, 0.9686274509803922, 0.9764705882352941], [0.9450980392156862, 0.9725490196078431, 0.9764705882352941], [0.9490196078431372, 0.9764705882352941, 0.9803921568627451], [0.9529411764705882, 0.9803921568627451, 0.984313725490196], [0.9372549019607843, 0.9647058823529412, 0.9725490196078431], [0.9333333333333333, 0.9607843137254902, 0.9686274509803922], [0.9372549019607843, 0.9686274509803922, 0.9725490196078431], [0.9333333333333333, 0.9647058823529412, 0.9725490196078431], [0.9254901960784314, 0.9529411764705882, 0.9607843137254902], [0.9294117647058824, 0.9607843137254902, 0.9647058823529412], [0.9411764705882353, 0.9803921568627451, 0.984313725490196], [0.9372549019607843, 0.9764705882352941, 0.984313725490196], [0.9333333333333333, 0.9725490196078431, 0.9803921568627451], [0.9254901960784314, 0.9686274509803922, 0.9803921568627451], [0.9254901960784314, 0.9647058823529412, 0.9764705882352941], [0.9450980392156862, 0.9647058823529412, 0.9803921568627451], [0.9647058823529412, 0.9725490196078431, 0.9882352941176471], [0.9882352941176471, 0.9882352941176471, 1.0]], [[0.9019607843137255, 0.9686274509803922, 0.9921568627450981], [0.9058823529411765, 0.9607843137254902, 0.9882352941176471], [0.9294117647058824, 0.9764705882352941, 1.0], [0.9529411764705882, 0.9921568627450981, 1.0], [0.8588235294117647, 0.9098039215686274, 0.9254901960784314], [0.803921568627451, 0.8588235294117647, 0.8745098039215686], [0.9019607843137255, 0.9568627450980393, 0.9725490196078431], [0.8784313725490196, 0.9372549019607843, 0.9529411764705882], [0.8745098039215686, 0.9294117647058824, 0.9490196078431372], [0.9137254901960784, 0.9607843137254902, 0.9803921568627451], [0.9176470588235294, 0.9607843137254902, 0.984313725490196], [0.9176470588235294, 0.9607843137254902, 0.984313725490196], [0.9294117647058824, 0.9725490196078431, 0.9921568627450981], [0.9411764705882353, 0.9803921568627451, 0.996078431372549], [0.9607843137254902, 0.984313725490196, 0.9882352941176471], [0.9490196078431372, 0.9725490196078431, 0.9725490196078431], [0.9372549019607843, 0.9607843137254902, 0.9607843137254902], [0.9372549019607843, 0.9607843137254902, 0.9568627450980393], [0.9294117647058824, 0.9490196078431372, 0.9490196078431372], [0.9254901960784314, 0.9490196078431372, 0.9490196078431372], [0.9215686274509803, 0.9450980392156862, 0.9450980392156862], [0.9176470588235294, 0.9411764705882353, 0.9411764705882353], [0.8274509803921568, 0.8470588235294118, 0.8470588235294118], [0.796078431372549, 0.8196078431372549, 0.8196078431372549], [0.8666666666666667, 0.8980392156862745, 0.9058823529411765], [0.8392156862745098, 0.8784313725490196, 0.8823529411764706], [0.8235294117647058, 0.8627450980392157, 0.8705882352941177], [0.8235294117647058, 0.8588235294117647, 0.8666666666666667], [0.803921568627451, 0.8431372549019608, 0.8509803921568627], [0.796078431372549, 0.8313725490196079, 0.8509803921568627], [0.803921568627451, 0.8274509803921568, 0.8509803921568627], [0.803921568627451, 0.8196078431372549, 0.8392156862745098]], [[0.8901960784313725, 0.9647058823529412, 0.9882352941176471], [0.8901960784313725, 0.9490196078431372, 0.9764705882352941], [0.9058823529411765, 0.9568627450980393, 0.984313725490196], [0.9333333333333333, 0.9725490196078431, 0.996078431372549], [0.8509803921568627, 0.8901960784313725, 0.8980392156862745], [0.807843137254902, 0.8470588235294118, 0.8549019607843137], [0.8745098039215686, 0.9137254901960784, 0.9215686274509803], [0.796078431372549, 0.8392156862745098, 0.8431372549019608], [0.7764705882352941, 0.8196078431372549, 0.8235294117647058], [0.8235294117647058, 0.8549019607843137, 0.8666666666666667], [0.8156862745098039, 0.8431372549019608, 0.8549019607843137], [0.803921568627451, 0.8352941176470589, 0.8470588235294118], [0.803921568627451, 0.8352941176470589, 0.8431372549019608], [0.796078431372549, 0.8235294117647058, 0.8313725490196079], [0.796078431372549, 0.8117647058823529, 0.8117647058823529], [0.7764705882352941, 0.792156862745098, 0.788235294117647], [0.7529411764705882, 0.7647058823529411, 0.7647058823529411], [0.7215686274509804, 0.7372549019607844, 0.7333333333333333], [0.7058823529411765, 0.7215686274509804, 0.7176470588235294], [0.7058823529411765, 0.7176470588235294, 0.7176470588235294], [0.6901960784313725, 0.7058823529411765, 0.7019607843137254], [0.6745098039215687, 0.6862745098039216, 0.6823529411764706], [0.5803921568627451, 0.596078431372549, 0.592156862745098], [0.5215686274509804, 0.5372549019607843, 0.5372549019607843], [0.5490196078431373, 0.5803921568627451, 0.5843137254901961], [0.5058823529411764, 0.5372549019607843, 0.5411764705882353], [0.4745098039215686, 0.5058823529411764, 0.5098039215686274], [0.4549019607843137, 0.48627450980392156, 0.49019607843137253], [0.4196078431372549, 0.4549019607843137, 0.4627450980392157], [0.396078431372549, 0.44313725490196076, 0.4588235294117647], [0.3803921568627451, 0.4196078431372549, 0.44313725490196076], [0.3686274509803922, 0.396078431372549, 0.4235294117647059]], [[0.8705882352941177, 0.9333333333333333, 0.9490196078431372], [0.8705882352941177, 0.9176470588235294, 0.9372549019607843], [0.8470588235294118, 0.8823529411764706, 0.9058823529411765], [0.8117647058823529, 0.8431372549019608, 0.8627450980392157], [0.7490196078431373, 0.7764705882352941, 0.7764705882352941], [0.7019607843137254, 0.7294117647058823, 0.7215686274509804], [0.7098039215686275, 0.7372549019607844, 0.7294117647058823], [0.6549019607843137, 0.6823529411764706, 0.6784313725490196], [0.6274509803921569, 0.6549019607843137, 0.6509803921568628], [0.6352941176470588, 0.6588235294117647, 0.6549019607843137], [0.6235294117647059, 0.6431372549019608, 0.6392156862745098], [0.615686274509804, 0.6313725490196078, 0.6313725490196078], [0.6, 0.615686274509804, 0.615686274509804], [0.5843137254901961, 0.6, 0.6], [0.5843137254901961, 0.592156862745098, 0.5843137254901961], [0.5764705882352941, 0.5803921568627451, 0.5725490196078431], [0.5647058823529412, 0.5686274509803921, 0.5647058823529412], [0.5490196078431373, 0.5568627450980392, 0.5490196078431373], [0.5372549019607843, 0.5450980392156862, 0.5372549019607843], [0.5294117647058824, 0.5333333333333333, 0.5294117647058824], [0.5137254901960784, 0.5215686274509804, 0.5137254901960784], [0.4980392156862745, 0.5058823529411764, 0.4980392156862745], [0.47843137254901963, 0.4823529411764706, 0.47843137254901963], [0.44313725490196076, 0.45098039215686275, 0.4470588235294118], [0.40784313725490196, 0.42745098039215684, 0.4235294117647059], [0.3686274509803922, 0.38823529411764707, 0.38823529411764707], [0.3333333333333333, 0.35294117647058826, 0.35294117647058826], [0.30196078431372547, 0.3215686274509804, 0.3215686274509804], [0.2627450980392157, 0.29411764705882354, 0.29411764705882354], [0.23921568627450981, 0.2823529411764706, 0.29411764705882354], [0.23529411764705882, 0.27450980392156865, 0.28627450980392155], [0.23921568627450981, 0.2627450980392157, 0.2823529411764706]], [[0.6470588235294118, 0.6901960784313725, 0.6941176470588235], [0.6313725490196078, 0.6627450980392157, 0.6666666666666666], [0.596078431372549, 0.615686274509804, 0.6274509803921569], [0.5490196078431373, 0.5607843137254902, 0.5686274509803921], [0.5176470588235295, 0.5333333333333333, 0.5254901960784314], [0.5215686274509804, 0.5372549019607843, 0.5215686274509804], [0.5215686274509804, 0.5372549019607843, 0.5215686274509804], [0.5058823529411764, 0.5215686274509804, 0.5058823529411764], [0.49019607843137253, 0.5019607843137255, 0.48627450980392156], [0.4745098039215686, 0.4823529411764706, 0.4666666666666667], [0.4588235294117647, 0.4666666666666667, 0.45098039215686275], [0.4549019607843137, 0.4588235294117647, 0.4470588235294118], [0.44313725490196076, 0.4470588235294118, 0.43529411764705883], [0.44313725490196076, 0.4470588235294118, 0.43529411764705883], [0.45098039215686275, 0.4549019607843137, 0.44313725490196076], [0.44313725490196076, 0.4470588235294118, 0.43529411764705883], [0.4392156862745098, 0.44313725490196076, 0.42745098039215684], [0.42745098039215684, 0.43137254901960786, 0.4196078431372549], [0.4117647058823529, 0.4117647058823529, 0.4], [0.39215686274509803, 0.396078431372549, 0.3843137254901961], [0.3843137254901961, 0.38823529411764707, 0.3764705882352941], [0.3803921568627451, 0.3843137254901961, 0.37254901960784315], [0.3607843137254902, 0.36470588235294116, 0.35294117647058826], [0.34509803921568627, 0.34901960784313724, 0.33725490196078434], [0.3254901960784314, 0.33725490196078434, 0.3333333333333333], [0.30196078431372547, 0.3176470588235294, 0.3137254901960784], [0.2784313725490196, 0.29411764705882354, 0.2901960784313726], [0.25882352941176473, 0.27058823529411763, 0.27058823529411763], [0.2235294117647059, 0.24313725490196078, 0.23921568627450981], [0.20392156862745098, 0.23529411764705882, 0.22745098039215686], [0.20392156862745098, 0.22745098039215686, 0.2235294117647059], [0.20784313725490197, 0.2196078431372549, 0.2196078431372549]], [[0.3215686274509804, 0.3411764705882353, 0.3254901960784314], [0.3176470588235294, 0.3215686274509804, 0.30980392156862746], [0.32941176470588235, 0.3254901960784314, 0.3176470588235294], [0.32941176470588235, 0.3215686274509804, 0.3137254901960784], [0.33725490196078434, 0.3411764705882353, 0.3215686274509804], [0.3686274509803922, 0.37254901960784315, 0.34901960784313724], [0.35294117647058826, 0.3568627450980392, 0.3333333333333333], [0.32941176470588235, 0.3333333333333333, 0.30980392156862746], [0.3176470588235294, 0.3254901960784314, 0.30196078431372547], [0.3176470588235294, 0.3176470588235294, 0.2980392156862745], [0.3176470588235294, 0.30980392156862746, 0.2901960784313726], [0.3137254901960784, 0.3058823529411765, 0.2823529411764706], [0.30196078431372547, 0.29411764705882354, 0.27450980392156865], [0.29411764705882354, 0.28627450980392155, 0.27058823529411763], [0.29411764705882354, 0.2901960784313726, 0.27450980392156865], [0.2980392156862745, 0.29411764705882354, 0.27450980392156865], [0.2980392156862745, 0.2980392156862745, 0.2784313725490196], [0.30196078431372547, 0.2980392156862745, 0.2784313725490196], [0.30196078431372547, 0.2980392156862745, 0.2784313725490196], [0.2980392156862745, 0.29411764705882354, 0.27450980392156865], [0.2980392156862745, 0.29411764705882354, 0.27450980392156865], [0.29411764705882354, 0.2901960784313726, 0.27058823529411763], [0.27058823529411763, 0.27058823529411763, 0.25098039215686274], [0.26666666666666666, 0.26666666666666666, 0.25098039215686274], [0.25882352941176473, 0.26666666666666666, 0.2549019607843137], [0.26666666666666666, 0.27058823529411763, 0.2627450980392157], [0.26666666666666666, 0.27058823529411763, 0.2627450980392157], [0.24705882352941178, 0.2549019607843137, 0.24313725490196078], [0.23137254901960785, 0.23921568627450981, 0.22745098039215686], [0.23137254901960785, 0.24705882352941178, 0.2196078431372549], [0.22745098039215686, 0.23921568627450981, 0.21176470588235294], [0.2196078431372549, 0.21568627450980393, 0.19607843137254902]], [[0.39215686274509803, 0.36470588235294116, 0.32941176470588235], [0.39215686274509803, 0.3686274509803922, 0.3333333333333333], [0.44313725490196076, 0.4196078431372549, 0.3843137254901961], [0.49019607843137253, 0.4745098039215686, 0.43529411764705883], [0.5294117647058824, 0.5372549019607843, 0.49019607843137253], [0.5490196078431373, 0.5450980392156862, 0.5058823529411764], [0.5333333333333333, 0.5058823529411764, 0.4745098039215686], [0.5137254901960784, 0.5019607843137255, 0.4666666666666667], [0.49019607843137253, 0.5019607843137255, 0.4627450980392157], [0.48627450980392156, 0.4823529411764706, 0.45098039215686275], [0.5019607843137255, 0.47058823529411764, 0.4196078431372549], [0.4980392156862745, 0.4470588235294118, 0.3764705882352941], [0.4666666666666667, 0.4196078431372549, 0.37254901960784315], [0.4235294117647059, 0.39215686274509803, 0.37254901960784315], [0.41568627450980394, 0.396078431372549, 0.35294117647058826], [0.4196078431372549, 0.4, 0.35294117647058826], [0.42745098039215684, 0.40784313725490196, 0.3607843137254902], [0.43529411764705883, 0.41568627450980394, 0.3686274509803922], [0.4392156862745098, 0.41568627450980394, 0.37254901960784315], [0.45098039215686275, 0.41568627450980394, 0.37254901960784315], [0.45098039215686275, 0.4196078431372549, 0.3764705882352941], [0.43137254901960786, 0.40784313725490196, 0.3607843137254902], [0.396078431372549, 0.3764705882352941, 0.32941176470588235], [0.4117647058823529, 0.396078431372549, 0.34901960784313724], [0.4196078431372549, 0.403921568627451, 0.36470588235294116], [0.43137254901960786, 0.41568627450980394, 0.3764705882352941], [0.43529411764705883, 0.4196078431372549, 0.3803921568627451], [0.4, 0.3803921568627451, 0.34509803921568627], [0.3843137254901961, 0.3686274509803922, 0.32941176470588235], [0.3607843137254902, 0.34509803921568627, 0.3058823529411765], [0.35294117647058826, 0.3333333333333333, 0.2980392156862745], [0.32941176470588235, 0.3058823529411765, 0.27058823529411763]], [[0.5019607843137255, 0.45098039215686275, 0.41568627450980394], [0.5176470588235295, 0.4823529411764706, 0.44313725490196076], [0.5529411764705883, 0.5333333333333333, 0.48627450980392156], [0.5098039215686274, 0.4980392156862745, 0.4470588235294118], [0.5450980392156862, 0.5568627450980392, 0.5058823529411764], [0.6392156862745098, 0.6274509803921569, 0.5882352941176471], [0.6352941176470588, 0.596078431372549, 0.5686274509803921], [0.6705882352941176, 0.6509803921568628, 0.611764705882353], [0.6627450980392157, 0.6784313725490196, 0.6352941176470588], [0.7058823529411765, 0.7215686274509804, 0.6823529411764706], [0.7058823529411765, 0.6901960784313725, 0.6078431372549019], [0.6431372549019608, 0.6, 0.48627450980392156], [0.6549019607843137, 0.615686274509804, 0.5411764705882353], [0.6549019607843137, 0.6313725490196078, 0.6039215686274509], [0.6588235294117647, 0.6274509803921569, 0.5764705882352941], [0.6470588235294118, 0.6078431372549019, 0.5450980392156862], [0.6078431372549019, 0.5725490196078431, 0.5137254901960784], [0.5764705882352941, 0.5411764705882353, 0.4823529411764706], [0.5490196078431373, 0.5098039215686274, 0.45098039215686275], [0.5176470588235295, 0.4627450980392157, 0.40784313725490196], [0.49411764705882355, 0.4470588235294118, 0.38823529411764707], [0.4470588235294118, 0.41568627450980394, 0.35294117647058826], [0.41568627450980394, 0.39215686274509803, 0.32941176470588235], [0.4, 0.3803921568627451, 0.3137254901960784], [0.3803921568627451, 0.3607843137254902, 0.3058823529411765], [0.3803921568627451, 0.3568627450980392, 0.3058823529411765], [0.37254901960784315, 0.34901960784313724, 0.2980392156862745], [0.3411764705882353, 0.3176470588235294, 0.26666666666666666], [0.32941176470588235, 0.30980392156862746, 0.2627450980392157], [0.30980392156862746, 0.2823529411764706, 0.24705882352941178], [0.28627450980392155, 0.25882352941176473, 0.22745098039215686], [0.27058823529411763, 0.24705882352941178, 0.21176470588235294]], [[0.4, 0.3686274509803922, 0.3411764705882353], [0.47058823529411764, 0.45098039215686275, 0.4235294117647059], [0.4745098039215686, 0.4666666666666667, 0.43529411764705883], [0.43529411764705883, 0.4392156862745098, 0.403921568627451], [0.4549019607843137, 0.4588235294117647, 0.43529411764705883], [0.5019607843137255, 0.48627450980392156, 0.47058823529411764], [0.5019607843137255, 0.47058823529411764, 0.4627450980392157], [0.596078431372549, 0.5764705882352941, 0.5647058823529412], [0.5490196078431373, 0.5607843137254902, 0.5372549019607843], [0.5803921568627451, 0.6235294117647059, 0.5803921568627451], [0.6, 0.6274509803921569, 0.5450980392156862], [0.47058823529411764, 0.47843137254901963, 0.3686274509803922], [0.5333333333333333, 0.5411764705882353, 0.4627450980392157], [0.6549019607843137, 0.6588235294117647, 0.6235294117647059], [0.7098039215686275, 0.6705882352941176, 0.6313725490196078], [0.6862745098039216, 0.6352941176470588, 0.5882352941176471], [0.6705882352941176, 0.6235294117647059, 0.5764705882352941], [0.6784313725490196, 0.6274509803921569, 0.5843137254901961], [0.6705882352941176, 0.6196078431372549, 0.5764705882352941], [0.6, 0.5529411764705883, 0.5058823529411764], [0.5450980392156862, 0.5058823529411764, 0.4588235294117647], [0.48627450980392156, 0.4627450980392157, 0.40784313725490196], [0.47058823529411764, 0.4549019607843137, 0.4], [0.396078431372549, 0.39215686274509803, 0.33725490196078434], [0.2627450980392157, 0.2627450980392157, 0.2235294117647059], [0.24705882352941178, 0.24705882352941178, 0.21176470588235294], [0.21176470588235294, 0.21568627450980393, 0.1803921568627451], [0.19215686274509805, 0.19607843137254902, 0.1568627450980392], [0.16862745098039217, 0.17254901960784313, 0.1411764705882353], [0.1568627450980392, 0.1568627450980392, 0.13725490196078433], [0.14901960784313725, 0.1450980392156863, 0.12941176470588237], [0.13725490196078433, 0.13725490196078433, 0.11764705882352941]], [[0.19215686274509805, 0.17647058823529413, 0.1607843137254902], [0.27058823529411763, 0.2627450980392157, 0.24313725490196078], [0.2901960784313726, 0.2980392156862745, 0.27450980392156865], [0.2823529411764706, 0.29411764705882354, 0.27058823529411763], [0.33725490196078434, 0.3333333333333333, 0.3254901960784314], [0.3686274509803922, 0.3568627450980392, 0.3568627450980392], [0.3411764705882353, 0.3215686274509804, 0.3254901960784314], [0.44313725490196076, 0.42745098039215684, 0.43137254901960786], [0.45098039215686275, 0.45098039215686275, 0.4470588235294118], [0.5176470588235295, 0.5333333333333333, 0.5058823529411764], [0.5490196078431373, 0.5647058823529412, 0.5019607843137255], [0.4588235294117647, 0.4627450980392157, 0.3843137254901961], [0.5019607843137255, 0.49411764705882355, 0.4392156862745098], [0.596078431372549, 0.5803921568627451, 0.5568627450980392], [0.6823529411764706, 0.6352941176470588, 0.611764705882353], [0.6352941176470588, 0.5843137254901961, 0.5529411764705883], [0.6431372549019608, 0.592156862745098, 0.5607843137254902], [0.6588235294117647, 0.6039215686274509, 0.5764705882352941], [0.6666666666666666, 0.615686274509804, 0.5882352941176471], [0.5843137254901961, 0.5490196078431373, 0.5137254901960784], [0.5725490196078431, 0.5450980392156862, 0.5058823529411764], [0.5882352941176471, 0.5803921568627451, 0.5333333333333333], [0.6235294117647059, 0.6235294117647059, 0.5764705882352941], [0.6352941176470588, 0.6431372549019608, 0.6039215686274509], [0.49411764705882355, 0.5137254901960784, 0.49411764705882355], [0.43137254901960786, 0.4549019607843137, 0.43529411764705883], [0.3176470588235294, 0.33725490196078434, 0.3176470588235294], [0.18823529411764706, 0.21176470588235294, 0.19215686274509805], [0.12549019607843137, 0.14901960784313725, 0.13333333333333333], [0.10196078431372549, 0.12156862745098039, 0.11764705882352941], [0.08627450980392157, 0.10588235294117647, 0.10588235294117647], [0.0784313725490196, 0.09803921568627451, 0.09803921568627451]], [[0.18823529411764706, 0.16862745098039217, 0.15294117647058825], [0.20392156862745098, 0.2, 0.1803921568627451], [0.2, 0.20784313725490197, 0.1843137254901961], [0.21176470588235294, 0.2196078431372549, 0.2], [0.27450980392156865, 0.2627450980392157, 0.25882352941176473], [0.3176470588235294, 0.30980392156862746, 0.3058823529411765], [0.23921568627450981, 0.23137254901960785, 0.23137254901960785], [0.32941176470588235, 0.3215686274509804, 0.3176470588235294], [0.49411764705882355, 0.4745098039215686, 0.4745098039215686], [0.5725490196078431, 0.5372549019607843, 0.5333333333333333], [0.5764705882352941, 0.5411764705882353, 0.5176470588235295], [0.5764705882352941, 0.5411764705882353, 0.5058823529411764], [0.6431372549019608, 0.5843137254901961, 0.5686274509803921], [0.7098039215686275, 0.6431372549019608, 0.6431372549019608], [0.7019607843137254, 0.6588235294117647, 0.6470588235294118], [0.6941176470588235, 0.6549019607843137, 0.6392156862745098], [0.6823529411764706, 0.6431372549019608, 0.6274509803921569], [0.6313725490196078, 0.592156862745098, 0.5764705882352941], [0.5725490196078431, 0.5372549019607843, 0.5176470588235295], [0.5254901960784314, 0.5058823529411764, 0.4823529411764706], [0.5607843137254902, 0.5490196078431373, 0.5215686274509804], [0.5843137254901961, 0.5882352941176471, 0.5568627450980392], [0.6, 0.611764705882353, 0.5764705882352941], [0.6235294117647059, 0.6431372549019608, 0.611764705882353], [0.5529411764705883, 0.5803921568627451, 0.5647058823529412], [0.49411764705882355, 0.5254901960784314, 0.5098039215686274], [0.4117647058823529, 0.4392156862745098, 0.42745098039215684], [0.34901960784313724, 0.3764705882352941, 0.36470588235294116], [0.25882352941176473, 0.2901960784313726, 0.2784313725490196], [0.11764705882352941, 0.1450980392156863, 0.14901960784313725], [0.08235294117647059, 0.10980392156862745, 0.11372549019607843], [0.06666666666666667, 0.09411764705882353, 0.09803921568627451]], [[0.26666666666666666, 0.23529411764705882, 0.20784313725490197], [0.2784313725490196, 0.25882352941176473, 0.22745098039215686], [0.26666666666666666, 0.2627450980392157, 0.22745098039215686], [0.26666666666666666, 0.2627450980392157, 0.22745098039215686], [0.30980392156862746, 0.2901960784313726, 0.27058823529411763], [0.34901960784313724, 0.34509803921568627, 0.3254901960784314], [0.3568627450980392, 0.36470588235294116, 0.3411764705882353], [0.43137254901960786, 0.42745098039215684, 0.40784313725490196], [0.5176470588235295, 0.48627450980392156, 0.4745098039215686], [0.5176470588235295, 0.4666666666666667, 0.4666666666666667], [0.5490196078431373, 0.5058823529411764, 0.5019607843137255], [0.6078431372549019, 0.5725490196078431, 0.5647058823529412], [0.596078431372549, 0.5294117647058824, 0.5333333333333333], [0.6666666666666666, 0.5843137254901961, 0.596078431372549], [0.596078431372549, 0.5725490196078431, 0.5647058823529412], [0.5254901960784314, 0.5215686274509804, 0.5058823529411764], [0.5137254901960784, 0.5058823529411764, 0.49411764705882355], [0.4745098039215686, 0.4666666666666667, 0.4549019607843137], [0.39215686274509803, 0.38823529411764707, 0.37254901960784315], [0.4235294117647059, 0.4196078431372549, 0.403921568627451], [0.4666666666666667, 0.47058823529411764, 0.4549019607843137], [0.4627450980392157, 0.4745098039215686, 0.4549019607843137], [0.5333333333333333, 0.5568627450980392, 0.5333333333333333], [0.5882352941176471, 0.6196078431372549, 0.592156862745098], [0.5019607843137255, 0.5254901960784314, 0.5058823529411764], [0.4588235294117647, 0.4823529411764706, 0.4627450980392157], [0.44313725490196076, 0.4666666666666667, 0.4470588235294118], [0.5254901960784314, 0.5490196078431373, 0.5294117647058824], [0.4392156862745098, 0.4588235294117647, 0.44313725490196076], [0.16862745098039217, 0.18823529411764706, 0.1843137254901961], [0.08627450980392157, 0.10588235294117647, 0.10196078431372549], [0.07058823529411765, 0.09019607843137255, 0.08627450980392157]], [[0.3411764705882353, 0.29411764705882354, 0.2549019607843137], [0.3607843137254902, 0.3254901960784314, 0.2823529411764706], [0.34901960784313724, 0.32941176470588235, 0.2823529411764706], [0.34509803921568627, 0.3254901960784314, 0.2784313725490196], [0.3764705882352941, 0.34901960784313724, 0.3137254901960784], [0.45098039215686275, 0.45098039215686275, 0.40784313725490196], [0.5568627450980392, 0.5843137254901961, 0.5333333333333333], [0.5607843137254902, 0.5686274509803921, 0.5254901960784314], [0.5019607843137255, 0.4745098039215686, 0.44313725490196076], [0.4745098039215686, 0.4470588235294118, 0.4392156862745098], [0.4980392156862745, 0.5019607843137255, 0.49411764705882355], [0.6196078431372549, 0.6313725490196078, 0.6274509803921569], [0.5882352941176471, 0.5647058823529412, 0.5647058823529412], [0.5490196078431373, 0.4980392156862745, 0.5019607843137255], [0.5137254901960784, 0.5176470588235295, 0.5098039215686274], [0.48627450980392156, 0.5098039215686274, 0.4980392156862745], [0.4627450980392157, 0.4823529411764706, 0.47058823529411764], [0.4392156862745098, 0.4627450980392157, 0.45098039215686275], [0.44313725490196076, 0.4588235294117647, 0.4470588235294118], [0.4470588235294118, 0.45098039215686275, 0.44313725490196076], [0.3137254901960784, 0.3254901960784314, 0.3137254901960784], [0.2549019607843137, 0.2784313725490196, 0.2627450980392157], [0.44313725490196076, 0.47843137254901963, 0.4627450980392157], [0.5450980392156862, 0.5803921568627451, 0.5568627450980392], [0.47843137254901963, 0.49019607843137253, 0.4666666666666667], [0.4627450980392157, 0.47058823529411764, 0.44313725490196076], [0.42745098039215684, 0.43529411764705883, 0.40784313725490196], [0.5450980392156862, 0.5529411764705883, 0.5254901960784314], [0.4470588235294118, 0.4549019607843137, 0.43137254901960786], [0.17254901960784313, 0.17647058823529413, 0.16470588235294117], [0.09019607843137255, 0.09803921568627451, 0.08235294117647059], [0.0784313725490196, 0.08627450980392157, 0.07058823529411765]], [[0.3843137254901961, 0.34509803921568627, 0.2980392156862745], [0.403921568627451, 0.37254901960784315, 0.3254901960784314], [0.403921568627451, 0.3803921568627451, 0.32941176470588235], [0.40784313725490196, 0.3843137254901961, 0.33725490196078434], [0.41568627450980394, 0.39215686274509803, 0.34901960784313724], [0.44313725490196076, 0.4588235294117647, 0.41568627450980394], [0.45098039215686275, 0.5019607843137255, 0.4627450980392157], [0.4549019607843137, 0.5058823529411764, 0.4666666666666667], [0.4470588235294118, 0.4745098039215686, 0.4392156862745098], [0.3803921568627451, 0.40784313725490196, 0.4], [0.24313725490196078, 0.2823529411764706, 0.2823529411764706], [0.3215686274509804, 0.3607843137254902, 0.3607843137254902], [0.41568627450980394, 0.43529411764705883, 0.43137254901960786], [0.3215686274509804, 0.3254901960784314, 0.3176470588235294], [0.30196078431372547, 0.3215686274509804, 0.3176470588235294], [0.5411764705882353, 0.5686274509803921, 0.5647058823529412], [0.43529411764705883, 0.4588235294117647, 0.4588235294117647], [0.3686274509803922, 0.396078431372549, 0.396078431372549], [0.3568627450980392, 0.3803921568627451, 0.3764705882352941], [0.43529411764705883, 0.45098039215686275, 0.4392156862745098], [0.37254901960784315, 0.39215686274509803, 0.3764705882352941], [0.26666666666666666, 0.2901960784313726, 0.27450980392156865], [0.38823529411764707, 0.41568627450980394, 0.396078431372549], [0.4980392156862745, 0.5294117647058824, 0.5058823529411764], [0.5686274509803921, 0.5803921568627451, 0.5568627450980392], [0.5058823529411764, 0.5137254901960784, 0.48627450980392156], [0.403921568627451, 0.4117647058823529, 0.38823529411764707], [0.48627450980392156, 0.49411764705882355, 0.47058823529411764], [0.39215686274509803, 0.4, 0.3764705882352941], [0.17647058823529413, 0.1843137254901961, 0.16470588235294117], [0.12941176470588237, 0.13725490196078433, 0.11764705882352941], [0.0784313725490196, 0.08235294117647059, 0.06274509803921569]], [[0.3333333333333333, 0.3058823529411765, 0.25882352941176473], [0.3607843137254902, 0.33725490196078434, 0.2901960784313726], [0.3686274509803922, 0.34509803921568627, 0.2980392156862745], [0.3764705882352941, 0.35294117647058826, 0.3058823529411765], [0.38823529411764707, 0.3764705882352941, 0.3333333333333333], [0.40784313725490196, 0.43529411764705883, 0.403921568627451], [0.3254901960784314, 0.39215686274509803, 0.3764705882352941], [0.32941176470588235, 0.40784313725490196, 0.3843137254901961], [0.3686274509803922, 0.44313725490196076, 0.4117647058823529], [0.3411764705882353, 0.4, 0.4], [0.1450980392156863, 0.19607843137254902, 0.20784313725490197], [0.12941176470588237, 0.16862745098039217, 0.17254901960784313], [0.25098039215686274, 0.28627450980392155, 0.2784313725490196], [0.16470588235294117, 0.19215686274509805, 0.1843137254901961], [0.13333333333333333, 0.15294117647058825, 0.1607843137254902], [0.4745098039215686, 0.4980392156862745, 0.5058823529411764], [0.30196078431372547, 0.3215686274509804, 0.3333333333333333], [0.20784313725490197, 0.22745098039215686, 0.23529411764705882], [0.15294117647058825, 0.17254901960784313, 0.17647058823529413], [0.3176470588235294, 0.33725490196078434, 0.3176470588235294], [0.38823529411764707, 0.40784313725490196, 0.3843137254901961], [0.22745098039215686, 0.24705882352941178, 0.2235294117647059], [0.30196078431372547, 0.3215686274509804, 0.2980392156862745], [0.42745098039215684, 0.4470588235294118, 0.4235294117647059], [0.5372549019607843, 0.5568627450980392, 0.5333333333333333], [0.47843137254901963, 0.4980392156862745, 0.4745098039215686], [0.40784313725490196, 0.42745098039215684, 0.403921568627451], [0.39215686274509803, 0.4117647058823529, 0.38823529411764707], [0.33725490196078434, 0.35294117647058826, 0.3333333333333333], [0.26666666666666666, 0.28627450980392155, 0.2627450980392157], [0.20784313725490197, 0.22745098039215686, 0.20392156862745098], [0.07058823529411765, 0.09019607843137255, 0.06666666666666667]], [[0.17647058823529413, 0.15294117647058825, 0.10196078431372549], [0.18823529411764706, 0.16470588235294117, 0.11764705882352941], [0.2, 0.17647058823529413, 0.12941176470588237], [0.21176470588235294, 0.18823529411764706, 0.1411764705882353], [0.30196078431372547, 0.2901960784313726, 0.24705882352941178], [0.3843137254901961, 0.40784313725490196, 0.3803921568627451], [0.26666666666666666, 0.3254901960784314, 0.3137254901960784], [0.23529411764705882, 0.3058823529411765, 0.2901960784313726], [0.25882352941176473, 0.3215686274509804, 0.2901960784313726], [0.2627450980392157, 0.3215686274509804, 0.3215686274509804], [0.13725490196078433, 0.18823529411764706, 0.19215686274509805], [0.13725490196078433, 0.17647058823529413, 0.17647058823529413], [0.2196078431372549, 0.24705882352941178, 0.23921568627450981], [0.12941176470588237, 0.15294117647058825, 0.1411764705882353], [0.12941176470588237, 0.14901960784313725, 0.15294117647058825], [0.39215686274509803, 0.4117647058823529, 0.41568627450980394], [0.23921568627450981, 0.25882352941176473, 0.2627450980392157], [0.1803921568627451, 0.20392156862745098, 0.20784313725490197], [0.10196078431372549, 0.12549019607843137, 0.12156862745098039], [0.2784313725490196, 0.2980392156862745, 0.2784313725490196], [0.3176470588235294, 0.33725490196078434, 0.3137254901960784], [0.17647058823529413, 0.19607843137254902, 0.17254901960784313], [0.18823529411764706, 0.20784313725490197, 0.1843137254901961], [0.27450980392156865, 0.29411764705882354, 0.27058823529411763], [0.3411764705882353, 0.3607843137254902, 0.33725490196078434], [0.3254901960784314, 0.34509803921568627, 0.3215686274509804], [0.2980392156862745, 0.3215686274509804, 0.29411764705882354], [0.27450980392156865, 0.29411764705882354, 0.27058823529411763], [0.2549019607843137, 0.27450980392156865, 0.25098039215686274], [0.24313725490196078, 0.2627450980392157, 0.23921568627450981], [0.22745098039215686, 0.24705882352941178, 0.2235294117647059], [0.07058823529411765, 0.09019607843137255, 0.06666666666666667]], [[0.27450980392156865, 0.25098039215686274, 0.20392156862745098], [0.27450980392156865, 0.25098039215686274, 0.20392156862745098], [0.2784313725490196, 0.2549019607843137, 0.20784313725490197], [0.2784313725490196, 0.2549019607843137, 0.20784313725490197], [0.3568627450980392, 0.3411764705882353, 0.2980392156862745], [0.37254901960784315, 0.38823529411764707, 0.3607843137254902], [0.26666666666666666, 0.30980392156862746, 0.3058823529411765], [0.27058823529411763, 0.3176470588235294, 0.30980392156862746], [0.21568627450980393, 0.25098039215686274, 0.23137254901960785], [0.2196078431372549, 0.2627450980392157, 0.2627450980392157], [0.12941176470588237, 0.16862745098039217, 0.17254901960784313], [0.17647058823529413, 0.20784313725490197, 0.2], [0.21568627450980393, 0.23529411764705882, 0.2196078431372549], [0.13725490196078433, 0.1607843137254902, 0.1411764705882353], [0.1450980392156863, 0.16862745098039217, 0.1568627450980392], [0.2784313725490196, 0.30196078431372547, 0.29411764705882354], [0.2, 0.2235294117647059, 0.21568627450980393], [0.2235294117647059, 0.24705882352941178, 0.23921568627450981], [0.1450980392156863, 0.16862745098039217, 0.1568627450980392], [0.2823529411764706, 0.30196078431372547, 0.2823529411764706], [0.2901960784313726, 0.30980392156862746, 0.28627450980392155], [0.1843137254901961, 0.20392156862745098, 0.1803921568627451], [0.16470588235294117, 0.1843137254901961, 0.1607843137254902], [0.25882352941176473, 0.2784313725490196, 0.25098039215686274], [0.30980392156862746, 0.32941176470588235, 0.3058823529411765], [0.2823529411764706, 0.30196078431372547, 0.2784313725490196], [0.27058823529411763, 0.2901960784313726, 0.26666666666666666], [0.2549019607843137, 0.27450980392156865, 0.25098039215686274], [0.26666666666666666, 0.28627450980392155, 0.2627450980392157], [0.23529411764705882, 0.2549019607843137, 0.23137254901960785], [0.21176470588235294, 0.23137254901960785, 0.20784313725490197], [0.06274509803921569, 0.08235294117647059, 0.058823529411764705]], [[0.3568627450980392, 0.3333333333333333, 0.28627450980392155], [0.37254901960784315, 0.34901960784313724, 0.30196078431372547], [0.38823529411764707, 0.36470588235294116, 0.3176470588235294], [0.39215686274509803, 0.3686274509803922, 0.3215686274509804], [0.4235294117647059, 0.40784313725490196, 0.36470588235294116], [0.4392156862745098, 0.4470588235294118, 0.4235294117647059], [0.35294117647058826, 0.3803921568627451, 0.3803921568627451], [0.34509803921568627, 0.3686274509803922, 0.36470588235294116], [0.3215686274509804, 0.32941176470588235, 0.3176470588235294], [0.32941176470588235, 0.3607843137254902, 0.3607843137254902], [0.26666666666666666, 0.3058823529411765, 0.30196078431372547], [0.35294117647058826, 0.3803921568627451, 0.3686274509803922], [0.38823529411764707, 0.403921568627451, 0.3843137254901961], [0.37254901960784315, 0.38823529411764707, 0.3607843137254902], [0.3764705882352941, 0.396078431372549, 0.3843137254901961], [0.3215686274509804, 0.34509803921568627, 0.33725490196078434], [0.4196078431372549, 0.44313725490196076, 0.43137254901960786], [0.4980392156862745, 0.5215686274509804, 0.5137254901960784], [0.5215686274509804, 0.5450980392156862, 0.5333333333333333], [0.4980392156862745, 0.5215686274509804, 0.4980392156862745], [0.3137254901960784, 0.3333333333333333, 0.30980392156862746], [0.1803921568627451, 0.2, 0.17647058823529413], [0.17647058823529413, 0.19607843137254902, 0.17254901960784313], [0.25882352941176473, 0.2784313725490196, 0.2549019607843137], [0.3058823529411765, 0.3254901960784314, 0.30196078431372547], [0.28627450980392155, 0.3058823529411765, 0.2823529411764706], [0.28627450980392155, 0.3058823529411765, 0.2823529411764706], [0.25882352941176473, 0.2784313725490196, 0.2549019607843137], [0.30196078431372547, 0.3215686274509804, 0.2980392156862745], [0.28627450980392155, 0.3058823529411765, 0.2823529411764706], [0.20392156862745098, 0.2235294117647059, 0.2], [0.06274509803921569, 0.08235294117647059, 0.058823529411764705]], [[0.34901960784313724, 0.3254901960784314, 0.2784313725490196], [0.37254901960784315, 0.34901960784313724, 0.30196078431372547], [0.3843137254901961, 0.3607843137254902, 0.3137254901960784], [0.3803921568627451, 0.3568627450980392, 0.30980392156862746], [0.403921568627451, 0.38823529411764707, 0.34509803921568627], [0.4823529411764706, 0.4823529411764706, 0.4588235294117647], [0.35294117647058826, 0.36470588235294116, 0.3686274509803922], [0.25882352941176473, 0.25882352941176473, 0.2627450980392157], [0.3686274509803922, 0.35294117647058826, 0.34901960784313724], [0.43529411764705883, 0.4588235294117647, 0.4549019607843137], [0.4392156862745098, 0.4745098039215686, 0.4627450980392157], [0.5411764705882353, 0.5647058823529412, 0.5450980392156862], [0.5764705882352941, 0.5843137254901961, 0.5607843137254902], [0.5686274509803921, 0.5725490196078431, 0.5490196078431373], [0.5490196078431373, 0.5725490196078431, 0.5529411764705883], [0.4196078431372549, 0.44313725490196076, 0.42745098039215684], [0.5294117647058824, 0.5529411764705883, 0.5372549019607843], [0.5725490196078431, 0.596078431372549, 0.5803921568627451], [0.5843137254901961, 0.6078431372549019, 0.5882352941176471], [0.5450980392156862, 0.5686274509803921, 0.5450980392156862], [0.33725490196078434, 0.3568627450980392, 0.3333333333333333], [0.1803921568627451, 0.2, 0.17647058823529413], [0.16470588235294117, 0.1843137254901961, 0.1607843137254902], [0.2627450980392157, 0.2823529411764706, 0.25882352941176473], [0.3058823529411765, 0.3254901960784314, 0.30196078431372547], [0.2823529411764706, 0.30196078431372547, 0.2784313725490196], [0.3176470588235294, 0.33725490196078434, 0.3137254901960784], [0.2627450980392157, 0.2823529411764706, 0.25882352941176473], [0.26666666666666666, 0.28627450980392155, 0.2627450980392157], [0.2784313725490196, 0.2980392156862745, 0.27450980392156865], [0.19215686274509805, 0.21176470588235294, 0.18823529411764706], [0.058823529411764705, 0.0784313725490196, 0.054901960784313725]], [[0.4549019607843137, 0.43137254901960786, 0.3803921568627451], [0.45098039215686275, 0.42745098039215684, 0.3803921568627451], [0.42745098039215684, 0.403921568627451, 0.3568627450980392], [0.4, 0.3764705882352941, 0.32941176470588235], [0.41568627450980394, 0.396078431372549, 0.35294117647058826], [0.47058823529411764, 0.4627450980392157, 0.44313725490196076], [0.3176470588235294, 0.3215686274509804, 0.32941176470588235], [0.22745098039215686, 0.21176470588235294, 0.2235294117647059], [0.34509803921568627, 0.30980392156862746, 0.3137254901960784], [0.403921568627451, 0.41568627450980394, 0.4117647058823529], [0.4392156862745098, 0.4627450980392157, 0.45098039215686275], [0.5372549019607843, 0.5529411764705883, 0.5294117647058824], [0.5450980392156862, 0.5490196078431373, 0.5215686274509804], [0.43137254901960786, 0.43529411764705883, 0.403921568627451], [0.4980392156862745, 0.5215686274509804, 0.49411764705882355], [0.5176470588235295, 0.5450980392156862, 0.5215686274509804], [0.48627450980392156, 0.5137254901960784, 0.48627450980392156], [0.49019607843137253, 0.5176470588235295, 0.49411764705882355], [0.49411764705882355, 0.5176470588235295, 0.49411764705882355], [0.5058823529411764, 0.5254901960784314, 0.5019607843137255], [0.3411764705882353, 0.3607843137254902, 0.33725490196078434], [0.18823529411764706, 0.20784313725490197, 0.1843137254901961], [0.1803921568627451, 0.19607843137254902, 0.17254901960784313], [0.27058823529411763, 0.2901960784313726, 0.26666666666666666], [0.3254901960784314, 0.34509803921568627, 0.3215686274509804], [0.3137254901960784, 0.3333333333333333, 0.30980392156862746], [0.30196078431372547, 0.3215686274509804, 0.2980392156862745], [0.20392156862745098, 0.2235294117647059, 0.2], [0.2823529411764706, 0.30196078431372547, 0.2784313725490196], [0.27058823529411763, 0.28627450980392155, 0.2627450980392157], [0.18823529411764706, 0.20392156862745098, 0.1803921568627451], [0.06666666666666667, 0.08235294117647059, 0.058823529411764705]], [[0.7098039215686275, 0.6862745098039216, 0.6352941176470588], [0.6823529411764706, 0.6588235294117647, 0.611764705882353], [0.6549019607843137, 0.6313725490196078, 0.5803921568627451], [0.6274509803921569, 0.6039215686274509, 0.5568627450980392], [0.6196078431372549, 0.611764705882353, 0.5686274509803921], [0.5725490196078431, 0.5764705882352941, 0.5529411764705883], [0.34509803921568627, 0.34901960784313724, 0.34901960784313724], [0.2235294117647059, 0.21568627450980393, 0.2196078431372549], [0.3176470588235294, 0.30196078431372547, 0.30196078431372547], [0.3686274509803922, 0.3843137254901961, 0.3764705882352941], [0.4666666666666667, 0.49411764705882355, 0.47843137254901963], [0.5254901960784314, 0.5529411764705883, 0.5294117647058824], [0.5686274509803921, 0.592156862745098, 0.5607843137254902], [0.5058823529411764, 0.5215686274509804, 0.49411764705882355], [0.5686274509803921, 0.592156862745098, 0.5647058823529412], [0.5137254901960784, 0.5411764705882353, 0.5137254901960784], [0.30196078431372547, 0.3254901960784314, 0.30196078431372547], [0.36470588235294116, 0.38823529411764707, 0.3607843137254902], [0.5254901960784314, 0.5490196078431373, 0.5215686274509804], [0.5372549019607843, 0.5529411764705883, 0.5176470588235295], [0.34901960784313724, 0.36470588235294116, 0.3254901960784314], [0.1803921568627451, 0.19607843137254902, 0.1607843137254902], [0.1843137254901961, 0.2, 0.16470588235294117], [0.2823529411764706, 0.2980392156862745, 0.26666666666666666], [0.34901960784313724, 0.36470588235294116, 0.34901960784313724], [0.34509803921568627, 0.36470588235294116, 0.34509803921568627], [0.23529411764705882, 0.2549019607843137, 0.23137254901960785], [0.1411764705882353, 0.1607843137254902, 0.13725490196078433], [0.2784313725490196, 0.2980392156862745, 0.27058823529411763], [0.27058823529411763, 0.28627450980392155, 0.25882352941176473], [0.17647058823529413, 0.18823529411764706, 0.1607843137254902], [0.0784313725490196, 0.09019607843137255, 0.06666666666666667]], [[0.8470588235294118, 0.8235294117647058, 0.7725490196078432], [0.8352941176470589, 0.8117647058823529, 0.7607843137254902], [0.8274509803921568, 0.803921568627451, 0.7568627450980392], [0.8235294117647058, 0.803921568627451, 0.7529411764705882], [0.7607843137254902, 0.7725490196078432, 0.7294117647058823], [0.6196078431372549, 0.6392156862745098, 0.611764705882353], [0.38823529411764707, 0.403921568627451, 0.38823529411764707], [0.2196078431372549, 0.23137254901960785, 0.22745098039215686], [0.3176470588235294, 0.32941176470588235, 0.3254901960784314], [0.4549019607843137, 0.4823529411764706, 0.4627450980392157], [0.5411764705882353, 0.5725490196078431, 0.5450980392156862], [0.5725490196078431, 0.6039215686274509, 0.5764705882352941], [0.6274509803921569, 0.6588235294117647, 0.6313725490196078], [0.6470588235294118, 0.6745098039215687, 0.6470588235294118], [0.6313725490196078, 0.6509803921568628, 0.6274509803921569], [0.3607843137254902, 0.3803921568627451, 0.3568627450980392], [0.12549019607843137, 0.1450980392156863, 0.12156862745098039], [0.19607843137254902, 0.21568627450980393, 0.19215686274509805], [0.47843137254901963, 0.49411764705882355, 0.4666666666666667], [0.5019607843137255, 0.5098039215686274, 0.47058823529411764], [0.33725490196078434, 0.34901960784313724, 0.30196078431372547], [0.20784313725490197, 0.2196078431372549, 0.17254901960784313], [0.2196078431372549, 0.22745098039215686, 0.1843137254901961], [0.29411764705882354, 0.3058823529411765, 0.27058823529411763], [0.3215686274509804, 0.33725490196078434, 0.3333333333333333], [0.2823529411764706, 0.30196078431372547, 0.29411764705882354], [0.21176470588235294, 0.23137254901960785, 0.21176470588235294], [0.1843137254901961, 0.20392156862745098, 0.17647058823529413], [0.2823529411764706, 0.2980392156862745, 0.26666666666666666], [0.3137254901960784, 0.3137254901960784, 0.2784313725490196], [0.2627450980392157, 0.25882352941176473, 0.2235294117647059], [0.21176470588235294, 0.21176470588235294, 0.17254901960784313]], [[0.8588235294117647, 0.8392156862745098, 0.788235294117647], [0.8392156862745098, 0.8196078431372549, 0.7725490196078432], [0.8431372549019608, 0.8235294117647058, 0.7764705882352941], [0.8117647058823529, 0.8, 0.7529411764705882], [0.6, 0.615686274509804, 0.5725490196078431], [0.5098039215686274, 0.5333333333333333, 0.5019607843137255], [0.43137254901960786, 0.45098039215686275, 0.43137254901960786], [0.30980392156862746, 0.3254901960784314, 0.3176470588235294], [0.3607843137254902, 0.3764705882352941, 0.37254901960784315], [0.5215686274509804, 0.5372549019607843, 0.5098039215686274], [0.5764705882352941, 0.596078431372549, 0.5607843137254902], [0.6039215686274509, 0.6196078431372549, 0.5882352941176471], [0.6274509803921569, 0.6431372549019608, 0.611764705882353], [0.6509803921568628, 0.6666666666666666, 0.6352941176470588], [0.5372549019607843, 0.5568627450980392, 0.5333333333333333], [0.25882352941176473, 0.2784313725490196, 0.2549019607843137], [0.2235294117647059, 0.24313725490196078, 0.2196078431372549], [0.14901960784313725, 0.16862745098039217, 0.1450980392156863], [0.36470588235294116, 0.3843137254901961, 0.3568627450980392], [0.40784313725490196, 0.4117647058823529, 0.3843137254901961], [0.32941176470588235, 0.3333333333333333, 0.3058823529411765], [0.30196078431372547, 0.3058823529411765, 0.2784313725490196], [0.30980392156862746, 0.3137254901960784, 0.28627450980392155], [0.23529411764705882, 0.23921568627450981, 0.21568627450980393], [0.16470588235294117, 0.17647058823529413, 0.17254901960784313], [0.12941176470588237, 0.1411764705882353, 0.13333333333333333], [0.17647058823529413, 0.19215686274509805, 0.16862745098039217], [0.20392156862745098, 0.2196078431372549, 0.18823529411764706], [0.3333333333333333, 0.3411764705882353, 0.30196078431372547], [0.4588235294117647, 0.44313725490196076, 0.396078431372549], [0.5333333333333333, 0.5098039215686274, 0.4627450980392157], [0.5647058823529412, 0.5450980392156862, 0.4980392156862745]], [[0.8666666666666667, 0.8549019607843137, 0.807843137254902], [0.8470588235294118, 0.8352941176470589, 0.788235294117647], [0.8509803921568627, 0.8392156862745098, 0.792156862745098], [0.807843137254902, 0.8, 0.7529411764705882], [0.5803921568627451, 0.596078431372549, 0.5529411764705883], [0.4117647058823529, 0.43137254901960786, 0.4], [0.3764705882352941, 0.396078431372549, 0.3764705882352941], [0.33725490196078434, 0.35294117647058826, 0.34509803921568627], [0.396078431372549, 0.40784313725490196, 0.403921568627451], [0.47843137254901963, 0.4823529411764706, 0.4549019607843137], [0.5137254901960784, 0.5137254901960784, 0.47843137254901963], [0.6196078431372549, 0.6196078431372549, 0.5843137254901961], [0.6588235294117647, 0.6588235294117647, 0.6235294117647059], [0.6627450980392157, 0.6666666666666666, 0.6313725490196078], [0.47058823529411764, 0.48627450980392156, 0.4627450980392157], [0.29411764705882354, 0.3137254901960784, 0.2901960784313726], [0.3254901960784314, 0.34509803921568627, 0.3215686274509804], [0.17647058823529413, 0.19607843137254902, 0.17254901960784313], [0.2980392156862745, 0.3137254901960784, 0.2901960784313726], [0.3058823529411765, 0.30980392156862746, 0.2980392156862745], [0.27058823529411763, 0.27058823529411763, 0.2627450980392157], [0.2549019607843137, 0.2549019607843137, 0.24705882352941178], [0.20392156862745098, 0.20784313725490197, 0.2], [0.11764705882352941, 0.12156862745098039, 0.11372549019607843], [0.07058823529411765, 0.07450980392156863, 0.06666666666666667], [0.06666666666666667, 0.07450980392156863, 0.058823529411764705], [0.12156862745098039, 0.12549019607843137, 0.10196078431372549], [0.17254901960784313, 0.1843137254901961, 0.14901960784313725], [0.25098039215686274, 0.25098039215686274, 0.20392156862745098], [0.4196078431372549, 0.3843137254901961, 0.3254901960784314], [0.6588235294117647, 0.6196078431372549, 0.5607843137254902], [0.7764705882352941, 0.7372549019607844, 0.6784313725490196]], [[0.8784313725490196, 0.8745098039215686, 0.8313725490196079], [0.8705882352941177, 0.8705882352941177, 0.8274509803921568], [0.8705882352941177, 0.8705882352941177, 0.8274509803921568], [0.8549019607843137, 0.8588235294117647, 0.8156862745098039], [0.8196078431372549, 0.8352941176470589, 0.796078431372549], [0.6078431372549019, 0.6313725490196078, 0.6], [0.45098039215686275, 0.47058823529411764, 0.45098039215686275], [0.3607843137254902, 0.3764705882352941, 0.37254901960784315], [0.34509803921568627, 0.3568627450980392, 0.3568627450980392], [0.42745098039215684, 0.43137254901960786, 0.403921568627451], [0.40784313725490196, 0.40784313725490196, 0.37254901960784315], [0.5019607843137255, 0.5019607843137255, 0.47058823529411764], [0.592156862745098, 0.592156862745098, 0.5607843137254902], [0.5215686274509804, 0.5215686274509804, 0.49019607843137253], [0.2980392156862745, 0.3137254901960784, 0.2901960784313726], [0.3137254901960784, 0.3333333333333333, 0.30980392156862746], [0.39215686274509803, 0.4117647058823529, 0.38823529411764707], [0.16862745098039217, 0.18823529411764706, 0.16470588235294117], [0.11372549019607843, 0.12941176470588237, 0.10980392156862745], [0.10980392156862745, 0.11372549019607843, 0.10980392156862745], [0.11764705882352941, 0.11764705882352941, 0.11764705882352941], [0.09411764705882353, 0.09411764705882353, 0.09411764705882353], [0.08235294117647059, 0.08235294117647059, 0.0784313725490196], [0.10588235294117647, 0.10588235294117647, 0.10196078431372549], [0.14901960784313725, 0.15294117647058825, 0.13725490196078433], [0.21568627450980393, 0.2196078431372549, 0.19607843137254902], [0.30980392156862746, 0.3137254901960784, 0.2823529411764706], [0.41568627450980394, 0.4235294117647059, 0.3803921568627451], [0.5372549019607843, 0.5333333333333333, 0.4823529411764706], [0.6745098039215687, 0.6352941176470588, 0.5725490196078431], [0.7686274509803922, 0.7215686274509804, 0.6588235294117647], [0.8, 0.7529411764705882, 0.6901960784313725]], [[0.8431372549019608, 0.8470588235294118, 0.8117647058823529], [0.8352941176470589, 0.8392156862745098, 0.807843137254902], [0.8431372549019608, 0.8431372549019608, 0.8117647058823529], [0.8352941176470589, 0.8392156862745098, 0.803921568627451], [0.807843137254902, 0.8235294117647058, 0.788235294117647], [0.7725490196078432, 0.792156862745098, 0.7607843137254902], [0.6745098039215687, 0.6941176470588235, 0.6745098039215687], [0.5058823529411764, 0.5215686274509804, 0.5137254901960784], [0.3333333333333333, 0.34509803921568627, 0.34509803921568627], [0.30980392156862746, 0.3137254901960784, 0.30196078431372547], [0.27450980392156865, 0.2784313725490196, 0.25882352941176473], [0.19607843137254902, 0.2, 0.1803921568627451], [0.18823529411764706, 0.19215686274509805, 0.17647058823529413], [0.1607843137254902, 0.16862745098039217, 0.14901960784313725], [0.07450980392156863, 0.09019607843137255, 0.06666666666666667], [0.2, 0.2196078431372549, 0.19607843137254902], [0.29411764705882354, 0.3137254901960784, 0.2901960784313726], [0.12156862745098039, 0.1411764705882353, 0.11764705882352941], [0.09019607843137255, 0.10588235294117647, 0.08235294117647059], [0.1411764705882353, 0.1450980392156863, 0.12941176470588237], [0.21176470588235294, 0.21176470588235294, 0.19607843137254902], [0.2823529411764706, 0.2823529411764706, 0.26666666666666666], [0.34901960784313724, 0.35294117647058826, 0.33725490196078434], [0.4117647058823529, 0.4117647058823529, 0.396078431372549], [0.49019607843137253, 0.48627450980392156, 0.47058823529411764], [0.6196078431372549, 0.615686274509804, 0.592156862745098], [0.7098039215686275, 0.7098039215686275, 0.6745098039215687], [0.7529411764705882, 0.7568627450980392, 0.7098039215686275], [0.803921568627451, 0.8, 0.7450980392156863], [0.8392156862745098, 0.8117647058823529, 0.7568627450980392], [0.8274509803921568, 0.796078431372549, 0.7411764705882353], [0.8117647058823529, 0.7803921568627451, 0.7254901960784313]], [[0.6862745098039216, 0.6941176470588235, 0.6666666666666666], [0.6862745098039216, 0.6901960784313725, 0.6627450980392157], [0.6862745098039216, 0.6901960784313725, 0.6666666666666666], [0.6470588235294118, 0.6509803921568628, 0.6274509803921569], [0.5411764705882353, 0.5607843137254902, 0.5254901960784314], [0.45098039215686275, 0.4745098039215686, 0.44313725490196076], [0.37254901960784315, 0.39215686274509803, 0.37254901960784315], [0.2823529411764706, 0.2980392156862745, 0.29411764705882354], [0.2, 0.21568627450980393, 0.2196078431372549], [0.12156862745098039, 0.1411764705882353, 0.1450980392156863], [0.08235294117647059, 0.10196078431372549, 0.10588235294117647], [0.07058823529411765, 0.09019607843137255, 0.09411764705882353], [0.06274509803921569, 0.08235294117647059, 0.08627450980392157], [0.0784313725490196, 0.09803921568627451, 0.09803921568627451], [0.09411764705882353, 0.11372549019607843, 0.09411764705882353], [0.12941176470588237, 0.14901960784313725, 0.12549019607843137], [0.17647058823529413, 0.19607843137254902, 0.17254901960784313], [0.2549019607843137, 0.27450980392156865, 0.25098039215686274], [0.3607843137254902, 0.3764705882352941, 0.34901960784313724], [0.4980392156862745, 0.5058823529411764, 0.4666666666666667], [0.6392156862745098, 0.6431372549019608, 0.6078431372549019], [0.7215686274509804, 0.7254901960784313, 0.6862745098039216], [0.7686274509803922, 0.7725490196078432, 0.7333333333333333], [0.796078431372549, 0.8, 0.7647058823529411], [0.8274509803921568, 0.8196078431372549, 0.796078431372549], [0.8509803921568627, 0.8431372549019608, 0.8117647058823529], [0.8509803921568627, 0.8431372549019608, 0.803921568627451], [0.8588235294117647, 0.8549019607843137, 0.8], [0.8509803921568627, 0.8431372549019608, 0.788235294117647], [0.8509803921568627, 0.8431372549019608, 0.796078431372549], [0.8588235294117647, 0.8470588235294118, 0.803921568627451], [0.8509803921568627, 0.8392156862745098, 0.796078431372549]], [[0.5294117647058824, 0.5411764705882353, 0.5176470588235295], [0.5215686274509804, 0.5333333333333333, 0.5137254901960784], [0.5215686274509804, 0.5333333333333333, 0.5098039215686274], [0.5137254901960784, 0.5254901960784314, 0.5019607843137255], [0.4470588235294118, 0.4666666666666667, 0.43529411764705883], [0.36470588235294116, 0.3843137254901961, 0.3568627450980392], [0.32941176470588235, 0.34901960784313724, 0.3254901960784314], [0.27058823529411763, 0.2901960784313726, 0.2784313725490196], [0.22745098039215686, 0.24705882352941178, 0.23921568627450981], [0.18823529411764706, 0.21176470588235294, 0.21568627450980393], [0.17254901960784313, 0.19607843137254902, 0.20392156862745098], [0.1843137254901961, 0.20784313725490197, 0.21176470588235294], [0.2235294117647059, 0.24705882352941178, 0.25098039215686274], [0.26666666666666666, 0.2901960784313726, 0.2901960784313726], [0.3254901960784314, 0.34509803921568627, 0.3254901960784314], [0.3843137254901961, 0.403921568627451, 0.3803921568627451], [0.44313725490196076, 0.4627450980392157, 0.4392156862745098], [0.5607843137254902, 0.5803921568627451, 0.5568627450980392], [0.6627450980392157, 0.6784313725490196, 0.6549019607843137], [0.7725490196078432, 0.7764705882352941, 0.7372549019607844], [0.8274509803921568, 0.8313725490196079, 0.788235294117647], [0.8392156862745098, 0.8431372549019608, 0.8], [0.8431372549019608, 0.8470588235294118, 0.803921568627451], [0.8470588235294118, 0.8470588235294118, 0.8117647058823529], [0.8588235294117647, 0.8509803921568627, 0.8196078431372549], [0.8627450980392157, 0.8509803921568627, 0.8235294117647058], [0.8588235294117647, 0.8470588235294118, 0.8117647058823529], [0.8666666666666667, 0.8588235294117647, 0.807843137254902], [0.8509803921568627, 0.8431372549019608, 0.8], [0.8627450980392157, 0.8588235294117647, 0.8235294117647058], [0.8745098039215686, 0.8745098039215686, 0.8392156862745098], [0.8666666666666667, 0.8627450980392157, 0.8313725490196079]], [[0.5882352941176471, 0.6039215686274509, 0.592156862745098], [0.5882352941176471, 0.6039215686274509, 0.592156862745098], [0.6039215686274509, 0.6196078431372549, 0.611764705882353], [0.6392156862745098, 0.6588235294117647, 0.6470588235294118], [0.6392156862745098, 0.6588235294117647, 0.6392156862745098], [0.596078431372549, 0.615686274509804, 0.592156862745098], [0.5803921568627451, 0.6, 0.5764705882352941], [0.5568627450980392, 0.5764705882352941, 0.5568627450980392], [0.5294117647058824, 0.5450980392156862, 0.5254901960784314], [0.5294117647058824, 0.5372549019607843, 0.5215686274509804], [0.5058823529411764, 0.5137254901960784, 0.4980392156862745], [0.4666666666666667, 0.4745098039215686, 0.4588235294117647], [0.47058823529411764, 0.4823529411764706, 0.4666666666666667], [0.5019607843137255, 0.5098039215686274, 0.49411764705882355], [0.5254901960784314, 0.5450980392156862, 0.5215686274509804], [0.5607843137254902, 0.5803921568627451, 0.5568627450980392], [0.5843137254901961, 0.6039215686274509, 0.5803921568627451], [0.6196078431372549, 0.6392156862745098, 0.615686274509804], [0.6666666666666666, 0.6823529411764706, 0.6588235294117647], [0.6941176470588235, 0.6980392156862745, 0.6745098039215687], [0.7098039215686275, 0.7098039215686275, 0.6862745098039216], [0.7372549019607844, 0.7372549019607844, 0.7176470588235294], [0.7529411764705882, 0.7529411764705882, 0.7294117647058823], [0.7647058823529411, 0.7647058823529411, 0.7411764705882353], [0.788235294117647, 0.7764705882352941, 0.7490196078431373], [0.8, 0.788235294117647, 0.7607843137254902], [0.807843137254902, 0.796078431372549, 0.7647058823529411], [0.8274509803921568, 0.8156862745098039, 0.7843137254901961], [0.8313725490196079, 0.8196078431372549, 0.788235294117647], [0.8470588235294118, 0.8352941176470589, 0.807843137254902], [0.8470588235294118, 0.8392156862745098, 0.8117647058823529], [0.8509803921568627, 0.8431372549019608, 0.8156862745098039]], [[0.7490196078431373, 0.7647058823529411, 0.7607843137254902], [0.7450980392156863, 0.7607843137254902, 0.7568627450980392], [0.7137254901960784, 0.7294117647058823, 0.7254901960784313], [0.6901960784313725, 0.7058823529411765, 0.6980392156862745], [0.6784313725490196, 0.6980392156862745, 0.6784313725490196], [0.6666666666666666, 0.6862745098039216, 0.6627450980392157], [0.6941176470588235, 0.7137254901960784, 0.6901960784313725], [0.6941176470588235, 0.7137254901960784, 0.6901960784313725], [0.6823529411764706, 0.7019607843137254, 0.6784313725490196], [0.6862745098039216, 0.6941176470588235, 0.6705882352941176], [0.6666666666666666, 0.6705882352941176, 0.6470588235294118], [0.6431372549019608, 0.6470588235294118, 0.6235294117647059], [0.6352941176470588, 0.6392156862745098, 0.615686274509804], [0.6392156862745098, 0.6470588235294118, 0.6235294117647059], [0.615686274509804, 0.6313725490196078, 0.6078431372549019], [0.5647058823529412, 0.5843137254901961, 0.5607843137254902], [0.5607843137254902, 0.5803921568627451, 0.5568627450980392], [0.5725490196078431, 0.592156862745098, 0.5686274509803921], [0.5803921568627451, 0.596078431372549, 0.5764705882352941], [0.5843137254901961, 0.592156862745098, 0.5725490196078431], [0.6, 0.6, 0.5803921568627451], [0.6196078431372549, 0.6196078431372549, 0.6039215686274509], [0.6235294117647059, 0.6274509803921569, 0.6078431372549019], [0.6274509803921569, 0.6274509803921569, 0.6078431372549019], [0.6431372549019608, 0.6352941176470588, 0.611764705882353], [0.6509803921568628, 0.6431372549019608, 0.6196078431372549], [0.6549019607843137, 0.6470588235294118, 0.6235294117647059], [0.6901960784313725, 0.6784313725490196, 0.6549019607843137], [0.7058823529411765, 0.6980392156862745, 0.6745098039215687], [0.7058823529411765, 0.6980392156862745, 0.6745098039215687], [0.7137254901960784, 0.7058823529411765, 0.6823529411764706], [0.7372549019607844, 0.7294117647058823, 0.7058823529411765]], [[0.6941176470588235, 0.7098039215686275, 0.7058823529411765], [0.7215686274509804, 0.7372549019607844, 0.7333333333333333], [0.7254901960784313, 0.7411764705882353, 0.7372549019607844], [0.7019607843137254, 0.7176470588235294, 0.7098039215686275], [0.6941176470588235, 0.7137254901960784, 0.6941176470588235], [0.6980392156862745, 0.7176470588235294, 0.6941176470588235], [0.7019607843137254, 0.7215686274509804, 0.6980392156862745], [0.6980392156862745, 0.7176470588235294, 0.6941176470588235], [0.7176470588235294, 0.7333333333333333, 0.7098039215686275], [0.6980392156862745, 0.7058823529411765, 0.6823529411764706], [0.6901960784313725, 0.6941176470588235, 0.6705882352941176], [0.7607843137254902, 0.7647058823529411, 0.7411764705882353], [0.7764705882352941, 0.7803921568627451, 0.7568627450980392], [0.7450980392156863, 0.7490196078431373, 0.7254901960784313], [0.6705882352941176, 0.6862745098039216, 0.6627450980392157], [0.5803921568627451, 0.6, 0.5764705882352941], [0.5686274509803921, 0.5882352941176471, 0.5647058823529412], [0.5686274509803921, 0.592156862745098, 0.5647058823529412], [0.5764705882352941, 0.592156862745098, 0.5686274509803921], [0.5843137254901961, 0.592156862745098, 0.5725490196078431], [0.592156862745098, 0.596078431372549, 0.5764705882352941], [0.6, 0.6039215686274509, 0.5843137254901961], [0.592156862745098, 0.6, 0.5764705882352941], [0.5843137254901961, 0.592156862745098, 0.5725490196078431], [0.5882352941176471, 0.5882352941176471, 0.5686274509803921], [0.5882352941176471, 0.5882352941176471, 0.5686274509803921], [0.5843137254901961, 0.5843137254901961, 0.5647058823529412], [0.596078431372549, 0.592156862745098, 0.5725490196078431], [0.6, 0.6, 0.5803921568627451], [0.6039215686274509, 0.6039215686274509, 0.5843137254901961], [0.6039215686274509, 0.6039215686274509, 0.5843137254901961], [0.596078431372549, 0.596078431372549, 0.5764705882352941]], [[0.5568627450980392, 0.5725490196078431, 0.5686274509803921], [0.5686274509803921, 0.5843137254901961, 0.5803921568627451], [0.592156862745098, 0.6078431372549019, 0.6039215686274509], [0.611764705882353, 0.6274509803921569, 0.6235294117647059], [0.6313725490196078, 0.6509803921568628, 0.6313725490196078], [0.6235294117647059, 0.6431372549019608, 0.6196078431372549], [0.6392156862745098, 0.6588235294117647, 0.6352941176470588], [0.6627450980392157, 0.6823529411764706, 0.6588235294117647], [0.6784313725490196, 0.6980392156862745, 0.6745098039215687], [0.7019607843137254, 0.7058823529411765, 0.6862745098039216], [0.7333333333333333, 0.7372549019607844, 0.7137254901960784], [0.7333333333333333, 0.7372549019607844, 0.7137254901960784], [0.6784313725490196, 0.6823529411764706, 0.6588235294117647], [0.6196078431372549, 0.6235294117647059, 0.6], [0.5803921568627451, 0.6, 0.5764705882352941], [0.5607843137254902, 0.5803921568627451, 0.5568627450980392], [0.5607843137254902, 0.5803921568627451, 0.5568627450980392], [0.5607843137254902, 0.5803921568627451, 0.5568627450980392], [0.5686274509803921, 0.5843137254901961, 0.5647058823529412], [0.5686274509803921, 0.5843137254901961, 0.5647058823529412], [0.5725490196078431, 0.5843137254901961, 0.5647058823529412], [0.5764705882352941, 0.592156862745098, 0.5725490196078431], [0.5764705882352941, 0.592156862745098, 0.5686274509803921], [0.5764705882352941, 0.5882352941176471, 0.5686274509803921], [0.5803921568627451, 0.5843137254901961, 0.5725490196078431], [0.5803921568627451, 0.5803921568627451, 0.5686274509803921], [0.5764705882352941, 0.5803921568627451, 0.5647058823529412], [0.5803921568627451, 0.5803921568627451, 0.5686274509803921], [0.5843137254901961, 0.5843137254901961, 0.5725490196078431], [0.5843137254901961, 0.5882352941176471, 0.5725490196078431], [0.5764705882352941, 0.5803921568627451, 0.5647058823529412], [0.5686274509803921, 0.5686274509803921, 0.5568627450980392]]]]}'"
      ]
     },
     "execution_count": 32,
     "metadata": {},
     "output_type": "execute_result"
    }
   ],
   "source": [
    "data"
   ]
  },
  {
   "cell_type": "markdown",
   "metadata": {},
   "source": [
    "## Enviando a primeira requisição POST para o modelo"
   ]
  },
  {
   "cell_type": "code",
   "execution_count": 33,
   "metadata": {},
   "outputs": [],
   "source": [
    "headers = {\"content-type\": \"application/json\"}"
   ]
  },
  {
   "cell_type": "code",
   "execution_count": 34,
   "metadata": {},
   "outputs": [],
   "source": [
    "json_response = requests.post(url=\"http://localhost:8501/v1/models/cifar10:predict\", data = data, headers = headers)"
   ]
  },
  {
   "cell_type": "code",
   "execution_count": 35,
   "metadata": {},
   "outputs": [
    {
     "data": {
      "text/plain": [
       "<Response [200]>"
      ]
     },
     "execution_count": 35,
     "metadata": {},
     "output_type": "execute_result"
    }
   ],
   "source": [
    "json_response"
   ]
  },
  {
   "cell_type": "code",
   "execution_count": 36,
   "metadata": {},
   "outputs": [],
   "source": [
    "predictions = json.loads(json_response.text)['predictions']"
   ]
  },
  {
   "cell_type": "code",
   "execution_count": 37,
   "metadata": {},
   "outputs": [
    {
     "data": {
      "text/plain": [
       "[[2.87701391e-06,\n",
       "  0.00665757386,\n",
       "  1.19333554e-05,\n",
       "  2.52282177e-07,\n",
       "  1.05773688e-05,\n",
       "  0.000113959752,\n",
       "  2.27214491e-06,\n",
       "  1.90444389e-05,\n",
       "  0.00241504284,\n",
       "  0.990766406]]"
      ]
     },
     "execution_count": 37,
     "metadata": {},
     "output_type": "execute_result"
    }
   ],
   "source": [
    "predictions"
   ]
  },
  {
   "cell_type": "code",
   "execution_count": 38,
   "metadata": {
    "scrolled": true
   },
   "outputs": [
    {
     "data": {
      "text/plain": [
       "<matplotlib.image.AxesImage at 0x7fc827b97710>"
      ]
     },
     "execution_count": 38,
     "metadata": {},
     "output_type": "execute_result"
    },
    {
     "data": {
      "image/png": "[encoded data removed]",
      "text/plain": [
       "<Figure size 432x288 with 1 Axes>"
      ]
     },
     "metadata": {
      "needs_background": "light"
     },
     "output_type": "display_data"
    }
   ],
   "source": [
    "plt.imshow(X_test[random_image])"
   ]
  },
  {
   "cell_type": "code",
   "execution_count": 39,
   "metadata": {},
   "outputs": [
    {
     "data": {
      "text/plain": [
       "'truck'"
      ]
     },
     "execution_count": 39,
     "metadata": {},
     "output_type": "execute_result"
    }
   ],
   "source": [
    "class_names[np.argmax(predictions[0])]"
   ]
  },
  {
   "cell_type": "markdown",
   "metadata": {},
   "source": [
    "# Etapa 8: Enviando a requisição POST para um modelo específico que está armazendo no servidor"
   ]
  },
  {
   "cell_type": "code",
   "execution_count": 40,
   "metadata": {},
   "outputs": [],
   "source": [
    "specific_json_response = requests.post(url=\"http://localhost:8501/v1/models/cifar10/versions/1:predict\", data = data, headers = headers)"
   ]
  },
  {
   "cell_type": "code",
   "execution_count": 41,
   "metadata": {},
   "outputs": [
    {
     "data": {
      "text/plain": [
       "<Response [200]>"
      ]
     },
     "execution_count": 41,
     "metadata": {},
     "output_type": "execute_result"
    }
   ],
   "source": [
    "specific_json_response"
   ]
  }
 ],
 "metadata": {
  "kernelspec": {
   "display_name": "Python 3",
   "language": "python",
   "name": "python3"
  },
  "language_info": {
   "codemirror_mode": {
    "name": "ipython",
    "version": 3
   },
   "file_extension": ".py",
   "mimetype": "text/x-python",
   "name": "python",
   "nbconvert_exporter": "python",
   "pygments_lexer": "ipython3",
   "version": "3.6.9"
  }
 },
 "nbformat": 4,
 "nbformat_minor": 2
}
